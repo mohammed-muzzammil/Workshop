{
 "cells": [
  {
   "cell_type": "code",
   "execution_count": 2,
   "metadata": {},
   "outputs": [],
   "source": [
    "#Python - An Introduction - 10"
   ]
  },
  {
   "cell_type": "code",
   "execution_count": 4,
   "metadata": {},
   "outputs": [],
   "source": [
    "#How to install python? \n",
    "#Functional programming - Borrowed from C programming\n",
    "#OOPs (Object oriented programming language)  - C ++\n",
    " "
   ]
  },
  {
   "cell_type": "code",
   "execution_count": null,
   "metadata": {},
   "outputs": [],
   "source": []
  },
  {
   "cell_type": "code",
   "execution_count": null,
   "metadata": {},
   "outputs": [],
   "source": []
  },
  {
   "cell_type": "code",
   "execution_count": 5,
   "metadata": {},
   "outputs": [],
   "source": [
    "#Where can we use python?\n",
    "#Desktop Application - Where internet is not required , for example Calculators\n",
    "#Web application - Django, Flask, Tikinter \n",
    "#Database related applications \n",
    "#For networking applications \n",
    "#Games\n",
    "#Data Analytics / Data Science\n",
    "    #Machine Learning \n",
    "#Artificial Intelligence \n",
    "#IOT Aplications "
   ]
  },
  {
   "cell_type": "code",
   "execution_count": 6,
   "metadata": {},
   "outputs": [],
   "source": [
    "#Which companies are using Python?\n",
    "#Google \n",
    "#Facebook\n",
    "#Apple \n",
    "#Microsoft\n",
    "#Youtube\n",
    "#NASA\n",
    "#Dropbox"
   ]
  },
  {
   "cell_type": "code",
   "execution_count": 11,
   "metadata": {},
   "outputs": [],
   "source": [
    "#Features of Python \n",
    "#Simple and easy to learn \n",
    "#High level programming language - Human able to understand\n",
    "#Platform independent - Can run the program in any machine or OS - WORA (Write once and run anywhere)\n",
    "#Portability - No changes required to move the code from Windows to Unix\n",
    "#Rich Libraries "
   ]
  },
  {
   "cell_type": "code",
   "execution_count": null,
   "metadata": {},
   "outputs": [],
   "source": []
  },
  {
   "cell_type": "code",
   "execution_count": null,
   "metadata": {},
   "outputs": [],
   "source": []
  },
  {
   "cell_type": "code",
   "execution_count": 14,
   "metadata": {},
   "outputs": [],
   "source": []
  },
  {
   "cell_type": "code",
   "execution_count": 17,
   "metadata": {},
   "outputs": [],
   "source": []
  },
  {
   "cell_type": "code",
   "execution_count": 18,
   "metadata": {},
   "outputs": [],
   "source": [
    "#Python Versions \n",
    "#Python 1.0 - Jan 1994\n",
    "#Python 2.0 - Oct 2000\n",
    "#Python 3.0 - Dec 2008\n",
    "#Python 3.6.3 - Feb 2016\n",
    "#Python 3.8.2 - 2020"
   ]
  },
  {
   "cell_type": "code",
   "execution_count": 3,
   "metadata": {},
   "outputs": [],
   "source": [
    "#Python Identifiers  - 10\n",
    "x = 10\n",
    "#def f1():\n",
    "\n",
    "#class Test():\n",
    "#A Python identifier is a name used to identify a variable, function, class, module or other object.\n",
    "#A name in Python is an identifier - Variable name, class name, method name, function name "
   ]
  },
  {
   "cell_type": "code",
   "execution_count": 42,
   "metadata": {},
   "outputs": [],
   "source": [
    "#Rules of defining identifiers in Python \n",
    "#alphabets (both upper or lower)\n",
    "#digits (0 - 9)\n",
    "#Underscores (_)\n",
    "# it always have to start with a alphabet or underscore\n",
    "money = 100\n",
    "MONEY=50\n",
    "Money=200\n",
    "total123 =100\n",
    "tot123al=100\n",
    "#Wrong 123Total=100\n",
    "_money=100\n",
    "#No limit of length of an identifier\n"
   ]
  },
  {
   "cell_type": "code",
   "execution_count": 9,
   "metadata": {},
   "outputs": [],
   "source": [
    "money= 100"
   ]
  },
  {
   "cell_type": "code",
   "execution_count": 50,
   "metadata": {},
   "outputs": [],
   "source": [
    "#Reserved Keywords \n",
    "#Word with some meaning or functionality\n",
    "#True, False, None\n",
    "#and, or, not, is\n",
    "#if, else, elif\n",
    "#while, for, break, continue, return, in, yield\n",
    "#try, except, finally, raise, assert\n",
    "#import, from , as , class , def, pass, global, nonlocal, lambda, del , with, async , await\n",
    "#Note:\n",
    "#All the reserved keywords consists of alphabets \n",
    "#Excecpt True, False and None rest of the keywords are only in the lowercase"
   ]
  },
  {
   "cell_type": "code",
   "execution_count": 12,
   "metadata": {},
   "outputs": [
    {
     "data": {
      "text/plain": [
       "['False',\n",
       " 'None',\n",
       " 'True',\n",
       " 'and',\n",
       " 'as',\n",
       " 'assert',\n",
       " 'break',\n",
       " 'class',\n",
       " 'continue',\n",
       " 'def',\n",
       " 'del',\n",
       " 'elif',\n",
       " 'else',\n",
       " 'except',\n",
       " 'finally',\n",
       " 'for',\n",
       " 'from',\n",
       " 'global',\n",
       " 'if',\n",
       " 'import',\n",
       " 'in',\n",
       " 'is',\n",
       " 'lambda',\n",
       " 'nonlocal',\n",
       " 'not',\n",
       " 'or',\n",
       " 'pass',\n",
       " 'raise',\n",
       " 'return',\n",
       " 'try',\n",
       " 'while',\n",
       " 'with',\n",
       " 'yield']"
      ]
     },
     "execution_count": 12,
     "metadata": {},
     "output_type": "execute_result"
    }
   ],
   "source": [
    "import keyword\n",
    "keyword.kwlist"
   ]
  },
  {
   "cell_type": "code",
   "execution_count": 26,
   "metadata": {},
   "outputs": [],
   "source": [
    "#Data types are the classification or categorization of data items.\n",
    "#It represents the kind of value that tells what operations can be performed on a particular data\n",
    "\n",
    "\n",
    "#Types of DataTypes - 20\n",
    "#Int\n",
    "#Float\n",
    "#Complex\n",
    "#Bool\n",
    "#Str"
   ]
  },
  {
   "cell_type": "code",
   "execution_count": 11,
   "metadata": {},
   "outputs": [],
   "source": [
    "a = 10\n",
    "b = 30"
   ]
  },
  {
   "cell_type": "markdown",
   "metadata": {},
   "source": [
    "# INT"
   ]
  },
  {
   "cell_type": "code",
   "execution_count": 12,
   "metadata": {},
   "outputs": [
    {
     "data": {
      "text/plain": [
       "int"
      ]
     },
     "execution_count": 12,
     "metadata": {},
     "output_type": "execute_result"
    }
   ],
   "source": [
    "type(a)\n",
    "\n",
    "#Int, or integer, is a whole number, positive or negative, without decimals, of unlimited length."
   ]
  },
  {
   "cell_type": "markdown",
   "metadata": {},
   "source": [
    "# Float\n"
   ]
  },
  {
   "cell_type": "code",
   "execution_count": 14,
   "metadata": {},
   "outputs": [],
   "source": [
    "petrol = 89.56\n",
    "salary = 4500.65\n",
    "#float (floating point real values) − Also called floats, they represent real numbers \n",
    "#and are written with a decimal point dividing the integer and fractional parts.\n"
   ]
  },
  {
   "cell_type": "code",
   "execution_count": 15,
   "metadata": {},
   "outputs": [
    {
     "data": {
      "text/plain": [
       "float"
      ]
     },
     "execution_count": 15,
     "metadata": {},
     "output_type": "execute_result"
    }
   ],
   "source": [
    "type(petrol)"
   ]
  },
  {
   "cell_type": "markdown",
   "metadata": {},
   "source": [
    "# String"
   ]
  },
  {
   "cell_type": "code",
   "execution_count": 18,
   "metadata": {},
   "outputs": [],
   "source": [
    "name = 'muzzammil'\n",
    "\n",
    "s = 'Python'\n",
    "\n",
    "#A string in Python is a sequence of characters"
   ]
  },
  {
   "cell_type": "code",
   "execution_count": 17,
   "metadata": {},
   "outputs": [
    {
     "data": {
      "text/plain": [
       "str"
      ]
     },
     "execution_count": 17,
     "metadata": {},
     "output_type": "execute_result"
    }
   ],
   "source": [
    "type(name)"
   ]
  },
  {
   "cell_type": "code",
   "execution_count": null,
   "metadata": {},
   "outputs": [],
   "source": []
  },
  {
   "cell_type": "code",
   "execution_count": 19,
   "metadata": {},
   "outputs": [
    {
     "data": {
      "text/plain": [
       "'P'"
      ]
     },
     "execution_count": 19,
     "metadata": {},
     "output_type": "execute_result"
    }
   ],
   "source": [
    "s[0]\n"
   ]
  },
  {
   "cell_type": "code",
   "execution_count": 22,
   "metadata": {},
   "outputs": [
    {
     "data": {
      "text/plain": [
       "'Py'"
      ]
     },
     "execution_count": 22,
     "metadata": {},
     "output_type": "execute_result"
    }
   ],
   "source": [
    "s[0:2]"
   ]
  },
  {
   "cell_type": "code",
   "execution_count": null,
   "metadata": {},
   "outputs": [],
   "source": []
  },
  {
   "cell_type": "markdown",
   "metadata": {},
   "source": [
    " "
   ]
  },
  {
   "cell_type": "markdown",
   "metadata": {},
   "source": [
    "# Boolean"
   ]
  },
  {
   "cell_type": "code",
   "execution_count": 25,
   "metadata": {},
   "outputs": [],
   "source": [
    "bool1 = 12"
   ]
  },
  {
   "cell_type": "code",
   "execution_count": 20,
   "metadata": {},
   "outputs": [],
   "source": [
    "bool2 = False"
   ]
  },
  {
   "cell_type": "code",
   "execution_count": 26,
   "metadata": {},
   "outputs": [
    {
     "data": {
      "text/plain": [
       "int"
      ]
     },
     "execution_count": 26,
     "metadata": {},
     "output_type": "execute_result"
    }
   ],
   "source": [
    "type(bool1)"
   ]
  },
  {
   "cell_type": "code",
   "execution_count": null,
   "metadata": {},
   "outputs": [],
   "source": []
  },
  {
   "cell_type": "markdown",
   "metadata": {},
   "source": [
    "# List"
   ]
  },
  {
   "cell_type": "code",
   "execution_count": 30,
   "metadata": {},
   "outputs": [],
   "source": [
    "# What is list? -15\n",
    "# list is a collection data type used to store multiple values.\n",
    "\n",
    "\n",
    "list1 = [21,21,34,22,45,100, 'muzzammil', True, 10.1]"
   ]
  },
  {
   "cell_type": "code",
   "execution_count": 27,
   "metadata": {},
   "outputs": [],
   "source": [
    "grocery_list = ['Salt','sugar','Dhaniya', 21, 22, 78, 75, 12.8, 25.7]"
   ]
  },
  {
   "cell_type": "code",
   "execution_count": 31,
   "metadata": {},
   "outputs": [
    {
     "data": {
      "text/plain": [
       "['Salt', 'sugar', 'Dhaniya', 21, 22, 78, 75, 12.8, 25.7]"
      ]
     },
     "execution_count": 31,
     "metadata": {},
     "output_type": "execute_result"
    }
   ],
   "source": [
    "grocery_list"
   ]
  },
  {
   "cell_type": "code",
   "execution_count": 4,
   "metadata": {},
   "outputs": [],
   "source": [
    "#Insertion order is preserved\n",
    "#Duplicates are allowed\n",
    "#Heterogeneous data allowed\n",
    "#Growable in nature\n",
    "#Values should be enclosed with square bracket \n"
   ]
  },
  {
   "cell_type": "code",
   "execution_count": null,
   "metadata": {},
   "outputs": [],
   "source": [
    "# access elements from the list\n",
    "\n",
    "\n"
   ]
  },
  {
   "cell_type": "code",
   "execution_count": 42,
   "metadata": {},
   "outputs": [],
   "source": [
    "list1.append(78)\n"
   ]
  },
  {
   "cell_type": "code",
   "execution_count": 38,
   "metadata": {},
   "outputs": [
    {
     "data": {
      "text/plain": [
       "[21, 21, 34, 22, 45, 100, 'muzzammil', True, 10.1, 10, 78]"
      ]
     },
     "execution_count": 38,
     "metadata": {},
     "output_type": "execute_result"
    }
   ],
   "source": [
    "list1\n"
   ]
  },
  {
   "cell_type": "code",
   "execution_count": 39,
   "metadata": {},
   "outputs": [],
   "source": [
    "list2 = list1.copy()"
   ]
  },
  {
   "cell_type": "code",
   "execution_count": 40,
   "metadata": {},
   "outputs": [
    {
     "data": {
      "text/plain": [
       "[21, 21, 34, 22, 45, 100, 'muzzammil', True, 10.1, 10, 78]"
      ]
     },
     "execution_count": 40,
     "metadata": {},
     "output_type": "execute_result"
    }
   ],
   "source": [
    "list2"
   ]
  },
  {
   "cell_type": "code",
   "execution_count": 43,
   "metadata": {},
   "outputs": [],
   "source": [
    "list1.extend([21, 45 ,78])"
   ]
  },
  {
   "cell_type": "code",
   "execution_count": 44,
   "metadata": {},
   "outputs": [
    {
     "data": {
      "text/plain": [
       "[21, 21, 34, 22, 45, 100, 'muzzammil', True, 10.1, 10, 78, 78, 21, 45, 78]"
      ]
     },
     "execution_count": 44,
     "metadata": {},
     "output_type": "execute_result"
    }
   ],
   "source": [
    "list1"
   ]
  },
  {
   "cell_type": "code",
   "execution_count": 45,
   "metadata": {},
   "outputs": [
    {
     "data": {
      "text/plain": [
       "3"
      ]
     },
     "execution_count": 45,
     "metadata": {},
     "output_type": "execute_result"
    }
   ],
   "source": [
    "list1.index(22)"
   ]
  },
  {
   "cell_type": "code",
   "execution_count": 46,
   "metadata": {},
   "outputs": [],
   "source": [
    "list1.insert(2,74)"
   ]
  },
  {
   "cell_type": "code",
   "execution_count": 47,
   "metadata": {},
   "outputs": [
    {
     "name": "stdout",
     "output_type": "stream",
     "text": [
      "[21, 21, 74, 34, 22, 45, 100, 'muzzammil', True, 10.1, 10, 78, 78, 21, 45, 78]\n"
     ]
    }
   ],
   "source": [
    "print(list1)"
   ]
  },
  {
   "cell_type": "code",
   "execution_count": 50,
   "metadata": {},
   "outputs": [
    {
     "data": {
      "text/plain": [
       "74"
      ]
     },
     "execution_count": 50,
     "metadata": {},
     "output_type": "execute_result"
    }
   ],
   "source": [
    "list1.pop(2)"
   ]
  },
  {
   "cell_type": "code",
   "execution_count": 51,
   "metadata": {},
   "outputs": [
    {
     "data": {
      "text/plain": [
       "[21, 21, 34, 45, 100, 'muzzammil', True, 10.1, 10, 78, 78, 21, 45, 78]"
      ]
     },
     "execution_count": 51,
     "metadata": {},
     "output_type": "execute_result"
    }
   ],
   "source": [
    "list1"
   ]
  },
  {
   "cell_type": "code",
   "execution_count": 53,
   "metadata": {},
   "outputs": [
    {
     "data": {
      "text/plain": [
       "[21, 21, 34, 45, 100, True, 10.1, 10, 78, 78, 21, 45, 78]"
      ]
     },
     "execution_count": 53,
     "metadata": {},
     "output_type": "execute_result"
    }
   ],
   "source": [
    "list1"
   ]
  },
  {
   "cell_type": "code",
   "execution_count": 52,
   "metadata": {},
   "outputs": [],
   "source": [
    "list1.remove('muzzammil')\n",
    "\n"
   ]
  },
  {
   "cell_type": "code",
   "execution_count": 54,
   "metadata": {},
   "outputs": [],
   "source": [
    "list1.reverse()"
   ]
  },
  {
   "cell_type": "code",
   "execution_count": 55,
   "metadata": {},
   "outputs": [
    {
     "data": {
      "text/plain": [
       "[78, 45, 21, 78, 78, 10, 10.1, True, 100, 45, 34, 21, 21]"
      ]
     },
     "execution_count": 55,
     "metadata": {},
     "output_type": "execute_result"
    }
   ],
   "source": [
    "list1"
   ]
  },
  {
   "cell_type": "code",
   "execution_count": 58,
   "metadata": {},
   "outputs": [],
   "source": [
    "list1.sort(reverse = True)"
   ]
  },
  {
   "cell_type": "code",
   "execution_count": 59,
   "metadata": {},
   "outputs": [
    {
     "data": {
      "text/plain": [
       "[100, 78, 78, 78, 45, 45, 34, 21, 21, 21, 10.1, 10, True]"
      ]
     },
     "execution_count": 59,
     "metadata": {},
     "output_type": "execute_result"
    }
   ],
   "source": [
    "list1"
   ]
  },
  {
   "cell_type": "code",
   "execution_count": 60,
   "metadata": {},
   "outputs": [],
   "source": [
    "del list1"
   ]
  },
  {
   "cell_type": "code",
   "execution_count": 61,
   "metadata": {},
   "outputs": [
    {
     "ename": "NameError",
     "evalue": "name 'list1' is not defined",
     "output_type": "error",
     "traceback": [
      "\u001b[1;31m---------------------------------------------------------------------------\u001b[0m",
      "\u001b[1;31mNameError\u001b[0m                                 Traceback (most recent call last)",
      "\u001b[1;32m<ipython-input-61-32e3a55f6bef>\u001b[0m in \u001b[0;36m<module>\u001b[1;34m()\u001b[0m\n\u001b[1;32m----> 1\u001b[1;33m \u001b[0mlist1\u001b[0m\u001b[1;33m\u001b[0m\u001b[1;33m\u001b[0m\u001b[0m\n\u001b[0m",
      "\u001b[1;31mNameError\u001b[0m: name 'list1' is not defined"
     ]
    }
   ],
   "source": [
    "list1"
   ]
  },
  {
   "cell_type": "markdown",
   "metadata": {},
   "source": [
    "# Tuple\n"
   ]
  },
  {
   "cell_type": "code",
   "execution_count": 25,
   "metadata": {},
   "outputs": [],
   "source": [
    "#Tuple items are ordered, unchangeable, and allow duplicate values. - 5\n",
    "#When we say that tuples are ordered, it means that the items have a defined order, and that order will not change"
   ]
  },
  {
   "cell_type": "code",
   "execution_count": 66,
   "metadata": {},
   "outputs": [],
   "source": [
    "mytuple = (12,14,25,12)"
   ]
  },
  {
   "cell_type": "code",
   "execution_count": 67,
   "metadata": {},
   "outputs": [
    {
     "data": {
      "text/plain": [
       "2"
      ]
     },
     "execution_count": 67,
     "metadata": {},
     "output_type": "execute_result"
    }
   ],
   "source": [
    "mytuple.count(12)"
   ]
  },
  {
   "cell_type": "code",
   "execution_count": 69,
   "metadata": {},
   "outputs": [
    {
     "data": {
      "text/plain": [
       "0"
      ]
     },
     "execution_count": 69,
     "metadata": {},
     "output_type": "execute_result"
    }
   ],
   "source": [
    "mytuple.index(12)"
   ]
  },
  {
   "cell_type": "markdown",
   "metadata": {},
   "source": [
    "Sets"
   ]
  },
  {
   "cell_type": "markdown",
   "metadata": {},
   "source": [
    "# Sets"
   ]
  },
  {
   "cell_type": "code",
   "execution_count": 36,
   "metadata": {},
   "outputs": [],
   "source": [
    "#Duplicate is not allowed  - 10\n",
    "#Orders will not be preserved \n",
    "#indexing and slicing is not available \n",
    "#Heterogeneous data is allowed\n",
    "#Mutable "
   ]
  },
  {
   "cell_type": "code",
   "execution_count": 70,
   "metadata": {},
   "outputs": [],
   "source": [
    "sets = {12, 25, 1, 16 , 78}\n"
   ]
  },
  {
   "cell_type": "code",
   "execution_count": 72,
   "metadata": {},
   "outputs": [],
   "source": [
    "s1 = {78 ,90, 10}"
   ]
  },
  {
   "cell_type": "code",
   "execution_count": 73,
   "metadata": {},
   "outputs": [
    {
     "data": {
      "text/plain": [
       "{1, 12, 16, 25}"
      ]
     },
     "execution_count": 73,
     "metadata": {},
     "output_type": "execute_result"
    }
   ],
   "source": [
    "sets.difference(s1)"
   ]
  },
  {
   "cell_type": "code",
   "execution_count": 75,
   "metadata": {},
   "outputs": [
    {
     "data": {
      "text/plain": [
       "{1, 16, 25, 78}"
      ]
     },
     "execution_count": 75,
     "metadata": {},
     "output_type": "execute_result"
    }
   ],
   "source": [
    "sets"
   ]
  },
  {
   "cell_type": "code",
   "execution_count": 74,
   "metadata": {},
   "outputs": [],
   "source": [
    "sets.discard(12)"
   ]
  },
  {
   "cell_type": "markdown",
   "metadata": {},
   "source": [
    "# Dictionary"
   ]
  },
  {
   "cell_type": "code",
   "execution_count": 86,
   "metadata": {},
   "outputs": [],
   "source": [
    "#Key Value Pair - 20\n",
    "cd = {'cid':[1,2,3,4,5],\n",
    "     'cname':['a','b','c','d','e']}"
   ]
  },
  {
   "cell_type": "code",
   "execution_count": 69,
   "metadata": {},
   "outputs": [],
   "source": [
    "#Mutable \n",
    "# customer example"
   ]
  },
  {
   "cell_type": "code",
   "execution_count": 76,
   "metadata": {},
   "outputs": [],
   "source": [
    "dictionary = {'Chapter Name': [1, 2 , 3, 4],\n",
    "            'Page no' : [12,15,14,96] }"
   ]
  },
  {
   "cell_type": "code",
   "execution_count": 77,
   "metadata": {},
   "outputs": [
    {
     "data": {
      "text/plain": [
       "{'Chapter Name': [1, 2, 3, 4], 'Page no': [12, 15, 14, 96]}"
      ]
     },
     "execution_count": 77,
     "metadata": {},
     "output_type": "execute_result"
    }
   ],
   "source": [
    "dictionary"
   ]
  },
  {
   "cell_type": "code",
   "execution_count": 78,
   "metadata": {},
   "outputs": [],
   "source": [
    "dic1 = dictionary.copy()"
   ]
  },
  {
   "cell_type": "code",
   "execution_count": 79,
   "metadata": {},
   "outputs": [
    {
     "data": {
      "text/plain": [
       "{'Chapter Name': [1, 2, 3, 4], 'Page no': [12, 15, 14, 96]}"
      ]
     },
     "execution_count": 79,
     "metadata": {},
     "output_type": "execute_result"
    }
   ],
   "source": [
    "dic1"
   ]
  },
  {
   "cell_type": "code",
   "execution_count": 63,
   "metadata": {},
   "outputs": [],
   "source": [
    "dc=cd.fromkeys({'cid','cname'})\n",
    "#skeleton"
   ]
  },
  {
   "cell_type": "code",
   "execution_count": 80,
   "metadata": {},
   "outputs": [
    {
     "data": {
      "text/plain": [
       "[1, 2, 3, 4]"
      ]
     },
     "execution_count": 80,
     "metadata": {},
     "output_type": "execute_result"
    }
   ],
   "source": [
    "dictionary.get('Chapter Name')"
   ]
  },
  {
   "cell_type": "code",
   "execution_count": 85,
   "metadata": {},
   "outputs": [
    {
     "data": {
      "text/plain": [
       "{'Page no': [12, 15, 14, 96], 'name': None}"
      ]
     },
     "execution_count": 85,
     "metadata": {},
     "output_type": "execute_result"
    }
   ],
   "source": [
    "dictionary"
   ]
  },
  {
   "cell_type": "code",
   "execution_count": 89,
   "metadata": {},
   "outputs": [
    {
     "data": {
      "text/plain": [
       "dict_values([[12, 15, 14, 96], None, [1, 2, 3, 4, 5], ['a', 'b', 'c', 'd', 'e']])"
      ]
     },
     "execution_count": 89,
     "metadata": {},
     "output_type": "execute_result"
    }
   ],
   "source": [
    "dictionary.values()"
   ]
  },
  {
   "cell_type": "code",
   "execution_count": 84,
   "metadata": {},
   "outputs": [],
   "source": [
    "dictionary.setdefault('name')\n",
    "# add more keys"
   ]
  },
  {
   "cell_type": "code",
   "execution_count": 87,
   "metadata": {},
   "outputs": [],
   "source": [
    "dictionary.update(cd)"
   ]
  },
  {
   "cell_type": "code",
   "execution_count": 88,
   "metadata": {},
   "outputs": [
    {
     "data": {
      "text/plain": [
       "{'Page no': [12, 15, 14, 96],\n",
       " 'cid': [1, 2, 3, 4, 5],\n",
       " 'cname': ['a', 'b', 'c', 'd', 'e'],\n",
       " 'name': None}"
      ]
     },
     "execution_count": 88,
     "metadata": {},
     "output_type": "execute_result"
    }
   ],
   "source": [
    "dictionary"
   ]
  },
  {
   "cell_type": "code",
   "execution_count": 89,
   "metadata": {},
   "outputs": [
    {
     "name": "stdout",
     "output_type": "stream",
     "text": [
      "[1, 2, 3, 4, 5]\n"
     ]
    }
   ],
   "source": [
    "print(dic1.get('cid'))"
   ]
  },
  {
   "cell_type": "code",
   "execution_count": 90,
   "metadata": {},
   "outputs": [],
   "source": [
    "# what are operator - 60\n",
    "\n",
    "#Operators are special symbols in Python that carry out arithmetic or logical computation.\n",
    "\n",
    "#Operators in Python\n",
    "    #Arithmatic operators \n",
    "    #Relational operators or comparison operators\n",
    "    #Logical Operators\n",
    "    #Equality operator\n",
    "    #Assignment Opertors"
   ]
  },
  {
   "cell_type": "code",
   "execution_count": 91,
   "metadata": {},
   "outputs": [
    {
     "name": "stdout",
     "output_type": "stream",
     "text": [
      "a+b: 12\n",
      "a-b: 8\n",
      "a*b: 20\n",
      "a/b: 5.0\n",
      "a%b: 0\n",
      "a//b: 5\n",
      "a**b: 100\n",
      "3.3333333333333335\n",
      "3\n",
      "3.0\n"
     ]
    }
   ],
   "source": [
    "#Arithmatic Operators - 10 \n",
    "    #+ - Addition \n",
    "    #- - Substraction\n",
    "    #* - Multiplication \n",
    "    #/ - Division (Result will always be a float)\n",
    "    #% - Modulo\n",
    "    #// - Floor division Operators (It will return either int or float, if the arguement is int type then int else float)\n",
    "    #** - Power or Exponent operator     \n",
    "    \n",
    "a = 10\n",
    "b = 2\n",
    "print('a+b:', a+b)\n",
    "print('a-b:', a-b)\n",
    "print('a*b:', a*b)\n",
    "print('a/b:', a/b)\n",
    "print('a%b:', a%b)\n",
    "print('a//b:', a//b)\n",
    "print('a**b:', a**b)\n",
    "\n",
    "print(10/3)\n",
    "print(10//3)\n",
    "print(10.0//3)"
   ]
  },
  {
   "cell_type": "code",
   "execution_count": 108,
   "metadata": {},
   "outputs": [
    {
     "data": {
      "text/plain": [
       "False"
      ]
     },
     "execution_count": 108,
     "metadata": {},
     "output_type": "execute_result"
    }
   ],
   "source": [
    "a <= b"
   ]
  },
  {
   "cell_type": "code",
   "execution_count": 147,
   "metadata": {},
   "outputs": [
    {
     "name": "stdout",
     "output_type": "stream",
     "text": [
      "a>b : False\n",
      "a>=b : False\n",
      "a<b : True\n",
      "a<=b : True\n"
     ]
    }
   ],
   "source": [
    "#Relational Operators\n",
    "a = 10\n",
    "b = 20\n",
    "#>\n",
    "#<\n",
    "#>=\n",
    "#<=\n",
    "print('a>b :', a>b)\n",
    "print('a>=b :', a>=b)\n",
    "print('a<b :', a<b)\n",
    "print('a<=b :', a<=b)"
   ]
  },
  {
   "cell_type": "code",
   "execution_count": null,
   "metadata": {},
   "outputs": [],
   "source": []
  },
  {
   "cell_type": "code",
   "execution_count": 109,
   "metadata": {},
   "outputs": [
    {
     "name": "stdout",
     "output_type": "stream",
     "text": [
      "a>b : False\n",
      "a>=b : False\n",
      "a<b : True\n",
      "a<=b : True\n"
     ]
    }
   ],
   "source": [
    "#Based on the length of the string \n",
    "a = 'Mohammed'\n",
    "b = 'Muzzammil'\n",
    "print('a>b :', a>b)\n",
    "print('a>=b :', a>=b)\n",
    "print('a<b :', a<b)\n",
    "print('a<=b :', a<=b)"
   ]
  },
  {
   "cell_type": "code",
   "execution_count": 113,
   "metadata": {},
   "outputs": [
    {
     "data": {
      "text/plain": [
       "True"
      ]
     },
     "execution_count": 113,
     "metadata": {},
     "output_type": "execute_result"
    }
   ],
   "source": [
    "a<=b"
   ]
  },
  {
   "cell_type": "code",
   "execution_count": 117,
   "metadata": {},
   "outputs": [
    {
     "data": {
      "text/plain": [
       "False"
      ]
     },
     "execution_count": 117,
     "metadata": {},
     "output_type": "execute_result"
    }
   ],
   "source": [
    "#Equality Operator #Content comparison \n",
    "#==\n",
    "#!=\n",
    "\n",
    "list1 = [10,2]\n",
    "list2 = [10,2]\n",
    "#10==20\n",
    "#10!=20\n",
    "10 == True\n",
    "a=10\n",
    "b=True\n",
    "a==b"
   ]
  },
  {
   "cell_type": "code",
   "execution_count": 119,
   "metadata": {},
   "outputs": [
    {
     "data": {
      "text/plain": [
       "True"
      ]
     },
     "execution_count": 119,
     "metadata": {},
     "output_type": "execute_result"
    }
   ],
   "source": [
    "list1 == list2"
   ]
  },
  {
   "cell_type": "code",
   "execution_count": 163,
   "metadata": {},
   "outputs": [
    {
     "data": {
      "text/plain": [
       "False"
      ]
     },
     "execution_count": 163,
     "metadata": {},
     "output_type": "execute_result"
    }
   ],
   "source": [
    "#Logical Operator \n",
    "#and -> If all the arguements are True then True only\n",
    "#or -> Atleast one True is requrired to get True\n",
    "#not\n",
    "True and True\n",
    "True and False\n",
    "False or True\n",
    "not True"
   ]
  },
  {
   "cell_type": "code",
   "execution_count": 127,
   "metadata": {},
   "outputs": [],
   "source": [
    "a = 10"
   ]
  },
  {
   "cell_type": "code",
   "execution_count": 166,
   "metadata": {},
   "outputs": [],
   "source": [
    "a=10\n",
    "b=20"
   ]
  },
  {
   "cell_type": "code",
   "execution_count": 170,
   "metadata": {},
   "outputs": [
    {
     "data": {
      "text/plain": [
       "False"
      ]
     },
     "execution_count": 170,
     "metadata": {},
     "output_type": "execute_result"
    }
   ],
   "source": [
    "a > b and b>a"
   ]
  },
  {
   "cell_type": "markdown",
   "metadata": {},
   "source": [
    "# Inputs in Python\n"
   ]
  },
  {
   "cell_type": "code",
   "execution_count": 131,
   "metadata": {},
   "outputs": [
    {
     "name": "stdout",
     "output_type": "stream",
     "text": [
      "Enter The Salary7000000\n",
      "7000000\n"
     ]
    },
    {
     "data": {
      "text/plain": [
       "str"
      ]
     },
     "execution_count": 131,
     "metadata": {},
     "output_type": "execute_result"
    }
   ],
   "source": [
    "# 20\n",
    "name = input('Enter The Salary')\n",
    "\n",
    "print(name)\n",
    "type(name)"
   ]
  },
  {
   "cell_type": "code",
   "execution_count": null,
   "metadata": {},
   "outputs": [],
   "source": [
    "# Taking Integer as Input"
   ]
  },
  {
   "cell_type": "code",
   "execution_count": 133,
   "metadata": {},
   "outputs": [
    {
     "name": "stdout",
     "output_type": "stream",
     "text": [
      "Enter the Salary70000\n"
     ]
    },
    {
     "data": {
      "text/plain": [
       "int"
      ]
     },
     "execution_count": 133,
     "metadata": {},
     "output_type": "execute_result"
    }
   ],
   "source": [
    "salary = int(input('Enter the Salary'))\n",
    "type(salary)"
   ]
  },
  {
   "cell_type": "code",
   "execution_count": 134,
   "metadata": {},
   "outputs": [
    {
     "name": "stdout",
     "output_type": "stream",
     "text": [
      "Enter The price97.89\n"
     ]
    },
    {
     "data": {
      "text/plain": [
       "float"
      ]
     },
     "execution_count": 134,
     "metadata": {},
     "output_type": "execute_result"
    }
   ],
   "source": [
    "petrol = float(input('Enter The price'))\n",
    "type(petrol)"
   ]
  },
  {
   "cell_type": "code",
   "execution_count": 13,
   "metadata": {},
   "outputs": [
    {
     "name": "stdout",
     "output_type": "stream",
     "text": [
      "Enter first number1\n",
      "Enter second number1\n",
      "The sum is: 2\n"
     ]
    }
   ],
   "source": [
    "x = input('Enter first number')\n",
    "y = input('Enter second number')\n",
    "i = int(x)\n",
    "j = int(y)\n",
    "print('The sum is:', i+j)"
   ]
  },
  {
   "cell_type": "code",
   "execution_count": 14,
   "metadata": {},
   "outputs": [],
   "source": [
    "# Taking Float as Input"
   ]
  },
  {
   "cell_type": "code",
   "execution_count": 18,
   "metadata": {},
   "outputs": [
    {
     "name": "stdout",
     "output_type": "stream",
     "text": [
      "Enter some Floating number 23.2\n"
     ]
    }
   ],
   "source": [
    "f = float(input('Enter some Floating number ' ))"
   ]
  },
  {
   "cell_type": "code",
   "execution_count": 23,
   "metadata": {},
   "outputs": [],
   "source": [
    "#Write a program where read the employee data from the keyboard\n",
    "#Eno\n",
    "#Ename\n",
    "#Esal\n",
    "#EAdder\n",
    "#Married"
   ]
  },
  {
   "cell_type": "code",
   "execution_count": 141,
   "metadata": {
    "scrolled": true
   },
   "outputs": [
    {
     "name": "stdout",
     "output_type": "stream",
     "text": [
      "Enter the No1\n",
      "Enter The namemu\n",
      "Enter The Salary1\n",
      "Enter the Addresskjbdb\n",
      "Enter the status of marriageFalse\n"
     ]
    }
   ],
   "source": [
    "eno = int(input('Enter the No'))\n",
    "ename = input('Enter The name')\n",
    "esal = float(input('Enter The Salary'))\n",
    "eadder = input('Enter the Address')\n",
    "Married = bool(input('Enter the status of marriage'))"
   ]
  },
  {
   "cell_type": "code",
   "execution_count": 146,
   "metadata": {},
   "outputs": [
    {
     "name": "stdout",
     "output_type": "stream",
     "text": [
      "Enter the status of marriageFalse\n"
     ]
    }
   ],
   "source": [
    "Married = bool(input('Enter the status of marriage'))"
   ]
  },
  {
   "cell_type": "code",
   "execution_count": 147,
   "metadata": {},
   "outputs": [
    {
     "data": {
      "text/plain": [
       "True"
      ]
     },
     "execution_count": 147,
     "metadata": {},
     "output_type": "execute_result"
    }
   ],
   "source": [
    "Married"
   ]
  },
  {
   "cell_type": "code",
   "execution_count": 148,
   "metadata": {},
   "outputs": [
    {
     "name": "stdout",
     "output_type": "stream",
     "text": [
      "Enter 5 numbers:5 10 14 47\n"
     ]
    }
   ],
   "source": [
    "#How to read multiple values from the keyboard in a single line:\n",
    "a=input('Enter 5 numbers:')"
   ]
  },
  {
   "cell_type": "code",
   "execution_count": 149,
   "metadata": {},
   "outputs": [
    {
     "data": {
      "text/plain": [
       "'5 10 14 47'"
      ]
     },
     "execution_count": 149,
     "metadata": {},
     "output_type": "execute_result"
    }
   ],
   "source": [
    "a"
   ]
  },
  {
   "cell_type": "code",
   "execution_count": 150,
   "metadata": {},
   "outputs": [
    {
     "name": "stdout",
     "output_type": "stream",
     "text": [
      "Enter 5 numbers: 10,20,30\n"
     ]
    },
    {
     "data": {
      "text/plain": [
       "['10', '20', '30']"
      ]
     },
     "execution_count": 150,
     "metadata": {},
     "output_type": "execute_result"
    }
   ],
   "source": [
    "input('Enter 5 numbers: ').split(',')"
   ]
  },
  {
   "cell_type": "code",
   "execution_count": 29,
   "metadata": {},
   "outputs": [
    {
     "name": "stdout",
     "output_type": "stream",
     "text": [
      "Enter 5 numbers: 2,3\n"
     ]
    },
    {
     "data": {
      "text/plain": [
       "['2', '3']"
      ]
     },
     "execution_count": 29,
     "metadata": {},
     "output_type": "execute_result"
    }
   ],
   "source": [
    "input('Enter 5 numbers: ').split(',')"
   ]
  },
  {
   "cell_type": "code",
   "execution_count": 30,
   "metadata": {},
   "outputs": [],
   "source": [
    "# take multiple ints as inputs"
   ]
  },
  {
   "cell_type": "code",
   "execution_count": 31,
   "metadata": {},
   "outputs": [
    {
     "name": "stdout",
     "output_type": "stream",
     "text": [
      "Enter some numbers2,3,4,7,8,9\n"
     ]
    }
   ],
   "source": [
    "a = list(map(int,input('Enter some numbers ').split(',')))"
   ]
  },
  {
   "cell_type": "code",
   "execution_count": 153,
   "metadata": {},
   "outputs": [
    {
     "name": "stdout",
     "output_type": "stream",
     "text": [
      "Enter numbers seperate it by a -10 - 20-30\n"
     ]
    }
   ],
   "source": [
    "ab = list(map(int,input('Enter numbers seperate it by a -').split('-')))"
   ]
  },
  {
   "cell_type": "code",
   "execution_count": 155,
   "metadata": {},
   "outputs": [
    {
     "data": {
      "text/plain": [
       "[10, 20, 30]"
      ]
     },
     "execution_count": 155,
     "metadata": {},
     "output_type": "execute_result"
    }
   ],
   "source": [
    "ab"
   ]
  },
  {
   "cell_type": "code",
   "execution_count": 156,
   "metadata": {},
   "outputs": [
    {
     "name": "stdout",
     "output_type": "stream",
     "text": [
      "Enter some numbers 2.0,3.0,10.0\n"
     ]
    }
   ],
   "source": [
    "a = tuple(map(float,input('Enter some numbers ').split(',')))"
   ]
  },
  {
   "cell_type": "code",
   "execution_count": 157,
   "metadata": {},
   "outputs": [
    {
     "data": {
      "text/plain": [
       "(2.0, 3.0, 10.0)"
      ]
     },
     "execution_count": 157,
     "metadata": {},
     "output_type": "execute_result"
    }
   ],
   "source": [
    "a"
   ]
  },
  {
   "cell_type": "code",
   "execution_count": null,
   "metadata": {},
   "outputs": [],
   "source": []
  },
  {
   "cell_type": "markdown",
   "metadata": {},
   "source": [
    "# Outputs in Python"
   ]
  },
  {
   "cell_type": "code",
   "execution_count": 41,
   "metadata": {},
   "outputs": [
    {
     "name": "stdout",
     "output_type": "stream",
     "text": [
      "Hello\n",
      "\n",
      "Good Evening\n",
      "\n",
      "How are you?\n"
     ]
    }
   ],
   "source": [
    "#Output statements - 20\n",
    "#print() - Function\n",
    "#print() - without arguements we will get a new line\n",
    "print('Hello')\n",
    "print()\n",
    "print('Good Evening')\n",
    "print()\n",
    "print('How are you?')"
   ]
  },
  {
   "cell_type": "code",
   "execution_count": null,
   "metadata": {},
   "outputs": [],
   "source": [
    "print('Your Salary is ',ab, 'bad', a)"
   ]
  },
  {
   "cell_type": "code",
   "execution_count": 42,
   "metadata": {},
   "outputs": [
    {
     "name": "stdout",
     "output_type": "stream",
     "text": [
      "Hello \n",
      " all\n"
     ]
    }
   ],
   "source": [
    "print('Hello \\n all') #We can use escape character in print"
   ]
  },
  {
   "cell_type": "code",
   "execution_count": 44,
   "metadata": {},
   "outputs": [
    {
     "name": "stdout",
     "output_type": "stream",
     "text": [
      "The values are:  10 20 30\n"
     ]
    }
   ],
   "source": [
    "#print() with multiple variables or arguments\n",
    "a,b,c = 10,20,30\n",
    "print('The values are: ' , a,b,c)"
   ]
  },
  {
   "cell_type": "code",
   "execution_count": 47,
   "metadata": {},
   "outputs": [
    {
     "name": "stdout",
     "output_type": "stream",
     "text": [
      "10 20 30\n",
      "10,20,30\n",
      "10:20:30\n",
      "10520530\n",
      "10 20 30\n"
     ]
    }
   ],
   "source": [
    "a,b,c=10,20,30\n",
    "print(a,b,c)\n",
    "print(a,b,c,sep=',')\n",
    "print(a,b,c,sep=':')\n",
    "print(a,b,c,sep='5')\n",
    "print(a,b,c,sep=None)\n",
    "#The defaulf value of sep is space"
   ]
  },
  {
   "cell_type": "code",
   "execution_count": 48,
   "metadata": {},
   "outputs": [
    {
     "name": "stdout",
     "output_type": "stream",
     "text": [
      "[10, 20, 30, 40]\n",
      "(10, 20, 30, 40)\n",
      "{40, 10, 20, 30}\n"
     ]
    }
   ],
   "source": [
    "list1 = [10,20,30,40]\n",
    "tuple1 = (10,20,30,40)\n",
    "set1 ={10,20,30,40}\n",
    "print(list1)\n",
    "print(tuple1)\n",
    "print(set1)"
   ]
  },
  {
   "cell_type": "code",
   "execution_count": 49,
   "metadata": {},
   "outputs": [
    {
     "name": "stdout",
     "output_type": "stream",
     "text": [
      "Hello Candidate, your salary is 10000 \n"
     ]
    }
   ],
   "source": [
    "#Replacement operators\n",
    "name = 'Candidate'\n",
    "salary = 10000\n",
    "print('Hello {}, your salary is {} '.format(name, salary))"
   ]
  },
  {
   "cell_type": "code",
   "execution_count": null,
   "metadata": {},
   "outputs": [],
   "source": []
  },
  {
   "cell_type": "markdown",
   "metadata": {},
   "source": [
    "# Python Flow Control"
   ]
  },
  {
   "cell_type": "code",
   "execution_count": 51,
   "metadata": {},
   "outputs": [
    {
     "ename": "NameError",
     "evalue": "name 'option1' is not defined",
     "output_type": "error",
     "traceback": [
      "\u001b[1;31m---------------------------------------------------------------------------\u001b[0m",
      "\u001b[1;31mNameError\u001b[0m                                 Traceback (most recent call last)",
      "\u001b[1;32m<ipython-input-51-afcfe5fd7937>\u001b[0m in \u001b[0;36m<module>\u001b[1;34m()\u001b[0m\n\u001b[0;32m      6\u001b[0m     \u001b[1;31m#if-elif\u001b[0m\u001b[1;33m\u001b[0m\u001b[1;33m\u001b[0m\u001b[1;33m\u001b[0m\u001b[0m\n\u001b[0;32m      7\u001b[0m \u001b[1;32mif\u001b[0m \u001b[0mx\u001b[0m\u001b[1;33m:\u001b[0m\u001b[1;33m\u001b[0m\u001b[1;33m\u001b[0m\u001b[0m\n\u001b[1;32m----> 8\u001b[1;33m     \u001b[0moption1\u001b[0m\u001b[1;33m\u001b[0m\u001b[1;33m\u001b[0m\u001b[0m\n\u001b[0m\u001b[0;32m      9\u001b[0m \u001b[1;32melse\u001b[0m\u001b[1;33m:\u001b[0m\u001b[1;33m\u001b[0m\u001b[1;33m\u001b[0m\u001b[0m\n\u001b[0;32m     10\u001b[0m     \u001b[0moption2\u001b[0m\u001b[1;33m\u001b[0m\u001b[1;33m\u001b[0m\u001b[0m\n",
      "\u001b[1;31mNameError\u001b[0m: name 'option1' is not defined"
     ]
    }
   ],
   "source": [
    "#Flow Control - 30\n",
    "#if and else\n",
    "    #if \n",
    "    #if-else\n",
    "    #if-elif-else\n",
    "    #if-elif\n",
    "if x:\n",
    "    option1\n",
    "else:\n",
    "    option2\n",
    "#if condition {\n",
    "#    statement1\n",
    "#}\n",
    "#else {\n",
    "#    statement2\n",
    "#}\n",
    "if x:\n",
    "    option1\n",
    "elif x1:\n",
    "    option2\n",
    "elif x2:\n",
    "    option3\n",
    "else:\n",
    "    option4"
   ]
  },
  {
   "cell_type": "code",
   "execution_count": 54,
   "metadata": {},
   "outputs": [
    {
     "name": "stdout",
     "output_type": "stream",
     "text": [
      "Enter the name:muzzammil\n",
      "How are you?\n"
     ]
    }
   ],
   "source": [
    "#Conditional Statement\n",
    "name = input('Enter the name:')\n",
    "if name =='Python' :\n",
    "    print('Hello, ', name, 'Good Morning')\n",
    "    \n",
    "else:\n",
    "    \n",
    "    print('How are you?')\n"
   ]
  },
  {
   "cell_type": "code",
   "execution_count": 55,
   "metadata": {},
   "outputs": [
    {
     "name": "stdout",
     "output_type": "stream",
     "text": [
      "Enter the name:Python\n",
      "Hello,  Python Good Morning\n",
      "How are you?\n"
     ]
    }
   ],
   "source": [
    "#Conditional Statement\n",
    "\n",
    "name = input('Enter the name:')\n",
    "\n",
    "if name=='Python':\n",
    "    print('Hello, ', name, 'Good Morning')\n",
    "    \n",
    "elif name=='R programming':\n",
    "    print('Hello,',name,'You are tough then Python')\n",
    "    \n",
    "else:\n",
    "    print('Hello',name,'Welcome to programming world')\n",
    "    \n",
    "    "
   ]
  },
  {
   "cell_type": "code",
   "execution_count": 58,
   "metadata": {},
   "outputs": [
    {
     "name": "stdout",
     "output_type": "stream",
     "text": [
      "Enter first number7\n",
      "Enter second number3\n",
      "7 is bigger\n"
     ]
    }
   ],
   "source": [
    "x = int(input('Enter first number'))\n",
    "\n",
    "y = int(input('Enter second number'))\n",
    "\n",
    "if x>y:\n",
    "    \n",
    "    print(x, 'is bigger')\n",
    "    \n",
    "else:\n",
    "    \n",
    "    print(y, 'is bigger')\n",
    "    "
   ]
  },
  {
   "cell_type": "code",
   "execution_count": 60,
   "metadata": {},
   "outputs": [],
   "source": [
    "# Even Odd Example - %"
   ]
  },
  {
   "cell_type": "code",
   "execution_count": 61,
   "metadata": {},
   "outputs": [
    {
     "name": "stdout",
     "output_type": "stream",
     "text": [
      "Enter the number between 0 to 93\n",
      "Three\n"
     ]
    }
   ],
   "source": [
    "#Enter some digit from the keyboard \n",
    "#0 - Zero\n",
    "#9 - Nine\n",
    "#10 - Please enter the value between 1 and 9 only\n",
    "x = int(input('Enter the number between 0 to 9 '))\n",
    "if x==0:\n",
    "    print('Zero')\n",
    "elif x==1:\n",
    "    print('One')\n",
    "elif x==2:\n",
    "    print('Two')\n",
    "elif x==3:\n",
    "    print('Three')\n",
    "elif x==4:\n",
    "    print('Four')\n",
    "elif x==5:\n",
    "    print('Five')\n",
    "elif x==6:\n",
    "    print('Six')\n",
    "elif x==7:\n",
    "    print('Seven')\n",
    "elif x==8:\n",
    "    print('Eight')\n",
    "elif x==9:\n",
    "    print('Nine')\n",
    "else:\n",
    "    print('Enter the number between 1 and 9 only')\n",
    "    \n",
    "    "
   ]
  },
  {
   "cell_type": "markdown",
   "metadata": {},
   "source": [
    "# For Loop"
   ]
  },
  {
   "cell_type": "code",
   "execution_count": 62,
   "metadata": {},
   "outputs": [],
   "source": [
    "#for loop - 30\n",
    "#for each in seq: #seq - string, list, tuple, range\n",
    "    #do action\n",
    "    \n",
    "    \n",
    "# for var in list:\n",
    "    # do action"
   ]
  },
  {
   "cell_type": "code",
   "execution_count": 63,
   "metadata": {},
   "outputs": [
    {
     "name": "stdout",
     "output_type": "stream",
     "text": [
      "T\n",
      "h\n",
      "i\n",
      "s\n",
      " \n",
      "i\n",
      "s\n",
      " \n",
      "P\n",
      "y\n",
      "t\n",
      "h\n",
      "o\n",
      "n\n",
      " \n",
      "f\n",
      "o\n",
      "r\n",
      " \n",
      "l\n",
      "o\n",
      "o\n",
      "p\n"
     ]
    }
   ],
   "source": [
    "s = 'This is Python for loop'\n",
    "for x in s:\n",
    "    print(x)"
   ]
  },
  {
   "cell_type": "code",
   "execution_count": 65,
   "metadata": {},
   "outputs": [
    {
     "name": "stdout",
     "output_type": "stream",
     "text": [
      "23\n"
     ]
    }
   ],
   "source": [
    "s = 'This is Python for loop'\n",
    "count=0\n",
    "for x in s:\n",
    "    count=count+1\n",
    "print(count)"
   ]
  },
  {
   "cell_type": "code",
   "execution_count": 67,
   "metadata": {},
   "outputs": [
    {
     "name": "stdout",
     "output_type": "stream",
     "text": [
      "10\n",
      "20\n",
      "30\n",
      "40\n"
     ]
    }
   ],
   "source": [
    "l = [10,20,30,40]\n",
    "for i in l:\n",
    "    print(i)"
   ]
  },
  {
   "cell_type": "code",
   "execution_count": 68,
   "metadata": {},
   "outputs": [],
   "source": [
    "# Even Odd Example - %"
   ]
  },
  {
   "cell_type": "code",
   "execution_count": null,
   "metadata": {},
   "outputs": [],
   "source": [
    "# While Loop"
   ]
  },
  {
   "cell_type": "code",
   "execution_count": null,
   "metadata": {},
   "outputs": [],
   "source": [
    "# iterate until some condition is met."
   ]
  },
  {
   "cell_type": "code",
   "execution_count": 69,
   "metadata": {},
   "outputs": [
    {
     "name": "stdout",
     "output_type": "stream",
     "text": [
      "0\n",
      "1\n",
      "2\n",
      "3\n",
      "4\n",
      "5\n",
      "6\n",
      "7\n",
      "8\n",
      "9\n"
     ]
    }
   ],
   "source": [
    "x = 0 \n",
    "\n",
    "while(x<10):\n",
    "    print(x)\n",
    "    x= x+1"
   ]
  },
  {
   "cell_type": "markdown",
   "metadata": {},
   "source": [
    "# Functions in Python\n"
   ]
  },
  {
   "cell_type": "code",
   "execution_count": 1,
   "metadata": {},
   "outputs": [],
   "source": [
    "#Why functions are required? - 50\n",
    "    #When we are writing multiple lines of a code then the lines of code will increase\n",
    "    #We will write functions for those lines \n",
    "    #Code reusability is the biggest adv\n",
    "#function   \n",
    "#to cal c to f"
   ]
  },
  {
   "cell_type": "code",
   "execution_count": 3,
   "metadata": {},
   "outputs": [],
   "source": [
    "#inbuilt functions\n",
    "#print()\n",
    "#len()\n",
    "#eval()\n",
    "#input()\n",
    "#id()\n",
    "#sorted()\n",
    "#user defined functions \n"
   ]
  },
  {
   "cell_type": "code",
   "execution_count": 103,
   "metadata": {},
   "outputs": [
    {
     "name": "stdout",
     "output_type": "stream",
     "text": [
      "Good morning\n"
     ]
    }
   ],
   "source": [
    "def greeting():\n",
    "    \"\"\"This function is helping to greet the audience\"\"\"\n",
    "    print('Good morning')\n",
    "    \n",
    "    \n",
    "greeting()   "
   ]
  },
  {
   "cell_type": "code",
   "execution_count": 104,
   "metadata": {},
   "outputs": [
    {
     "name": "stdout",
     "output_type": "stream",
     "text": [
      "Hello Candidate Good Evening\n"
     ]
    }
   ],
   "source": [
    "def greeting(name):\n",
    "    print('Hello', name, 'Good Evening')\n",
    "greeting('Candidate')"
   ]
  },
  {
   "cell_type": "code",
   "execution_count": 7,
   "metadata": {},
   "outputs": [
    {
     "name": "stdout",
     "output_type": "stream",
     "text": [
      "The square of 10 is: 100\n",
      "The square of 100 is: 10000\n"
     ]
    }
   ],
   "source": [
    "def square(x):\n",
    "    print('The square of {} is: {}'.format(x, x*x))\n",
    "square(10)\n",
    "square(100)"
   ]
  },
  {
   "cell_type": "code",
   "execution_count": 8,
   "metadata": {},
   "outputs": [
    {
     "data": {
      "text/plain": [
       "30"
      ]
     },
     "execution_count": 8,
     "metadata": {},
     "output_type": "execute_result"
    }
   ],
   "source": [
    "def add(a,b):\n",
    "    return a+b\n",
    "result = add(10,20)\n",
    "result"
   ]
  },
  {
   "cell_type": "code",
   "execution_count": 9,
   "metadata": {},
   "outputs": [
    {
     "name": "stdout",
     "output_type": "stream",
     "text": [
      "Hello\n",
      "None\n"
     ]
    }
   ],
   "source": [
    "def f1():\n",
    "    print('Hello')\n",
    "    \n",
    "print(f1())\n",
    "#if function wont return anything the value will be return as None"
   ]
  },
  {
   "cell_type": "code",
   "execution_count": 10,
   "metadata": {},
   "outputs": [
    {
     "name": "stdout",
     "output_type": "stream",
     "text": [
      "11 number is odd\n",
      "10 number is even\n",
      "11.5 number is odd\n"
     ]
    }
   ],
   "source": [
    "def evenodd(n):\n",
    "    if n%2==0:\n",
    "        print('{} number is even'.format(n))\n",
    "    else:\n",
    "        print('{} number is odd'.format(n))\n",
    "evenodd(11)\n",
    "evenodd(10)\n",
    "evenodd(11.5)"
   ]
  },
  {
   "cell_type": "code",
   "execution_count": null,
   "metadata": {},
   "outputs": [],
   "source": []
  },
  {
   "cell_type": "code",
   "execution_count": 12,
   "metadata": {},
   "outputs": [],
   "source": [
    "#Types of Arguments \n",
    "    #1. Positional Arguments\n",
    "    #2. Keyword Arguments \n",
    "    #3. Default Arguments \n",
    "    #4. Variable Length arguments\n",
    "def sum(a,b): #a and b are formal paramters \n",
    "    pass\n",
    "sum(10,20)   #actual arguments "
   ]
  },
  {
   "cell_type": "code",
   "execution_count": 14,
   "metadata": {},
   "outputs": [
    {
     "name": "stdout",
     "output_type": "stream",
     "text": [
      "30\n"
     ]
    }
   ],
   "source": [
    "#Positional Arguments - Exact correct positional order and number of arguments is important\n",
    "def sum(a,b):\n",
    "    print(a+b)\n",
    "sum(10,20)\n",
    "#sum(10,20,30)"
   ]
  },
  {
   "cell_type": "code",
   "execution_count": 17,
   "metadata": {},
   "outputs": [
    {
     "name": "stdout",
     "output_type": "stream",
     "text": [
      "Hello Candidate Welcome\n"
     ]
    }
   ],
   "source": [
    "#Keyword Arguments\n",
    "def greeting(name, msg):\n",
    "    print('Hello', name, msg)\n",
    "greeting(name='Candidate', msg='Welcome')    \n",
    "#greeting('Atharv',msg='Welcome', name='Rahul')"
   ]
  },
  {
   "cell_type": "code",
   "execution_count": 18,
   "metadata": {},
   "outputs": [
    {
     "name": "stdout",
     "output_type": "stream",
     "text": [
      "Hello Student Good evening\n"
     ]
    }
   ],
   "source": [
    "#Default \n",
    "def greeting(name='Student'):\n",
    "    print('Hello', name, 'Good evening')\n",
    "greeting()"
   ]
  },
  {
   "cell_type": "code",
   "execution_count": 19,
   "metadata": {},
   "outputs": [],
   "source": [
    "#Types of variables\n",
    "    #Global variables - Declare it outside the function, global variable is valid for all the functions inside the module\n",
    "    #Local variables  - "
   ]
  },
  {
   "cell_type": "code",
   "execution_count": 20,
   "metadata": {},
   "outputs": [
    {
     "name": "stdout",
     "output_type": "stream",
     "text": [
      "F1 10\n",
      "F2 10\n"
     ]
    }
   ],
   "source": [
    "a = 10\n",
    "def f1():\n",
    "    print('F1',a)\n",
    "f1()\n",
    "\n",
    "def f2():\n",
    "    print('F2',a)\n",
    "f2()"
   ]
  },
  {
   "cell_type": "code",
   "execution_count": null,
   "metadata": {},
   "outputs": [],
   "source": [
    "def f1():\n",
    "    p=20\n",
    "    print('F1', p)\n",
    "f1()\n",
    "def f2():\n",
    "    print('F2', p)\n",
    "f2()    "
   ]
  },
  {
   "cell_type": "code",
   "execution_count": null,
   "metadata": {},
   "outputs": [],
   "source": []
  },
  {
   "cell_type": "code",
   "execution_count": 21,
   "metadata": {},
   "outputs": [
    {
     "name": "stdout",
     "output_type": "stream",
     "text": [
      "F1 101\n",
      "F2 10\n"
     ]
    }
   ],
   "source": [
    "q=10\n",
    "def f1():\n",
    "    q=101  #Local variable gets the priority\n",
    "    print('F1',q) \n",
    "f1()\n",
    "\n",
    "def f2():\n",
    "    print('F2',q)\n",
    "f2()"
   ]
  },
  {
   "cell_type": "code",
   "execution_count": null,
   "metadata": {},
   "outputs": [],
   "source": []
  },
  {
   "cell_type": "code",
   "execution_count": null,
   "metadata": {},
   "outputs": [],
   "source": []
  },
  {
   "cell_type": "code",
   "execution_count": null,
   "metadata": {},
   "outputs": [],
   "source": []
  },
  {
   "cell_type": "code",
   "execution_count": null,
   "metadata": {},
   "outputs": [],
   "source": []
  },
  {
   "cell_type": "code",
   "execution_count": null,
   "metadata": {},
   "outputs": [],
   "source": []
  },
  {
   "cell_type": "code",
   "execution_count": null,
   "metadata": {},
   "outputs": [],
   "source": []
  },
  {
   "cell_type": "code",
   "execution_count": null,
   "metadata": {},
   "outputs": [],
   "source": []
  },
  {
   "cell_type": "code",
   "execution_count": null,
   "metadata": {},
   "outputs": [],
   "source": [
    "#map(func, list)\n",
    "#map the function onto every element of list"
   ]
  },
  {
   "cell_type": "code",
   "execution_count": 6,
   "metadata": {},
   "outputs": [],
   "source": [
    "def double(x):\n",
    "    return 2*x"
   ]
  },
  {
   "cell_type": "code",
   "execution_count": 8,
   "metadata": {},
   "outputs": [],
   "source": [
    "l=[1,2,3,4,5]"
   ]
  },
  {
   "cell_type": "code",
   "execution_count": 9,
   "metadata": {},
   "outputs": [
    {
     "data": {
      "text/plain": [
       "[2, 4, 6, 8, 10]"
      ]
     },
     "execution_count": 9,
     "metadata": {},
     "output_type": "execute_result"
    }
   ],
   "source": [
    "list(map(double, l))"
   ]
  },
  {
   "cell_type": "code",
   "execution_count": 10,
   "metadata": {},
   "outputs": [],
   "source": [
    "# User input example"
   ]
  },
  {
   "cell_type": "code",
   "execution_count": null,
   "metadata": {},
   "outputs": [],
   "source": []
  },
  {
   "cell_type": "markdown",
   "metadata": {},
   "source": [
    "# Exception Handling in Python"
   ]
  },
  {
   "cell_type": "code",
   "execution_count": null,
   "metadata": {},
   "outputs": [],
   "source": [
    "#Exception handling  - 10\n",
    "    #Syntax \n",
    "    #Runtime error \n",
    "    \n",
    "x = 20\n",
    "if x==20\n",
    "    print('The value of x is', x)"
   ]
  },
  {
   "cell_type": "code",
   "execution_count": null,
   "metadata": {},
   "outputs": [],
   "source": [
    "#Runtime error\n",
    "print(20/0)"
   ]
  },
  {
   "cell_type": "code",
   "execution_count": 12,
   "metadata": {},
   "outputs": [],
   "source": [
    "#What is an exception?\n",
    "#An unwanted and unexpected event which is going to disturb our regular flow of the program"
   ]
  },
  {
   "cell_type": "code",
   "execution_count": 13,
   "metadata": {},
   "outputs": [],
   "source": [
    "#What is the meaning of exception handling? \n",
    "#Defining alternative way to continue rest of the program normally"
   ]
  },
  {
   "cell_type": "code",
   "execution_count": null,
   "metadata": {},
   "outputs": [],
   "source": []
  },
  {
   "cell_type": "code",
   "execution_count": null,
   "metadata": {},
   "outputs": [],
   "source": [
    "try:\n",
    "    read data from the Nagpur server\n",
    "except:\n",
    "    read data from Mumbai Server"
   ]
  },
  {
   "cell_type": "code",
   "execution_count": 14,
   "metadata": {},
   "outputs": [],
   "source": [
    "#If exception handling is not there then Python terminate the program abnormally , print exeception error message "
   ]
  },
  {
   "cell_type": "code",
   "execution_count": 17,
   "metadata": {},
   "outputs": [
    {
     "name": "stdout",
     "output_type": "stream",
     "text": [
      "Hello\n",
      "6.666666666666667\n",
      "Hi\n"
     ]
    }
   ],
   "source": [
    "print('Hello')\n",
    "try:\n",
    "    print(20/3)\n",
    "except:\n",
    "    print('Error occured')\n",
    "print('Hi')"
   ]
  },
  {
   "cell_type": "code",
   "execution_count": null,
   "metadata": {},
   "outputs": [],
   "source": [
    "try: \n",
    "    statement1\n",
    "    statement2\n",
    "    statement3\n",
    "except:\n",
    "    statement4\n",
    "statement5"
   ]
  },
  {
   "cell_type": "code",
   "execution_count": null,
   "metadata": {},
   "outputs": [],
   "source": []
  },
  {
   "cell_type": "code",
   "execution_count": 23,
   "metadata": {},
   "outputs": [
    {
     "name": "stdout",
     "output_type": "stream",
     "text": [
      "Outer Try Block\n",
      "Inner Try Block\n",
      "Error occured\n",
      "Inner Except Block\n",
      "Statement2\n"
     ]
    }
   ],
   "source": [
    "try:\n",
    "    print('Outer Try Block')\n",
    "    try:\n",
    "        print('Inner Try Block')\n",
    "        print(20/0)\n",
    "    except:\n",
    "        print('Error occured')\n",
    "        print('Inner Except Block')\n",
    "    print('Statement2')\n",
    "except:\n",
    "    print('Outer Except block')\n"
   ]
  },
  {
   "cell_type": "code",
   "execution_count": null,
   "metadata": {},
   "outputs": [],
   "source": []
  },
  {
   "cell_type": "code",
   "execution_count": null,
   "metadata": {},
   "outputs": [],
   "source": []
  },
  {
   "cell_type": "code",
   "execution_count": null,
   "metadata": {},
   "outputs": [],
   "source": []
  },
  {
   "cell_type": "code",
   "execution_count": null,
   "metadata": {},
   "outputs": [],
   "source": []
  },
  {
   "cell_type": "code",
   "execution_count": null,
   "metadata": {},
   "outputs": [],
   "source": []
  },
  {
   "cell_type": "code",
   "execution_count": null,
   "metadata": {},
   "outputs": [],
   "source": []
  },
  {
   "cell_type": "code",
   "execution_count": null,
   "metadata": {},
   "outputs": [],
   "source": []
  },
  {
   "cell_type": "code",
   "execution_count": null,
   "metadata": {},
   "outputs": [],
   "source": []
  },
  {
   "cell_type": "code",
   "execution_count": null,
   "metadata": {},
   "outputs": [],
   "source": []
  },
  {
   "cell_type": "markdown",
   "metadata": {},
   "source": [
    "# Packages in Python"
   ]
  },
  {
   "cell_type": "code",
   "execution_count": null,
   "metadata": {},
   "outputs": [],
   "source": [
    "#A python package is a collection of modules. Modules that are related to each other - 10\n",
    "#are mainly put in the same package. When a module from an external package is required in a program,\n",
    "#that package can be imported and its modules can be put to use."
   ]
  },
  {
   "cell_type": "code",
   "execution_count": null,
   "metadata": {},
   "outputs": [],
   "source": [
    "# in simpler terms a package is a collection of functions which can be used by importing them."
   ]
  },
  {
   "cell_type": "code",
   "execution_count": 5,
   "metadata": {},
   "outputs": [],
   "source": [
    "# How to Import Packages"
   ]
  },
  {
   "cell_type": "code",
   "execution_count": 7,
   "metadata": {},
   "outputs": [],
   "source": [
    "import numpy"
   ]
  },
  {
   "cell_type": "code",
   "execution_count": null,
   "metadata": {},
   "outputs": [],
   "source": [
    "# Aliasing the package for easy use"
   ]
  },
  {
   "cell_type": "code",
   "execution_count": 8,
   "metadata": {},
   "outputs": [],
   "source": [
    "import numpy as np"
   ]
  },
  {
   "cell_type": "code",
   "execution_count": 10,
   "metadata": {},
   "outputs": [],
   "source": [
    "import datapreprep as dp"
   ]
  },
  {
   "cell_type": "markdown",
   "metadata": {},
   "source": [
    "# Numpy"
   ]
  },
  {
   "cell_type": "code",
   "execution_count": 12,
   "metadata": {},
   "outputs": [
    {
     "name": "stdout",
     "output_type": "stream",
     "text": [
      "Requirement already satisfied: numpy in g:\\anaconda\\lib\\site-packages (1.19.5)\n"
     ]
    },
    {
     "name": "stderr",
     "output_type": "stream",
     "text": [
      "WARNING: You are using pip version 21.0; however, version 21.0.1 is available.\n",
      "You should consider upgrading via the 'g:\\anaconda\\python.exe -m pip install --upgrade pip' command.\n"
     ]
    }
   ],
   "source": [
    "!pip install numpy - 50 \n",
    "#np.version.version"
   ]
  },
  {
   "cell_type": "code",
   "execution_count": 13,
   "metadata": {},
   "outputs": [],
   "source": [
    "sales = [4543,2233,4335,3344,4543,6544,3565,3344,6543,6644,8765,3323,5654,3344,5654,7766]\n",
    "profit = [454,233,443,566,777,677,555,766,455,554,665,455,345,766,444,567]"
   ]
  },
  {
   "cell_type": "code",
   "execution_count": 14,
   "metadata": {},
   "outputs": [
    {
     "data": {
      "text/plain": [
       "16"
      ]
     },
     "execution_count": 14,
     "metadata": {},
     "output_type": "execute_result"
    }
   ],
   "source": [
    "len(sales)\n",
    "len(profit)"
   ]
  },
  {
   "cell_type": "code",
   "execution_count": 15,
   "metadata": {},
   "outputs": [
    {
     "ename": "TypeError",
     "evalue": "unsupported operand type(s) for /: 'list' and 'list'",
     "output_type": "error",
     "traceback": [
      "\u001b[1;31m---------------------------------------------------------------------------\u001b[0m",
      "\u001b[1;31mTypeError\u001b[0m                                 Traceback (most recent call last)",
      "\u001b[1;32m<ipython-input-15-6764e8c1a10d>\u001b[0m in \u001b[0;36m<module>\u001b[1;34m()\u001b[0m\n\u001b[1;32m----> 1\u001b[1;33m \u001b[0mprofit\u001b[0m\u001b[1;33m/\u001b[0m\u001b[0msales\u001b[0m\u001b[1;33m\u001b[0m\u001b[1;33m\u001b[0m\u001b[0m\n\u001b[0m",
      "\u001b[1;31mTypeError\u001b[0m: unsupported operand type(s) for /: 'list' and 'list'"
     ]
    }
   ],
   "source": [
    "profit/sales"
   ]
  },
  {
   "cell_type": "code",
   "execution_count": 16,
   "metadata": {},
   "outputs": [],
   "source": [
    "# Array in Python"
   ]
  },
  {
   "cell_type": "code",
   "execution_count": null,
   "metadata": {},
   "outputs": [],
   "source": [
    "# Array is just like list but we get some more math function in it.\n",
    "# it is faster than list\n",
    "# it is highly used in Data Science World.\n"
   ]
  },
  {
   "cell_type": "code",
   "execution_count": 17,
   "metadata": {},
   "outputs": [],
   "source": [
    "sales_array = np.array(sales)"
   ]
  },
  {
   "cell_type": "code",
   "execution_count": 18,
   "metadata": {},
   "outputs": [
    {
     "data": {
      "text/plain": [
       "numpy.ndarray"
      ]
     },
     "execution_count": 18,
     "metadata": {},
     "output_type": "execute_result"
    }
   ],
   "source": [
    "type(sales_array)"
   ]
  },
  {
   "cell_type": "code",
   "execution_count": 19,
   "metadata": {},
   "outputs": [],
   "source": [
    "profit_array = np.array(profit)"
   ]
  },
  {
   "cell_type": "code",
   "execution_count": 20,
   "metadata": {},
   "outputs": [
    {
     "data": {
      "text/plain": [
       "array([454, 233, 443, 566, 777, 677, 555, 766, 455, 554, 665, 455, 345,\n",
       "       766, 444, 567])"
      ]
     },
     "execution_count": 20,
     "metadata": {},
     "output_type": "execute_result"
    }
   ],
   "source": [
    "profit_array"
   ]
  },
  {
   "cell_type": "code",
   "execution_count": 21,
   "metadata": {},
   "outputs": [
    {
     "data": {
      "text/plain": [
       "array([0.09993396, 0.10434393, 0.10219146, 0.16925837, 0.17103236,\n",
       "       0.10345355, 0.15568022, 0.22906699, 0.06953997, 0.0833835 ,\n",
       "       0.07586994, 0.13692447, 0.06101875, 0.22906699, 0.07852848,\n",
       "       0.07301056])"
      ]
     },
     "execution_count": 21,
     "metadata": {},
     "output_type": "execute_result"
    }
   ],
   "source": [
    "profit_array/sales_array"
   ]
  },
  {
   "cell_type": "code",
   "execution_count": 106,
   "metadata": {},
   "outputs": [],
   "source": [
    "import time "
   ]
  },
  {
   "cell_type": "code",
   "execution_count": 23,
   "metadata": {},
   "outputs": [
    {
     "name": "stdout",
     "output_type": "stream",
     "text": [
      "Time taken by list operation\n",
      "210.30163764953613\n",
      "Time taken by Array\n",
      "49.98946189880371\n"
     ]
    }
   ],
   "source": [
    "size = 1000000\n",
    "l1 = range(size)\n",
    "l2 = range(size)\n",
    "a1 = np.arange(size)\n",
    "a2 = np.arange(size)\n",
    "\n",
    "start = time.time()\n",
    "result = [(x,y) for x,y in zip(l1,l2)]\n",
    "print('Time taken by list operation')\n",
    "print((time.time()-start)*1000)\n",
    "\n",
    "start = time.time()\n",
    "result = a1 + a2\n",
    "print('Time taken by Array')\n",
    "print((time.time()-start)*1000)"
   ]
  },
  {
   "cell_type": "code",
   "execution_count": 24,
   "metadata": {},
   "outputs": [],
   "source": [
    "# Almost 4 times faster\n",
    "\n"
   ]
  },
  {
   "cell_type": "code",
   "execution_count": 25,
   "metadata": {},
   "outputs": [],
   "source": [
    "list1 = [32,3,44,34,54]"
   ]
  },
  {
   "cell_type": "code",
   "execution_count": 26,
   "metadata": {},
   "outputs": [
    {
     "data": {
      "text/plain": [
       "[32, 3, 44, 34, 54, 32, 3, 44, 34, 54]"
      ]
     },
     "execution_count": 26,
     "metadata": {},
     "output_type": "execute_result"
    }
   ],
   "source": [
    "list1*2 # just Duplicating"
   ]
  },
  {
   "cell_type": "code",
   "execution_count": 27,
   "metadata": {},
   "outputs": [],
   "source": [
    "array1 = np.array(list1)"
   ]
  },
  {
   "cell_type": "code",
   "execution_count": 28,
   "metadata": {},
   "outputs": [
    {
     "data": {
      "text/plain": [
       "array([ 64,   6,  88,  68, 108])"
      ]
     },
     "execution_count": 28,
     "metadata": {},
     "output_type": "execute_result"
    }
   ],
   "source": [
    "array1*2"
   ]
  },
  {
   "cell_type": "code",
   "execution_count": null,
   "metadata": {},
   "outputs": [],
   "source": []
  },
  {
   "cell_type": "code",
   "execution_count": 33,
   "metadata": {},
   "outputs": [],
   "source": [
    "a1 = np.array(list1)"
   ]
  },
  {
   "cell_type": "code",
   "execution_count": 34,
   "metadata": {},
   "outputs": [
    {
     "data": {
      "text/plain": [
       "array([32,  3, 44, 34, 54])"
      ]
     },
     "execution_count": 34,
     "metadata": {},
     "output_type": "execute_result"
    }
   ],
   "source": [
    "a1"
   ]
  },
  {
   "cell_type": "code",
   "execution_count": 35,
   "metadata": {},
   "outputs": [],
   "source": [
    "a2 = a1.copy()"
   ]
  },
  {
   "cell_type": "code",
   "execution_count": 36,
   "metadata": {},
   "outputs": [
    {
     "data": {
      "text/plain": [
       "array([32,  3, 44, 34, 54])"
      ]
     },
     "execution_count": 36,
     "metadata": {},
     "output_type": "execute_result"
    }
   ],
   "source": [
    "a2"
   ]
  },
  {
   "cell_type": "code",
   "execution_count": 37,
   "metadata": {},
   "outputs": [],
   "source": [
    "a3 = a1[0:3]"
   ]
  },
  {
   "cell_type": "code",
   "execution_count": 38,
   "metadata": {},
   "outputs": [
    {
     "data": {
      "text/plain": [
       "array([32,  3, 44])"
      ]
     },
     "execution_count": 38,
     "metadata": {},
     "output_type": "execute_result"
    }
   ],
   "source": [
    "a3"
   ]
  },
  {
   "cell_type": "code",
   "execution_count": 39,
   "metadata": {},
   "outputs": [],
   "source": [
    "a3[0]=0"
   ]
  },
  {
   "cell_type": "code",
   "execution_count": 40,
   "metadata": {},
   "outputs": [
    {
     "data": {
      "text/plain": [
       "array([ 0,  3, 44])"
      ]
     },
     "execution_count": 40,
     "metadata": {},
     "output_type": "execute_result"
    }
   ],
   "source": [
    "a3"
   ]
  },
  {
   "cell_type": "code",
   "execution_count": null,
   "metadata": {},
   "outputs": [],
   "source": [
    "a1"
   ]
  },
  {
   "cell_type": "code",
   "execution_count": 42,
   "metadata": {},
   "outputs": [],
   "source": [
    "# Matrix in Python"
   ]
  },
  {
   "cell_type": "code",
   "execution_count": 43,
   "metadata": {},
   "outputs": [],
   "source": [
    "sales_us = [4354,3345,3432,2232]\n",
    "sales_eu = [5433,3433,5554,3333]\n",
    "sales_jp = [2222,3242,2223,3322]"
   ]
  },
  {
   "cell_type": "code",
   "execution_count": 44,
   "metadata": {},
   "outputs": [],
   "source": [
    "profit_us = [435,444,545,566]\n",
    "profit_eu = [544,234,534,566]\n",
    "profit_jp = [655,554,334,454]"
   ]
  },
  {
   "cell_type": "code",
   "execution_count": 45,
   "metadata": {},
   "outputs": [],
   "source": [
    "sales_matrix = np.array([sales_us,sales_eu,sales_jp])"
   ]
  },
  {
   "cell_type": "code",
   "execution_count": 47,
   "metadata": {},
   "outputs": [
    {
     "data": {
      "text/plain": [
       "2"
      ]
     },
     "execution_count": 47,
     "metadata": {},
     "output_type": "execute_result"
    }
   ],
   "source": [
    "sales_matrix.ndim"
   ]
  },
  {
   "cell_type": "code",
   "execution_count": 48,
   "metadata": {},
   "outputs": [],
   "source": [
    "profit_matrix = np.array([profit_us, profit_eu, profit_jp])"
   ]
  },
  {
   "cell_type": "code",
   "execution_count": 49,
   "metadata": {},
   "outputs": [
    {
     "data": {
      "text/plain": [
       "array([[0.09990813, 0.13273543, 0.15879953, 0.25358423],\n",
       "       [0.10012884, 0.06816196, 0.09614692, 0.16981698],\n",
       "       [0.29477948, 0.17088217, 0.15024741, 0.13666466]])"
      ]
     },
     "execution_count": 49,
     "metadata": {},
     "output_type": "execute_result"
    }
   ],
   "source": [
    "profit_matrix/sales_matrix"
   ]
  },
  {
   "cell_type": "code",
   "execution_count": 50,
   "metadata": {},
   "outputs": [
    {
     "data": {
      "text/plain": [
       "534"
      ]
     },
     "execution_count": 50,
     "metadata": {},
     "output_type": "execute_result"
    }
   ],
   "source": [
    "profit_matrix[1,2]"
   ]
  },
  {
   "cell_type": "code",
   "execution_count": 53,
   "metadata": {},
   "outputs": [
    {
     "data": {
      "text/plain": [
       "array([[435, 444, 545, 566],\n",
       "       [544, 234, 534, 566],\n",
       "       [655, 554, 334, 454]])"
      ]
     },
     "execution_count": 53,
     "metadata": {},
     "output_type": "execute_result"
    }
   ],
   "source": [
    "profit_matrix"
   ]
  },
  {
   "cell_type": "code",
   "execution_count": 54,
   "metadata": {},
   "outputs": [],
   "source": [
    "# How to Transpose the matrix"
   ]
  },
  {
   "cell_type": "code",
   "execution_count": 55,
   "metadata": {},
   "outputs": [
    {
     "data": {
      "text/plain": [
       "array([[435, 544, 655],\n",
       "       [444, 234, 554],\n",
       "       [545, 534, 334],\n",
       "       [566, 566, 454]])"
      ]
     },
     "execution_count": 55,
     "metadata": {},
     "output_type": "execute_result"
    }
   ],
   "source": [
    "profit_matrix.T"
   ]
  },
  {
   "cell_type": "code",
   "execution_count": 56,
   "metadata": {},
   "outputs": [
    {
     "name": "stdout",
     "output_type": "stream",
     "text": [
      "[1 0 2]\n",
      "[1 0 2]\n"
     ]
    }
   ],
   "source": [
    "a = np.array([10,20,30])\n",
    "b = np.array([3,5,7])\n",
    "\n",
    "\n",
    "print(np.mod(a,b))\n",
    "print(np.remainder(a,b))"
   ]
  },
  {
   "cell_type": "code",
   "execution_count": 62,
   "metadata": {},
   "outputs": [
    {
     "name": "stdout",
     "output_type": "stream",
     "text": [
      "33\n"
     ]
    }
   ],
   "source": [
    "a = np.array([[79,65,44,55], [65,66,78,66],[77,66,44,33]])\n",
    "#print(a)\n",
    "print(np.amin(a))\n"
   ]
  },
  {
   "cell_type": "code",
   "execution_count": 64,
   "metadata": {},
   "outputs": [
    {
     "name": "stdout",
     "output_type": "stream",
     "text": [
      "79\n"
     ]
    }
   ],
   "source": [
    "print(np.amax(a))"
   ]
  },
  {
   "cell_type": "code",
   "execution_count": 65,
   "metadata": {},
   "outputs": [
    {
     "name": "stdout",
     "output_type": "stream",
     "text": [
      "65.5\n"
     ]
    }
   ],
   "source": [
    "print(np.median(a))"
   ]
  },
  {
   "cell_type": "code",
   "execution_count": 66,
   "metadata": {},
   "outputs": [
    {
     "name": "stdout",
     "output_type": "stream",
     "text": [
      "61.5\n"
     ]
    }
   ],
   "source": [
    "print(np.mean(a))"
   ]
  },
  {
   "cell_type": "code",
   "execution_count": 67,
   "metadata": {},
   "outputs": [
    {
     "data": {
      "text/plain": [
       "14.056433876817168"
      ]
     },
     "execution_count": 67,
     "metadata": {},
     "output_type": "execute_result"
    }
   ],
   "source": [
    "np.std(a)"
   ]
  },
  {
   "cell_type": "code",
   "execution_count": 68,
   "metadata": {},
   "outputs": [
    {
     "data": {
      "text/plain": [
       "197.58333333333334"
      ]
     },
     "execution_count": 68,
     "metadata": {},
     "output_type": "execute_result"
    }
   ],
   "source": [
    "np.var(a)"
   ]
  },
  {
   "cell_type": "code",
   "execution_count": 69,
   "metadata": {},
   "outputs": [
    {
     "data": {
      "text/plain": [
       "array([[79, 65, 44, 55],\n",
       "       [65, 66, 78, 66],\n",
       "       [77, 66, 44, 33]])"
      ]
     },
     "execution_count": 69,
     "metadata": {},
     "output_type": "execute_result"
    }
   ],
   "source": [
    "a"
   ]
  },
  {
   "cell_type": "code",
   "execution_count": 72,
   "metadata": {},
   "outputs": [
    {
     "data": {
      "text/plain": [
       "array([[79, 65, 44],\n",
       "       [55, 65, 66],\n",
       "       [78, 66, 77],\n",
       "       [66, 44, 33]])"
      ]
     },
     "execution_count": 72,
     "metadata": {},
     "output_type": "execute_result"
    }
   ],
   "source": [
    "a.reshape(4,3)"
   ]
  },
  {
   "cell_type": "code",
   "execution_count": null,
   "metadata": {},
   "outputs": [],
   "source": []
  },
  {
   "cell_type": "markdown",
   "metadata": {},
   "source": [
    "# Pandas"
   ]
  },
  {
   "cell_type": "code",
   "execution_count": 107,
   "metadata": {},
   "outputs": [],
   "source": [
    "# 50\n",
    "import pandas as pd "
   ]
  },
  {
   "cell_type": "code",
   "execution_count": 88,
   "metadata": {},
   "outputs": [],
   "source": [
    "stu_details = {'stu_id':[1,2,3,4,5], \n",
    "              'stu_name':['A','B','C','D','E'],\n",
    "              'Region':['N','S','W','E','S']}\n",
    "\n",
    "stu_marks = {'stu_id':[1,2,3,4,6],\n",
    "            'sub':['Py','Tab','R','Py','Py'],\n",
    "            'Marks':[35,32,34,37,38]}"
   ]
  },
  {
   "cell_type": "code",
   "execution_count": 89,
   "metadata": {},
   "outputs": [
    {
     "data": {
      "text/plain": [
       "{'Region': ['N', 'S', 'W', 'E', 'S'],\n",
       " 'stu_id': [1, 2, 3, 4, 5],\n",
       " 'stu_name': ['A', 'B', 'C', 'D', 'E']}"
      ]
     },
     "execution_count": 89,
     "metadata": {},
     "output_type": "execute_result"
    }
   ],
   "source": [
    "stu_details"
   ]
  },
  {
   "cell_type": "code",
   "execution_count": 90,
   "metadata": {},
   "outputs": [
    {
     "data": {
      "text/plain": [
       "{'Marks': [35, 32, 34, 37, 38],\n",
       " 'stu_id': [1, 2, 3, 4, 6],\n",
       " 'sub': ['Py', 'Tab', 'R', 'Py', 'Py']}"
      ]
     },
     "execution_count": 90,
     "metadata": {},
     "output_type": "execute_result"
    }
   ],
   "source": [
    "stu_marks"
   ]
  },
  {
   "cell_type": "code",
   "execution_count": 91,
   "metadata": {},
   "outputs": [],
   "source": [
    "# What is a DataFrame\n",
    "\n",
    "#DataFrame is a 2-dimensional labeled data structure with columns \n",
    "#of potentially different types. You can think of it like a spreadsheet \n",
    "\n",
    "\n",
    "\n",
    "stu_details = pd.DataFrame(stu_details)\n"
   ]
  },
  {
   "cell_type": "code",
   "execution_count": 92,
   "metadata": {},
   "outputs": [
    {
     "data": {
      "text/html": [
       "<div>\n",
       "<style scoped>\n",
       "    .dataframe tbody tr th:only-of-type {\n",
       "        vertical-align: middle;\n",
       "    }\n",
       "\n",
       "    .dataframe tbody tr th {\n",
       "        vertical-align: top;\n",
       "    }\n",
       "\n",
       "    .dataframe thead th {\n",
       "        text-align: right;\n",
       "    }\n",
       "</style>\n",
       "<table border=\"1\" class=\"dataframe\">\n",
       "  <thead>\n",
       "    <tr style=\"text-align: right;\">\n",
       "      <th></th>\n",
       "      <th>stu_id</th>\n",
       "      <th>stu_name</th>\n",
       "      <th>Region</th>\n",
       "    </tr>\n",
       "  </thead>\n",
       "  <tbody>\n",
       "    <tr>\n",
       "      <th>0</th>\n",
       "      <td>1</td>\n",
       "      <td>A</td>\n",
       "      <td>N</td>\n",
       "    </tr>\n",
       "    <tr>\n",
       "      <th>1</th>\n",
       "      <td>2</td>\n",
       "      <td>B</td>\n",
       "      <td>S</td>\n",
       "    </tr>\n",
       "    <tr>\n",
       "      <th>2</th>\n",
       "      <td>3</td>\n",
       "      <td>C</td>\n",
       "      <td>W</td>\n",
       "    </tr>\n",
       "    <tr>\n",
       "      <th>3</th>\n",
       "      <td>4</td>\n",
       "      <td>D</td>\n",
       "      <td>E</td>\n",
       "    </tr>\n",
       "    <tr>\n",
       "      <th>4</th>\n",
       "      <td>5</td>\n",
       "      <td>E</td>\n",
       "      <td>S</td>\n",
       "    </tr>\n",
       "  </tbody>\n",
       "</table>\n",
       "</div>"
      ],
      "text/plain": [
       "   stu_id stu_name Region\n",
       "0       1        A      N\n",
       "1       2        B      S\n",
       "2       3        C      W\n",
       "3       4        D      E\n",
       "4       5        E      S"
      ]
     },
     "execution_count": 92,
     "metadata": {},
     "output_type": "execute_result"
    }
   ],
   "source": [
    "stu_details"
   ]
  },
  {
   "cell_type": "code",
   "execution_count": 93,
   "metadata": {},
   "outputs": [
    {
     "data": {
      "text/plain": [
       "pandas.core.frame.DataFrame"
      ]
     },
     "execution_count": 93,
     "metadata": {},
     "output_type": "execute_result"
    }
   ],
   "source": [
    "type(stu_details)"
   ]
  },
  {
   "cell_type": "code",
   "execution_count": 94,
   "metadata": {},
   "outputs": [],
   "source": [
    "stu_marks = pd.DataFrame(stu_marks)"
   ]
  },
  {
   "cell_type": "code",
   "execution_count": 95,
   "metadata": {},
   "outputs": [
    {
     "data": {
      "text/html": [
       "<div>\n",
       "<style scoped>\n",
       "    .dataframe tbody tr th:only-of-type {\n",
       "        vertical-align: middle;\n",
       "    }\n",
       "\n",
       "    .dataframe tbody tr th {\n",
       "        vertical-align: top;\n",
       "    }\n",
       "\n",
       "    .dataframe thead th {\n",
       "        text-align: right;\n",
       "    }\n",
       "</style>\n",
       "<table border=\"1\" class=\"dataframe\">\n",
       "  <thead>\n",
       "    <tr style=\"text-align: right;\">\n",
       "      <th></th>\n",
       "      <th>stu_id</th>\n",
       "      <th>sub</th>\n",
       "      <th>Marks</th>\n",
       "    </tr>\n",
       "  </thead>\n",
       "  <tbody>\n",
       "    <tr>\n",
       "      <th>0</th>\n",
       "      <td>1</td>\n",
       "      <td>Py</td>\n",
       "      <td>35</td>\n",
       "    </tr>\n",
       "    <tr>\n",
       "      <th>1</th>\n",
       "      <td>2</td>\n",
       "      <td>Tab</td>\n",
       "      <td>32</td>\n",
       "    </tr>\n",
       "    <tr>\n",
       "      <th>2</th>\n",
       "      <td>3</td>\n",
       "      <td>R</td>\n",
       "      <td>34</td>\n",
       "    </tr>\n",
       "    <tr>\n",
       "      <th>3</th>\n",
       "      <td>4</td>\n",
       "      <td>Py</td>\n",
       "      <td>37</td>\n",
       "    </tr>\n",
       "    <tr>\n",
       "      <th>4</th>\n",
       "      <td>6</td>\n",
       "      <td>Py</td>\n",
       "      <td>38</td>\n",
       "    </tr>\n",
       "  </tbody>\n",
       "</table>\n",
       "</div>"
      ],
      "text/plain": [
       "   stu_id  sub  Marks\n",
       "0       1   Py     35\n",
       "1       2  Tab     32\n",
       "2       3    R     34\n",
       "3       4   Py     37\n",
       "4       6   Py     38"
      ]
     },
     "execution_count": 95,
     "metadata": {},
     "output_type": "execute_result"
    }
   ],
   "source": [
    "stu_marks"
   ]
  },
  {
   "cell_type": "code",
   "execution_count": 96,
   "metadata": {},
   "outputs": [
    {
     "data": {
      "text/html": [
       "<div>\n",
       "<style scoped>\n",
       "    .dataframe tbody tr th:only-of-type {\n",
       "        vertical-align: middle;\n",
       "    }\n",
       "\n",
       "    .dataframe tbody tr th {\n",
       "        vertical-align: top;\n",
       "    }\n",
       "\n",
       "    .dataframe thead th {\n",
       "        text-align: right;\n",
       "    }\n",
       "</style>\n",
       "<table border=\"1\" class=\"dataframe\">\n",
       "  <thead>\n",
       "    <tr style=\"text-align: right;\">\n",
       "      <th></th>\n",
       "      <th>stu_id</th>\n",
       "      <th>stu_name</th>\n",
       "      <th>Region</th>\n",
       "    </tr>\n",
       "  </thead>\n",
       "  <tbody>\n",
       "    <tr>\n",
       "      <th>0</th>\n",
       "      <td>1</td>\n",
       "      <td>A</td>\n",
       "      <td>N</td>\n",
       "    </tr>\n",
       "    <tr>\n",
       "      <th>1</th>\n",
       "      <td>2</td>\n",
       "      <td>B</td>\n",
       "      <td>S</td>\n",
       "    </tr>\n",
       "    <tr>\n",
       "      <th>2</th>\n",
       "      <td>3</td>\n",
       "      <td>C</td>\n",
       "      <td>W</td>\n",
       "    </tr>\n",
       "    <tr>\n",
       "      <th>3</th>\n",
       "      <td>4</td>\n",
       "      <td>D</td>\n",
       "      <td>E</td>\n",
       "    </tr>\n",
       "    <tr>\n",
       "      <th>4</th>\n",
       "      <td>5</td>\n",
       "      <td>E</td>\n",
       "      <td>S</td>\n",
       "    </tr>\n",
       "  </tbody>\n",
       "</table>\n",
       "</div>"
      ],
      "text/plain": [
       "   stu_id stu_name Region\n",
       "0       1        A      N\n",
       "1       2        B      S\n",
       "2       3        C      W\n",
       "3       4        D      E\n",
       "4       5        E      S"
      ]
     },
     "execution_count": 96,
     "metadata": {},
     "output_type": "execute_result"
    }
   ],
   "source": [
    "stu_details"
   ]
  },
  {
   "cell_type": "code",
   "execution_count": 97,
   "metadata": {},
   "outputs": [],
   "source": [
    "# Join Data frames\n"
   ]
  },
  {
   "cell_type": "code",
   "execution_count": 99,
   "metadata": {},
   "outputs": [
    {
     "data": {
      "text/html": [
       "<div>\n",
       "<style scoped>\n",
       "    .dataframe tbody tr th:only-of-type {\n",
       "        vertical-align: middle;\n",
       "    }\n",
       "\n",
       "    .dataframe tbody tr th {\n",
       "        vertical-align: top;\n",
       "    }\n",
       "\n",
       "    .dataframe thead th {\n",
       "        text-align: right;\n",
       "    }\n",
       "</style>\n",
       "<table border=\"1\" class=\"dataframe\">\n",
       "  <thead>\n",
       "    <tr style=\"text-align: right;\">\n",
       "      <th></th>\n",
       "      <th>stu_id</th>\n",
       "      <th>stu_name</th>\n",
       "      <th>Region</th>\n",
       "      <th>sub</th>\n",
       "      <th>Marks</th>\n",
       "    </tr>\n",
       "  </thead>\n",
       "  <tbody>\n",
       "    <tr>\n",
       "      <th>0</th>\n",
       "      <td>1</td>\n",
       "      <td>A</td>\n",
       "      <td>N</td>\n",
       "      <td>Py</td>\n",
       "      <td>35</td>\n",
       "    </tr>\n",
       "    <tr>\n",
       "      <th>1</th>\n",
       "      <td>2</td>\n",
       "      <td>B</td>\n",
       "      <td>S</td>\n",
       "      <td>Tab</td>\n",
       "      <td>32</td>\n",
       "    </tr>\n",
       "    <tr>\n",
       "      <th>2</th>\n",
       "      <td>3</td>\n",
       "      <td>C</td>\n",
       "      <td>W</td>\n",
       "      <td>R</td>\n",
       "      <td>34</td>\n",
       "    </tr>\n",
       "    <tr>\n",
       "      <th>3</th>\n",
       "      <td>4</td>\n",
       "      <td>D</td>\n",
       "      <td>E</td>\n",
       "      <td>Py</td>\n",
       "      <td>37</td>\n",
       "    </tr>\n",
       "  </tbody>\n",
       "</table>\n",
       "</div>"
      ],
      "text/plain": [
       "   stu_id stu_name Region  sub  Marks\n",
       "0       1        A      N   Py     35\n",
       "1       2        B      S  Tab     32\n",
       "2       3        C      W    R     34\n",
       "3       4        D      E   Py     37"
      ]
     },
     "execution_count": 99,
     "metadata": {},
     "output_type": "execute_result"
    }
   ],
   "source": [
    "pd.merge(stu_details,stu_marks, left_on='stu_id',right_on='stu_id', how='inner')"
   ]
  },
  {
   "cell_type": "code",
   "execution_count": 101,
   "metadata": {},
   "outputs": [
    {
     "data": {
      "text/html": [
       "<div>\n",
       "<style scoped>\n",
       "    .dataframe tbody tr th:only-of-type {\n",
       "        vertical-align: middle;\n",
       "    }\n",
       "\n",
       "    .dataframe tbody tr th {\n",
       "        vertical-align: top;\n",
       "    }\n",
       "\n",
       "    .dataframe thead th {\n",
       "        text-align: right;\n",
       "    }\n",
       "</style>\n",
       "<table border=\"1\" class=\"dataframe\">\n",
       "  <thead>\n",
       "    <tr style=\"text-align: right;\">\n",
       "      <th></th>\n",
       "      <th>stu_id</th>\n",
       "      <th>stu_name</th>\n",
       "      <th>Region</th>\n",
       "      <th>sub</th>\n",
       "      <th>Marks</th>\n",
       "    </tr>\n",
       "  </thead>\n",
       "  <tbody>\n",
       "    <tr>\n",
       "      <th>0</th>\n",
       "      <td>1</td>\n",
       "      <td>A</td>\n",
       "      <td>N</td>\n",
       "      <td>Py</td>\n",
       "      <td>35.0</td>\n",
       "    </tr>\n",
       "    <tr>\n",
       "      <th>1</th>\n",
       "      <td>2</td>\n",
       "      <td>B</td>\n",
       "      <td>S</td>\n",
       "      <td>Tab</td>\n",
       "      <td>32.0</td>\n",
       "    </tr>\n",
       "    <tr>\n",
       "      <th>2</th>\n",
       "      <td>3</td>\n",
       "      <td>C</td>\n",
       "      <td>W</td>\n",
       "      <td>R</td>\n",
       "      <td>34.0</td>\n",
       "    </tr>\n",
       "    <tr>\n",
       "      <th>3</th>\n",
       "      <td>4</td>\n",
       "      <td>D</td>\n",
       "      <td>E</td>\n",
       "      <td>Py</td>\n",
       "      <td>37.0</td>\n",
       "    </tr>\n",
       "    <tr>\n",
       "      <th>4</th>\n",
       "      <td>5</td>\n",
       "      <td>E</td>\n",
       "      <td>S</td>\n",
       "      <td>NaN</td>\n",
       "      <td>NaN</td>\n",
       "    </tr>\n",
       "  </tbody>\n",
       "</table>\n",
       "</div>"
      ],
      "text/plain": [
       "   stu_id stu_name Region  sub  Marks\n",
       "0       1        A      N   Py   35.0\n",
       "1       2        B      S  Tab   32.0\n",
       "2       3        C      W    R   34.0\n",
       "3       4        D      E   Py   37.0\n",
       "4       5        E      S  NaN    NaN"
      ]
     },
     "execution_count": 101,
     "metadata": {},
     "output_type": "execute_result"
    }
   ],
   "source": [
    "pd.merge(stu_details,stu_marks, on='stu_id', how='left')"
   ]
  },
  {
   "cell_type": "code",
   "execution_count": 103,
   "metadata": {},
   "outputs": [
    {
     "data": {
      "text/html": [
       "<div>\n",
       "<style scoped>\n",
       "    .dataframe tbody tr th:only-of-type {\n",
       "        vertical-align: middle;\n",
       "    }\n",
       "\n",
       "    .dataframe tbody tr th {\n",
       "        vertical-align: top;\n",
       "    }\n",
       "\n",
       "    .dataframe thead th {\n",
       "        text-align: right;\n",
       "    }\n",
       "</style>\n",
       "<table border=\"1\" class=\"dataframe\">\n",
       "  <thead>\n",
       "    <tr style=\"text-align: right;\">\n",
       "      <th></th>\n",
       "      <th>stu_id</th>\n",
       "      <th>stu_name</th>\n",
       "      <th>Region</th>\n",
       "      <th>sub</th>\n",
       "      <th>Marks</th>\n",
       "    </tr>\n",
       "  </thead>\n",
       "  <tbody>\n",
       "    <tr>\n",
       "      <th>0</th>\n",
       "      <td>1</td>\n",
       "      <td>A</td>\n",
       "      <td>N</td>\n",
       "      <td>Py</td>\n",
       "      <td>35</td>\n",
       "    </tr>\n",
       "    <tr>\n",
       "      <th>1</th>\n",
       "      <td>2</td>\n",
       "      <td>B</td>\n",
       "      <td>S</td>\n",
       "      <td>Tab</td>\n",
       "      <td>32</td>\n",
       "    </tr>\n",
       "    <tr>\n",
       "      <th>2</th>\n",
       "      <td>3</td>\n",
       "      <td>C</td>\n",
       "      <td>W</td>\n",
       "      <td>R</td>\n",
       "      <td>34</td>\n",
       "    </tr>\n",
       "    <tr>\n",
       "      <th>3</th>\n",
       "      <td>4</td>\n",
       "      <td>D</td>\n",
       "      <td>E</td>\n",
       "      <td>Py</td>\n",
       "      <td>37</td>\n",
       "    </tr>\n",
       "    <tr>\n",
       "      <th>4</th>\n",
       "      <td>6</td>\n",
       "      <td>NaN</td>\n",
       "      <td>NaN</td>\n",
       "      <td>Py</td>\n",
       "      <td>38</td>\n",
       "    </tr>\n",
       "  </tbody>\n",
       "</table>\n",
       "</div>"
      ],
      "text/plain": [
       "   stu_id stu_name Region  sub  Marks\n",
       "0       1        A      N   Py     35\n",
       "1       2        B      S  Tab     32\n",
       "2       3        C      W    R     34\n",
       "3       4        D      E   Py     37\n",
       "4       6      NaN    NaN   Py     38"
      ]
     },
     "execution_count": 103,
     "metadata": {},
     "output_type": "execute_result"
    }
   ],
   "source": [
    "pd.merge(stu_details,stu_marks, on='stu_id', how='right')"
   ]
  },
  {
   "cell_type": "code",
   "execution_count": 105,
   "metadata": {},
   "outputs": [
    {
     "data": {
      "text/html": [
       "<div>\n",
       "<style scoped>\n",
       "    .dataframe tbody tr th:only-of-type {\n",
       "        vertical-align: middle;\n",
       "    }\n",
       "\n",
       "    .dataframe tbody tr th {\n",
       "        vertical-align: top;\n",
       "    }\n",
       "\n",
       "    .dataframe thead th {\n",
       "        text-align: right;\n",
       "    }\n",
       "</style>\n",
       "<table border=\"1\" class=\"dataframe\">\n",
       "  <thead>\n",
       "    <tr style=\"text-align: right;\">\n",
       "      <th></th>\n",
       "      <th>stu_id</th>\n",
       "      <th>stu_name</th>\n",
       "      <th>Region</th>\n",
       "      <th>sub</th>\n",
       "      <th>Marks</th>\n",
       "    </tr>\n",
       "  </thead>\n",
       "  <tbody>\n",
       "    <tr>\n",
       "      <th>0</th>\n",
       "      <td>1</td>\n",
       "      <td>A</td>\n",
       "      <td>N</td>\n",
       "      <td>Py</td>\n",
       "      <td>35.0</td>\n",
       "    </tr>\n",
       "    <tr>\n",
       "      <th>1</th>\n",
       "      <td>2</td>\n",
       "      <td>B</td>\n",
       "      <td>S</td>\n",
       "      <td>Tab</td>\n",
       "      <td>32.0</td>\n",
       "    </tr>\n",
       "    <tr>\n",
       "      <th>2</th>\n",
       "      <td>3</td>\n",
       "      <td>C</td>\n",
       "      <td>W</td>\n",
       "      <td>R</td>\n",
       "      <td>34.0</td>\n",
       "    </tr>\n",
       "    <tr>\n",
       "      <th>3</th>\n",
       "      <td>4</td>\n",
       "      <td>D</td>\n",
       "      <td>E</td>\n",
       "      <td>Py</td>\n",
       "      <td>37.0</td>\n",
       "    </tr>\n",
       "    <tr>\n",
       "      <th>4</th>\n",
       "      <td>5</td>\n",
       "      <td>E</td>\n",
       "      <td>S</td>\n",
       "      <td>NaN</td>\n",
       "      <td>NaN</td>\n",
       "    </tr>\n",
       "    <tr>\n",
       "      <th>5</th>\n",
       "      <td>6</td>\n",
       "      <td>NaN</td>\n",
       "      <td>NaN</td>\n",
       "      <td>Py</td>\n",
       "      <td>38.0</td>\n",
       "    </tr>\n",
       "  </tbody>\n",
       "</table>\n",
       "</div>"
      ],
      "text/plain": [
       "   stu_id stu_name Region  sub  Marks\n",
       "0       1        A      N   Py   35.0\n",
       "1       2        B      S  Tab   32.0\n",
       "2       3        C      W    R   34.0\n",
       "3       4        D      E   Py   37.0\n",
       "4       5        E      S  NaN    NaN\n",
       "5       6      NaN    NaN   Py   38.0"
      ]
     },
     "execution_count": 105,
     "metadata": {},
     "output_type": "execute_result"
    }
   ],
   "source": [
    "pd.merge(stu_details,stu_marks, on='stu_id', how='outer')"
   ]
  },
  {
   "cell_type": "code",
   "execution_count": 106,
   "metadata": {},
   "outputs": [],
   "source": [
    "# Importing Data set from Outside"
   ]
  },
  {
   "cell_type": "code",
   "execution_count": 2,
   "metadata": {},
   "outputs": [
    {
     "data": {
      "text/plain": [
       "'C:\\\\Users\\\\MOHAMMED MUZZAMMIL\\\\Downloads'"
      ]
     },
     "execution_count": 2,
     "metadata": {},
     "output_type": "execute_result"
    }
   ],
   "source": [
    "import os\n",
    "os.getcwd()"
   ]
  },
  {
   "cell_type": "code",
   "execution_count": 3,
   "metadata": {},
   "outputs": [],
   "source": [
    "os.chdir(r'C:\\Users\\MOHAMMED MUZZAMMIL\\Desktop\\Workshop')"
   ]
  },
  {
   "cell_type": "code",
   "execution_count": 4,
   "metadata": {},
   "outputs": [
    {
     "data": {
      "text/plain": [
       "'C:\\\\Users\\\\MOHAMMED MUZZAMMIL\\\\Desktop\\\\Workshop'"
      ]
     },
     "execution_count": 4,
     "metadata": {},
     "output_type": "execute_result"
    }
   ],
   "source": [
    "os.getcwd()"
   ]
  },
  {
   "cell_type": "code",
   "execution_count": 23,
   "metadata": {},
   "outputs": [],
   "source": [
    "df= pd.read_csv('iris.csv')"
   ]
  },
  {
   "cell_type": "code",
   "execution_count": 24,
   "metadata": {},
   "outputs": [
    {
     "data": {
      "text/html": [
       "<div>\n",
       "<style scoped>\n",
       "    .dataframe tbody tr th:only-of-type {\n",
       "        vertical-align: middle;\n",
       "    }\n",
       "\n",
       "    .dataframe tbody tr th {\n",
       "        vertical-align: top;\n",
       "    }\n",
       "\n",
       "    .dataframe thead th {\n",
       "        text-align: right;\n",
       "    }\n",
       "</style>\n",
       "<table border=\"1\" class=\"dataframe\">\n",
       "  <thead>\n",
       "    <tr style=\"text-align: right;\">\n",
       "      <th></th>\n",
       "      <th>sepal_length</th>\n",
       "      <th>sepal_width</th>\n",
       "      <th>petal_length</th>\n",
       "      <th>petal_width</th>\n",
       "      <th>species</th>\n",
       "    </tr>\n",
       "  </thead>\n",
       "  <tbody>\n",
       "    <tr>\n",
       "      <th>0</th>\n",
       "      <td>5.1</td>\n",
       "      <td>3.5</td>\n",
       "      <td>1.4</td>\n",
       "      <td>0.2</td>\n",
       "      <td>setosa</td>\n",
       "    </tr>\n",
       "    <tr>\n",
       "      <th>1</th>\n",
       "      <td>4.9</td>\n",
       "      <td>3.0</td>\n",
       "      <td>1.4</td>\n",
       "      <td>0.2</td>\n",
       "      <td>setosa</td>\n",
       "    </tr>\n",
       "    <tr>\n",
       "      <th>2</th>\n",
       "      <td>4.7</td>\n",
       "      <td>3.2</td>\n",
       "      <td>1.3</td>\n",
       "      <td>0.2</td>\n",
       "      <td>setosa</td>\n",
       "    </tr>\n",
       "    <tr>\n",
       "      <th>3</th>\n",
       "      <td>4.6</td>\n",
       "      <td>3.1</td>\n",
       "      <td>1.5</td>\n",
       "      <td>0.2</td>\n",
       "      <td>setosa</td>\n",
       "    </tr>\n",
       "    <tr>\n",
       "      <th>4</th>\n",
       "      <td>5.0</td>\n",
       "      <td>3.6</td>\n",
       "      <td>1.4</td>\n",
       "      <td>0.2</td>\n",
       "      <td>setosa</td>\n",
       "    </tr>\n",
       "    <tr>\n",
       "      <th>5</th>\n",
       "      <td>5.4</td>\n",
       "      <td>3.9</td>\n",
       "      <td>1.7</td>\n",
       "      <td>0.4</td>\n",
       "      <td>setosa</td>\n",
       "    </tr>\n",
       "    <tr>\n",
       "      <th>6</th>\n",
       "      <td>4.6</td>\n",
       "      <td>3.4</td>\n",
       "      <td>1.4</td>\n",
       "      <td>0.3</td>\n",
       "      <td>setosa</td>\n",
       "    </tr>\n",
       "    <tr>\n",
       "      <th>7</th>\n",
       "      <td>5.0</td>\n",
       "      <td>3.4</td>\n",
       "      <td>1.5</td>\n",
       "      <td>0.2</td>\n",
       "      <td>setosa</td>\n",
       "    </tr>\n",
       "    <tr>\n",
       "      <th>8</th>\n",
       "      <td>4.4</td>\n",
       "      <td>2.9</td>\n",
       "      <td>1.4</td>\n",
       "      <td>0.2</td>\n",
       "      <td>setosa</td>\n",
       "    </tr>\n",
       "    <tr>\n",
       "      <th>9</th>\n",
       "      <td>4.9</td>\n",
       "      <td>3.1</td>\n",
       "      <td>1.5</td>\n",
       "      <td>0.1</td>\n",
       "      <td>setosa</td>\n",
       "    </tr>\n",
       "    <tr>\n",
       "      <th>10</th>\n",
       "      <td>5.4</td>\n",
       "      <td>3.7</td>\n",
       "      <td>1.5</td>\n",
       "      <td>0.2</td>\n",
       "      <td>setosa</td>\n",
       "    </tr>\n",
       "    <tr>\n",
       "      <th>11</th>\n",
       "      <td>4.8</td>\n",
       "      <td>3.4</td>\n",
       "      <td>1.6</td>\n",
       "      <td>0.2</td>\n",
       "      <td>setosa</td>\n",
       "    </tr>\n",
       "    <tr>\n",
       "      <th>12</th>\n",
       "      <td>4.8</td>\n",
       "      <td>3.0</td>\n",
       "      <td>1.4</td>\n",
       "      <td>0.1</td>\n",
       "      <td>setosa</td>\n",
       "    </tr>\n",
       "    <tr>\n",
       "      <th>13</th>\n",
       "      <td>4.3</td>\n",
       "      <td>3.0</td>\n",
       "      <td>1.1</td>\n",
       "      <td>0.1</td>\n",
       "      <td>setosa</td>\n",
       "    </tr>\n",
       "    <tr>\n",
       "      <th>14</th>\n",
       "      <td>5.8</td>\n",
       "      <td>4.0</td>\n",
       "      <td>1.2</td>\n",
       "      <td>0.2</td>\n",
       "      <td>setosa</td>\n",
       "    </tr>\n",
       "    <tr>\n",
       "      <th>15</th>\n",
       "      <td>5.7</td>\n",
       "      <td>4.4</td>\n",
       "      <td>1.5</td>\n",
       "      <td>0.4</td>\n",
       "      <td>setosa</td>\n",
       "    </tr>\n",
       "    <tr>\n",
       "      <th>16</th>\n",
       "      <td>5.4</td>\n",
       "      <td>3.9</td>\n",
       "      <td>1.3</td>\n",
       "      <td>0.4</td>\n",
       "      <td>setosa</td>\n",
       "    </tr>\n",
       "    <tr>\n",
       "      <th>17</th>\n",
       "      <td>5.1</td>\n",
       "      <td>3.5</td>\n",
       "      <td>1.4</td>\n",
       "      <td>0.3</td>\n",
       "      <td>setosa</td>\n",
       "    </tr>\n",
       "    <tr>\n",
       "      <th>18</th>\n",
       "      <td>5.7</td>\n",
       "      <td>3.8</td>\n",
       "      <td>1.7</td>\n",
       "      <td>0.3</td>\n",
       "      <td>setosa</td>\n",
       "    </tr>\n",
       "    <tr>\n",
       "      <th>19</th>\n",
       "      <td>5.1</td>\n",
       "      <td>3.8</td>\n",
       "      <td>1.5</td>\n",
       "      <td>0.3</td>\n",
       "      <td>setosa</td>\n",
       "    </tr>\n",
       "    <tr>\n",
       "      <th>20</th>\n",
       "      <td>5.4</td>\n",
       "      <td>3.4</td>\n",
       "      <td>1.7</td>\n",
       "      <td>0.2</td>\n",
       "      <td>setosa</td>\n",
       "    </tr>\n",
       "    <tr>\n",
       "      <th>21</th>\n",
       "      <td>5.1</td>\n",
       "      <td>3.7</td>\n",
       "      <td>1.5</td>\n",
       "      <td>0.4</td>\n",
       "      <td>setosa</td>\n",
       "    </tr>\n",
       "    <tr>\n",
       "      <th>22</th>\n",
       "      <td>4.6</td>\n",
       "      <td>3.6</td>\n",
       "      <td>1.0</td>\n",
       "      <td>0.2</td>\n",
       "      <td>setosa</td>\n",
       "    </tr>\n",
       "    <tr>\n",
       "      <th>23</th>\n",
       "      <td>5.1</td>\n",
       "      <td>3.3</td>\n",
       "      <td>1.7</td>\n",
       "      <td>0.5</td>\n",
       "      <td>setosa</td>\n",
       "    </tr>\n",
       "    <tr>\n",
       "      <th>24</th>\n",
       "      <td>4.8</td>\n",
       "      <td>3.4</td>\n",
       "      <td>1.9</td>\n",
       "      <td>0.2</td>\n",
       "      <td>setosa</td>\n",
       "    </tr>\n",
       "    <tr>\n",
       "      <th>25</th>\n",
       "      <td>5.0</td>\n",
       "      <td>3.0</td>\n",
       "      <td>1.6</td>\n",
       "      <td>0.2</td>\n",
       "      <td>setosa</td>\n",
       "    </tr>\n",
       "    <tr>\n",
       "      <th>26</th>\n",
       "      <td>5.0</td>\n",
       "      <td>3.4</td>\n",
       "      <td>1.6</td>\n",
       "      <td>0.4</td>\n",
       "      <td>setosa</td>\n",
       "    </tr>\n",
       "    <tr>\n",
       "      <th>27</th>\n",
       "      <td>5.2</td>\n",
       "      <td>3.5</td>\n",
       "      <td>1.5</td>\n",
       "      <td>0.2</td>\n",
       "      <td>setosa</td>\n",
       "    </tr>\n",
       "    <tr>\n",
       "      <th>28</th>\n",
       "      <td>5.2</td>\n",
       "      <td>3.4</td>\n",
       "      <td>1.4</td>\n",
       "      <td>0.2</td>\n",
       "      <td>setosa</td>\n",
       "    </tr>\n",
       "    <tr>\n",
       "      <th>29</th>\n",
       "      <td>4.7</td>\n",
       "      <td>3.2</td>\n",
       "      <td>1.6</td>\n",
       "      <td>0.2</td>\n",
       "      <td>setosa</td>\n",
       "    </tr>\n",
       "    <tr>\n",
       "      <th>...</th>\n",
       "      <td>...</td>\n",
       "      <td>...</td>\n",
       "      <td>...</td>\n",
       "      <td>...</td>\n",
       "      <td>...</td>\n",
       "    </tr>\n",
       "    <tr>\n",
       "      <th>120</th>\n",
       "      <td>6.9</td>\n",
       "      <td>3.2</td>\n",
       "      <td>5.7</td>\n",
       "      <td>2.3</td>\n",
       "      <td>virginica</td>\n",
       "    </tr>\n",
       "    <tr>\n",
       "      <th>121</th>\n",
       "      <td>5.6</td>\n",
       "      <td>2.8</td>\n",
       "      <td>4.9</td>\n",
       "      <td>2.0</td>\n",
       "      <td>virginica</td>\n",
       "    </tr>\n",
       "    <tr>\n",
       "      <th>122</th>\n",
       "      <td>7.7</td>\n",
       "      <td>2.8</td>\n",
       "      <td>6.7</td>\n",
       "      <td>2.0</td>\n",
       "      <td>virginica</td>\n",
       "    </tr>\n",
       "    <tr>\n",
       "      <th>123</th>\n",
       "      <td>6.3</td>\n",
       "      <td>2.7</td>\n",
       "      <td>4.9</td>\n",
       "      <td>1.8</td>\n",
       "      <td>virginica</td>\n",
       "    </tr>\n",
       "    <tr>\n",
       "      <th>124</th>\n",
       "      <td>6.7</td>\n",
       "      <td>3.3</td>\n",
       "      <td>5.7</td>\n",
       "      <td>2.1</td>\n",
       "      <td>virginica</td>\n",
       "    </tr>\n",
       "    <tr>\n",
       "      <th>125</th>\n",
       "      <td>7.2</td>\n",
       "      <td>3.2</td>\n",
       "      <td>6.0</td>\n",
       "      <td>1.8</td>\n",
       "      <td>virginica</td>\n",
       "    </tr>\n",
       "    <tr>\n",
       "      <th>126</th>\n",
       "      <td>6.2</td>\n",
       "      <td>2.8</td>\n",
       "      <td>4.8</td>\n",
       "      <td>1.8</td>\n",
       "      <td>virginica</td>\n",
       "    </tr>\n",
       "    <tr>\n",
       "      <th>127</th>\n",
       "      <td>6.1</td>\n",
       "      <td>3.0</td>\n",
       "      <td>4.9</td>\n",
       "      <td>1.8</td>\n",
       "      <td>virginica</td>\n",
       "    </tr>\n",
       "    <tr>\n",
       "      <th>128</th>\n",
       "      <td>6.4</td>\n",
       "      <td>2.8</td>\n",
       "      <td>5.6</td>\n",
       "      <td>2.1</td>\n",
       "      <td>virginica</td>\n",
       "    </tr>\n",
       "    <tr>\n",
       "      <th>129</th>\n",
       "      <td>7.2</td>\n",
       "      <td>3.0</td>\n",
       "      <td>5.8</td>\n",
       "      <td>1.6</td>\n",
       "      <td>virginica</td>\n",
       "    </tr>\n",
       "    <tr>\n",
       "      <th>130</th>\n",
       "      <td>7.4</td>\n",
       "      <td>2.8</td>\n",
       "      <td>6.1</td>\n",
       "      <td>1.9</td>\n",
       "      <td>virginica</td>\n",
       "    </tr>\n",
       "    <tr>\n",
       "      <th>131</th>\n",
       "      <td>7.9</td>\n",
       "      <td>3.8</td>\n",
       "      <td>6.4</td>\n",
       "      <td>2.0</td>\n",
       "      <td>virginica</td>\n",
       "    </tr>\n",
       "    <tr>\n",
       "      <th>132</th>\n",
       "      <td>6.4</td>\n",
       "      <td>2.8</td>\n",
       "      <td>5.6</td>\n",
       "      <td>2.2</td>\n",
       "      <td>virginica</td>\n",
       "    </tr>\n",
       "    <tr>\n",
       "      <th>133</th>\n",
       "      <td>6.3</td>\n",
       "      <td>2.8</td>\n",
       "      <td>5.1</td>\n",
       "      <td>1.5</td>\n",
       "      <td>virginica</td>\n",
       "    </tr>\n",
       "    <tr>\n",
       "      <th>134</th>\n",
       "      <td>6.1</td>\n",
       "      <td>2.6</td>\n",
       "      <td>5.6</td>\n",
       "      <td>1.4</td>\n",
       "      <td>virginica</td>\n",
       "    </tr>\n",
       "    <tr>\n",
       "      <th>135</th>\n",
       "      <td>7.7</td>\n",
       "      <td>3.0</td>\n",
       "      <td>6.1</td>\n",
       "      <td>2.3</td>\n",
       "      <td>virginica</td>\n",
       "    </tr>\n",
       "    <tr>\n",
       "      <th>136</th>\n",
       "      <td>6.3</td>\n",
       "      <td>3.4</td>\n",
       "      <td>5.6</td>\n",
       "      <td>2.4</td>\n",
       "      <td>virginica</td>\n",
       "    </tr>\n",
       "    <tr>\n",
       "      <th>137</th>\n",
       "      <td>6.4</td>\n",
       "      <td>3.1</td>\n",
       "      <td>5.5</td>\n",
       "      <td>1.8</td>\n",
       "      <td>virginica</td>\n",
       "    </tr>\n",
       "    <tr>\n",
       "      <th>138</th>\n",
       "      <td>6.0</td>\n",
       "      <td>3.0</td>\n",
       "      <td>4.8</td>\n",
       "      <td>1.8</td>\n",
       "      <td>virginica</td>\n",
       "    </tr>\n",
       "    <tr>\n",
       "      <th>139</th>\n",
       "      <td>6.9</td>\n",
       "      <td>3.1</td>\n",
       "      <td>5.4</td>\n",
       "      <td>2.1</td>\n",
       "      <td>virginica</td>\n",
       "    </tr>\n",
       "    <tr>\n",
       "      <th>140</th>\n",
       "      <td>6.7</td>\n",
       "      <td>3.1</td>\n",
       "      <td>5.6</td>\n",
       "      <td>2.4</td>\n",
       "      <td>virginica</td>\n",
       "    </tr>\n",
       "    <tr>\n",
       "      <th>141</th>\n",
       "      <td>6.9</td>\n",
       "      <td>3.1</td>\n",
       "      <td>5.1</td>\n",
       "      <td>2.3</td>\n",
       "      <td>virginica</td>\n",
       "    </tr>\n",
       "    <tr>\n",
       "      <th>142</th>\n",
       "      <td>5.8</td>\n",
       "      <td>2.7</td>\n",
       "      <td>5.1</td>\n",
       "      <td>1.9</td>\n",
       "      <td>virginica</td>\n",
       "    </tr>\n",
       "    <tr>\n",
       "      <th>143</th>\n",
       "      <td>6.8</td>\n",
       "      <td>3.2</td>\n",
       "      <td>5.9</td>\n",
       "      <td>2.3</td>\n",
       "      <td>virginica</td>\n",
       "    </tr>\n",
       "    <tr>\n",
       "      <th>144</th>\n",
       "      <td>6.7</td>\n",
       "      <td>3.3</td>\n",
       "      <td>5.7</td>\n",
       "      <td>2.5</td>\n",
       "      <td>virginica</td>\n",
       "    </tr>\n",
       "    <tr>\n",
       "      <th>145</th>\n",
       "      <td>6.7</td>\n",
       "      <td>3.0</td>\n",
       "      <td>5.2</td>\n",
       "      <td>2.3</td>\n",
       "      <td>virginica</td>\n",
       "    </tr>\n",
       "    <tr>\n",
       "      <th>146</th>\n",
       "      <td>6.3</td>\n",
       "      <td>2.5</td>\n",
       "      <td>5.0</td>\n",
       "      <td>1.9</td>\n",
       "      <td>virginica</td>\n",
       "    </tr>\n",
       "    <tr>\n",
       "      <th>147</th>\n",
       "      <td>6.5</td>\n",
       "      <td>3.0</td>\n",
       "      <td>5.2</td>\n",
       "      <td>2.0</td>\n",
       "      <td>virginica</td>\n",
       "    </tr>\n",
       "    <tr>\n",
       "      <th>148</th>\n",
       "      <td>6.2</td>\n",
       "      <td>3.4</td>\n",
       "      <td>5.4</td>\n",
       "      <td>2.3</td>\n",
       "      <td>virginica</td>\n",
       "    </tr>\n",
       "    <tr>\n",
       "      <th>149</th>\n",
       "      <td>5.9</td>\n",
       "      <td>3.0</td>\n",
       "      <td>5.1</td>\n",
       "      <td>1.8</td>\n",
       "      <td>virginica</td>\n",
       "    </tr>\n",
       "  </tbody>\n",
       "</table>\n",
       "<p>150 rows × 5 columns</p>\n",
       "</div>"
      ],
      "text/plain": [
       "     sepal_length  sepal_width  petal_length  petal_width    species\n",
       "0             5.1          3.5           1.4          0.2     setosa\n",
       "1             4.9          3.0           1.4          0.2     setosa\n",
       "2             4.7          3.2           1.3          0.2     setosa\n",
       "3             4.6          3.1           1.5          0.2     setosa\n",
       "4             5.0          3.6           1.4          0.2     setosa\n",
       "5             5.4          3.9           1.7          0.4     setosa\n",
       "6             4.6          3.4           1.4          0.3     setosa\n",
       "7             5.0          3.4           1.5          0.2     setosa\n",
       "8             4.4          2.9           1.4          0.2     setosa\n",
       "9             4.9          3.1           1.5          0.1     setosa\n",
       "10            5.4          3.7           1.5          0.2     setosa\n",
       "11            4.8          3.4           1.6          0.2     setosa\n",
       "12            4.8          3.0           1.4          0.1     setosa\n",
       "13            4.3          3.0           1.1          0.1     setosa\n",
       "14            5.8          4.0           1.2          0.2     setosa\n",
       "15            5.7          4.4           1.5          0.4     setosa\n",
       "16            5.4          3.9           1.3          0.4     setosa\n",
       "17            5.1          3.5           1.4          0.3     setosa\n",
       "18            5.7          3.8           1.7          0.3     setosa\n",
       "19            5.1          3.8           1.5          0.3     setosa\n",
       "20            5.4          3.4           1.7          0.2     setosa\n",
       "21            5.1          3.7           1.5          0.4     setosa\n",
       "22            4.6          3.6           1.0          0.2     setosa\n",
       "23            5.1          3.3           1.7          0.5     setosa\n",
       "24            4.8          3.4           1.9          0.2     setosa\n",
       "25            5.0          3.0           1.6          0.2     setosa\n",
       "26            5.0          3.4           1.6          0.4     setosa\n",
       "27            5.2          3.5           1.5          0.2     setosa\n",
       "28            5.2          3.4           1.4          0.2     setosa\n",
       "29            4.7          3.2           1.6          0.2     setosa\n",
       "..            ...          ...           ...          ...        ...\n",
       "120           6.9          3.2           5.7          2.3  virginica\n",
       "121           5.6          2.8           4.9          2.0  virginica\n",
       "122           7.7          2.8           6.7          2.0  virginica\n",
       "123           6.3          2.7           4.9          1.8  virginica\n",
       "124           6.7          3.3           5.7          2.1  virginica\n",
       "125           7.2          3.2           6.0          1.8  virginica\n",
       "126           6.2          2.8           4.8          1.8  virginica\n",
       "127           6.1          3.0           4.9          1.8  virginica\n",
       "128           6.4          2.8           5.6          2.1  virginica\n",
       "129           7.2          3.0           5.8          1.6  virginica\n",
       "130           7.4          2.8           6.1          1.9  virginica\n",
       "131           7.9          3.8           6.4          2.0  virginica\n",
       "132           6.4          2.8           5.6          2.2  virginica\n",
       "133           6.3          2.8           5.1          1.5  virginica\n",
       "134           6.1          2.6           5.6          1.4  virginica\n",
       "135           7.7          3.0           6.1          2.3  virginica\n",
       "136           6.3          3.4           5.6          2.4  virginica\n",
       "137           6.4          3.1           5.5          1.8  virginica\n",
       "138           6.0          3.0           4.8          1.8  virginica\n",
       "139           6.9          3.1           5.4          2.1  virginica\n",
       "140           6.7          3.1           5.6          2.4  virginica\n",
       "141           6.9          3.1           5.1          2.3  virginica\n",
       "142           5.8          2.7           5.1          1.9  virginica\n",
       "143           6.8          3.2           5.9          2.3  virginica\n",
       "144           6.7          3.3           5.7          2.5  virginica\n",
       "145           6.7          3.0           5.2          2.3  virginica\n",
       "146           6.3          2.5           5.0          1.9  virginica\n",
       "147           6.5          3.0           5.2          2.0  virginica\n",
       "148           6.2          3.4           5.4          2.3  virginica\n",
       "149           5.9          3.0           5.1          1.8  virginica\n",
       "\n",
       "[150 rows x 5 columns]"
      ]
     },
     "execution_count": 24,
     "metadata": {},
     "output_type": "execute_result"
    }
   ],
   "source": [
    "df"
   ]
  },
  {
   "cell_type": "code",
   "execution_count": 10,
   "metadata": {},
   "outputs": [
    {
     "data": {
      "text/plain": [
       "Index(['sepal_length', 'sepal_width', 'petal_length', 'petal_width',\n",
       "       'species'],\n",
       "      dtype='object')"
      ]
     },
     "execution_count": 10,
     "metadata": {},
     "output_type": "execute_result"
    }
   ],
   "source": [
    "df.columns"
   ]
  },
  {
   "cell_type": "code",
   "execution_count": 11,
   "metadata": {},
   "outputs": [
    {
     "data": {
      "text/html": [
       "<div>\n",
       "<style scoped>\n",
       "    .dataframe tbody tr th:only-of-type {\n",
       "        vertical-align: middle;\n",
       "    }\n",
       "\n",
       "    .dataframe tbody tr th {\n",
       "        vertical-align: top;\n",
       "    }\n",
       "\n",
       "    .dataframe thead th {\n",
       "        text-align: right;\n",
       "    }\n",
       "</style>\n",
       "<table border=\"1\" class=\"dataframe\">\n",
       "  <thead>\n",
       "    <tr style=\"text-align: right;\">\n",
       "      <th></th>\n",
       "      <th>sepal_length</th>\n",
       "      <th>sepal_width</th>\n",
       "      <th>petal_length</th>\n",
       "      <th>petal_width</th>\n",
       "      <th>species</th>\n",
       "    </tr>\n",
       "  </thead>\n",
       "  <tbody>\n",
       "    <tr>\n",
       "      <th>0</th>\n",
       "      <td>5.1</td>\n",
       "      <td>3.5</td>\n",
       "      <td>1.4</td>\n",
       "      <td>0.2</td>\n",
       "      <td>setosa</td>\n",
       "    </tr>\n",
       "    <tr>\n",
       "      <th>1</th>\n",
       "      <td>4.9</td>\n",
       "      <td>3.0</td>\n",
       "      <td>1.4</td>\n",
       "      <td>0.2</td>\n",
       "      <td>setosa</td>\n",
       "    </tr>\n",
       "    <tr>\n",
       "      <th>2</th>\n",
       "      <td>4.7</td>\n",
       "      <td>3.2</td>\n",
       "      <td>1.3</td>\n",
       "      <td>0.2</td>\n",
       "      <td>setosa</td>\n",
       "    </tr>\n",
       "    <tr>\n",
       "      <th>3</th>\n",
       "      <td>4.6</td>\n",
       "      <td>3.1</td>\n",
       "      <td>1.5</td>\n",
       "      <td>0.2</td>\n",
       "      <td>setosa</td>\n",
       "    </tr>\n",
       "    <tr>\n",
       "      <th>4</th>\n",
       "      <td>5.0</td>\n",
       "      <td>3.6</td>\n",
       "      <td>1.4</td>\n",
       "      <td>0.2</td>\n",
       "      <td>setosa</td>\n",
       "    </tr>\n",
       "    <tr>\n",
       "      <th>5</th>\n",
       "      <td>5.4</td>\n",
       "      <td>3.9</td>\n",
       "      <td>1.7</td>\n",
       "      <td>0.4</td>\n",
       "      <td>setosa</td>\n",
       "    </tr>\n",
       "    <tr>\n",
       "      <th>6</th>\n",
       "      <td>4.6</td>\n",
       "      <td>3.4</td>\n",
       "      <td>1.4</td>\n",
       "      <td>0.3</td>\n",
       "      <td>setosa</td>\n",
       "    </tr>\n",
       "    <tr>\n",
       "      <th>7</th>\n",
       "      <td>5.0</td>\n",
       "      <td>3.4</td>\n",
       "      <td>1.5</td>\n",
       "      <td>0.2</td>\n",
       "      <td>setosa</td>\n",
       "    </tr>\n",
       "    <tr>\n",
       "      <th>8</th>\n",
       "      <td>4.4</td>\n",
       "      <td>2.9</td>\n",
       "      <td>1.4</td>\n",
       "      <td>0.2</td>\n",
       "      <td>setosa</td>\n",
       "    </tr>\n",
       "    <tr>\n",
       "      <th>9</th>\n",
       "      <td>4.9</td>\n",
       "      <td>3.1</td>\n",
       "      <td>1.5</td>\n",
       "      <td>0.1</td>\n",
       "      <td>setosa</td>\n",
       "    </tr>\n",
       "  </tbody>\n",
       "</table>\n",
       "</div>"
      ],
      "text/plain": [
       "   sepal_length  sepal_width  petal_length  petal_width species\n",
       "0           5.1          3.5           1.4          0.2  setosa\n",
       "1           4.9          3.0           1.4          0.2  setosa\n",
       "2           4.7          3.2           1.3          0.2  setosa\n",
       "3           4.6          3.1           1.5          0.2  setosa\n",
       "4           5.0          3.6           1.4          0.2  setosa\n",
       "5           5.4          3.9           1.7          0.4  setosa\n",
       "6           4.6          3.4           1.4          0.3  setosa\n",
       "7           5.0          3.4           1.5          0.2  setosa\n",
       "8           4.4          2.9           1.4          0.2  setosa\n",
       "9           4.9          3.1           1.5          0.1  setosa"
      ]
     },
     "execution_count": 11,
     "metadata": {},
     "output_type": "execute_result"
    }
   ],
   "source": [
    "df.head(10)"
   ]
  },
  {
   "cell_type": "code",
   "execution_count": 12,
   "metadata": {},
   "outputs": [
    {
     "name": "stdout",
     "output_type": "stream",
     "text": [
      "<class 'pandas.core.frame.DataFrame'>\n",
      "RangeIndex: 150 entries, 0 to 149\n",
      "Data columns (total 5 columns):\n",
      "sepal_length    150 non-null float64\n",
      "sepal_width     150 non-null float64\n",
      "petal_length    150 non-null float64\n",
      "petal_width     150 non-null float64\n",
      "species         150 non-null object\n",
      "dtypes: float64(4), object(1)\n",
      "memory usage: 5.9+ KB\n"
     ]
    }
   ],
   "source": [
    "df.info()"
   ]
  },
  {
   "cell_type": "code",
   "execution_count": 16,
   "metadata": {},
   "outputs": [
    {
     "data": {
      "text/html": [
       "<div>\n",
       "<style scoped>\n",
       "    .dataframe tbody tr th:only-of-type {\n",
       "        vertical-align: middle;\n",
       "    }\n",
       "\n",
       "    .dataframe tbody tr th {\n",
       "        vertical-align: top;\n",
       "    }\n",
       "\n",
       "    .dataframe thead th {\n",
       "        text-align: right;\n",
       "    }\n",
       "</style>\n",
       "<table border=\"1\" class=\"dataframe\">\n",
       "  <thead>\n",
       "    <tr style=\"text-align: right;\">\n",
       "      <th></th>\n",
       "      <th>sepal_length</th>\n",
       "    </tr>\n",
       "  </thead>\n",
       "  <tbody>\n",
       "    <tr>\n",
       "      <th>1</th>\n",
       "      <td>4.9</td>\n",
       "    </tr>\n",
       "    <tr>\n",
       "      <th>2</th>\n",
       "      <td>4.7</td>\n",
       "    </tr>\n",
       "    <tr>\n",
       "      <th>3</th>\n",
       "      <td>4.6</td>\n",
       "    </tr>\n",
       "    <tr>\n",
       "      <th>4</th>\n",
       "      <td>5.0</td>\n",
       "    </tr>\n",
       "    <tr>\n",
       "      <th>5</th>\n",
       "      <td>5.4</td>\n",
       "    </tr>\n",
       "    <tr>\n",
       "      <th>6</th>\n",
       "      <td>4.6</td>\n",
       "    </tr>\n",
       "    <tr>\n",
       "      <th>7</th>\n",
       "      <td>5.0</td>\n",
       "    </tr>\n",
       "    <tr>\n",
       "      <th>8</th>\n",
       "      <td>4.4</td>\n",
       "    </tr>\n",
       "  </tbody>\n",
       "</table>\n",
       "</div>"
      ],
      "text/plain": [
       "   sepal_length\n",
       "1           4.9\n",
       "2           4.7\n",
       "3           4.6\n",
       "4           5.0\n",
       "5           5.4\n",
       "6           4.6\n",
       "7           5.0\n",
       "8           4.4"
      ]
     },
     "execution_count": 16,
     "metadata": {},
     "output_type": "execute_result"
    }
   ],
   "source": [
    "# Slicing\n",
    "\n",
    "df[1:9][['sepal_length']]"
   ]
  },
  {
   "cell_type": "code",
   "execution_count": 21,
   "metadata": {},
   "outputs": [],
   "source": [
    "# Dropping Columns\n",
    "\n",
    "\n",
    "df = df.drop('sepal_length',axis=1)"
   ]
  },
  {
   "cell_type": "code",
   "execution_count": 22,
   "metadata": {},
   "outputs": [
    {
     "data": {
      "text/html": [
       "<div>\n",
       "<style scoped>\n",
       "    .dataframe tbody tr th:only-of-type {\n",
       "        vertical-align: middle;\n",
       "    }\n",
       "\n",
       "    .dataframe tbody tr th {\n",
       "        vertical-align: top;\n",
       "    }\n",
       "\n",
       "    .dataframe thead th {\n",
       "        text-align: right;\n",
       "    }\n",
       "</style>\n",
       "<table border=\"1\" class=\"dataframe\">\n",
       "  <thead>\n",
       "    <tr style=\"text-align: right;\">\n",
       "      <th></th>\n",
       "      <th>sepal_width</th>\n",
       "      <th>petal_length</th>\n",
       "      <th>petal_width</th>\n",
       "      <th>species</th>\n",
       "    </tr>\n",
       "  </thead>\n",
       "  <tbody>\n",
       "    <tr>\n",
       "      <th>0</th>\n",
       "      <td>3.5</td>\n",
       "      <td>1.4</td>\n",
       "      <td>0.2</td>\n",
       "      <td>setosa</td>\n",
       "    </tr>\n",
       "    <tr>\n",
       "      <th>1</th>\n",
       "      <td>3.0</td>\n",
       "      <td>1.4</td>\n",
       "      <td>0.2</td>\n",
       "      <td>setosa</td>\n",
       "    </tr>\n",
       "    <tr>\n",
       "      <th>2</th>\n",
       "      <td>3.2</td>\n",
       "      <td>1.3</td>\n",
       "      <td>0.2</td>\n",
       "      <td>setosa</td>\n",
       "    </tr>\n",
       "    <tr>\n",
       "      <th>3</th>\n",
       "      <td>3.1</td>\n",
       "      <td>1.5</td>\n",
       "      <td>0.2</td>\n",
       "      <td>setosa</td>\n",
       "    </tr>\n",
       "    <tr>\n",
       "      <th>4</th>\n",
       "      <td>3.6</td>\n",
       "      <td>1.4</td>\n",
       "      <td>0.2</td>\n",
       "      <td>setosa</td>\n",
       "    </tr>\n",
       "    <tr>\n",
       "      <th>5</th>\n",
       "      <td>3.9</td>\n",
       "      <td>1.7</td>\n",
       "      <td>0.4</td>\n",
       "      <td>setosa</td>\n",
       "    </tr>\n",
       "    <tr>\n",
       "      <th>6</th>\n",
       "      <td>3.4</td>\n",
       "      <td>1.4</td>\n",
       "      <td>0.3</td>\n",
       "      <td>setosa</td>\n",
       "    </tr>\n",
       "    <tr>\n",
       "      <th>7</th>\n",
       "      <td>3.4</td>\n",
       "      <td>1.5</td>\n",
       "      <td>0.2</td>\n",
       "      <td>setosa</td>\n",
       "    </tr>\n",
       "    <tr>\n",
       "      <th>8</th>\n",
       "      <td>2.9</td>\n",
       "      <td>1.4</td>\n",
       "      <td>0.2</td>\n",
       "      <td>setosa</td>\n",
       "    </tr>\n",
       "    <tr>\n",
       "      <th>9</th>\n",
       "      <td>3.1</td>\n",
       "      <td>1.5</td>\n",
       "      <td>0.1</td>\n",
       "      <td>setosa</td>\n",
       "    </tr>\n",
       "    <tr>\n",
       "      <th>10</th>\n",
       "      <td>3.7</td>\n",
       "      <td>1.5</td>\n",
       "      <td>0.2</td>\n",
       "      <td>setosa</td>\n",
       "    </tr>\n",
       "    <tr>\n",
       "      <th>11</th>\n",
       "      <td>3.4</td>\n",
       "      <td>1.6</td>\n",
       "      <td>0.2</td>\n",
       "      <td>setosa</td>\n",
       "    </tr>\n",
       "    <tr>\n",
       "      <th>12</th>\n",
       "      <td>3.0</td>\n",
       "      <td>1.4</td>\n",
       "      <td>0.1</td>\n",
       "      <td>setosa</td>\n",
       "    </tr>\n",
       "    <tr>\n",
       "      <th>13</th>\n",
       "      <td>3.0</td>\n",
       "      <td>1.1</td>\n",
       "      <td>0.1</td>\n",
       "      <td>setosa</td>\n",
       "    </tr>\n",
       "    <tr>\n",
       "      <th>14</th>\n",
       "      <td>4.0</td>\n",
       "      <td>1.2</td>\n",
       "      <td>0.2</td>\n",
       "      <td>setosa</td>\n",
       "    </tr>\n",
       "    <tr>\n",
       "      <th>15</th>\n",
       "      <td>4.4</td>\n",
       "      <td>1.5</td>\n",
       "      <td>0.4</td>\n",
       "      <td>setosa</td>\n",
       "    </tr>\n",
       "    <tr>\n",
       "      <th>16</th>\n",
       "      <td>3.9</td>\n",
       "      <td>1.3</td>\n",
       "      <td>0.4</td>\n",
       "      <td>setosa</td>\n",
       "    </tr>\n",
       "    <tr>\n",
       "      <th>17</th>\n",
       "      <td>3.5</td>\n",
       "      <td>1.4</td>\n",
       "      <td>0.3</td>\n",
       "      <td>setosa</td>\n",
       "    </tr>\n",
       "    <tr>\n",
       "      <th>18</th>\n",
       "      <td>3.8</td>\n",
       "      <td>1.7</td>\n",
       "      <td>0.3</td>\n",
       "      <td>setosa</td>\n",
       "    </tr>\n",
       "    <tr>\n",
       "      <th>19</th>\n",
       "      <td>3.8</td>\n",
       "      <td>1.5</td>\n",
       "      <td>0.3</td>\n",
       "      <td>setosa</td>\n",
       "    </tr>\n",
       "    <tr>\n",
       "      <th>20</th>\n",
       "      <td>3.4</td>\n",
       "      <td>1.7</td>\n",
       "      <td>0.2</td>\n",
       "      <td>setosa</td>\n",
       "    </tr>\n",
       "    <tr>\n",
       "      <th>21</th>\n",
       "      <td>3.7</td>\n",
       "      <td>1.5</td>\n",
       "      <td>0.4</td>\n",
       "      <td>setosa</td>\n",
       "    </tr>\n",
       "    <tr>\n",
       "      <th>22</th>\n",
       "      <td>3.6</td>\n",
       "      <td>1.0</td>\n",
       "      <td>0.2</td>\n",
       "      <td>setosa</td>\n",
       "    </tr>\n",
       "    <tr>\n",
       "      <th>23</th>\n",
       "      <td>3.3</td>\n",
       "      <td>1.7</td>\n",
       "      <td>0.5</td>\n",
       "      <td>setosa</td>\n",
       "    </tr>\n",
       "    <tr>\n",
       "      <th>24</th>\n",
       "      <td>3.4</td>\n",
       "      <td>1.9</td>\n",
       "      <td>0.2</td>\n",
       "      <td>setosa</td>\n",
       "    </tr>\n",
       "    <tr>\n",
       "      <th>25</th>\n",
       "      <td>3.0</td>\n",
       "      <td>1.6</td>\n",
       "      <td>0.2</td>\n",
       "      <td>setosa</td>\n",
       "    </tr>\n",
       "    <tr>\n",
       "      <th>26</th>\n",
       "      <td>3.4</td>\n",
       "      <td>1.6</td>\n",
       "      <td>0.4</td>\n",
       "      <td>setosa</td>\n",
       "    </tr>\n",
       "    <tr>\n",
       "      <th>27</th>\n",
       "      <td>3.5</td>\n",
       "      <td>1.5</td>\n",
       "      <td>0.2</td>\n",
       "      <td>setosa</td>\n",
       "    </tr>\n",
       "    <tr>\n",
       "      <th>28</th>\n",
       "      <td>3.4</td>\n",
       "      <td>1.4</td>\n",
       "      <td>0.2</td>\n",
       "      <td>setosa</td>\n",
       "    </tr>\n",
       "    <tr>\n",
       "      <th>29</th>\n",
       "      <td>3.2</td>\n",
       "      <td>1.6</td>\n",
       "      <td>0.2</td>\n",
       "      <td>setosa</td>\n",
       "    </tr>\n",
       "    <tr>\n",
       "      <th>...</th>\n",
       "      <td>...</td>\n",
       "      <td>...</td>\n",
       "      <td>...</td>\n",
       "      <td>...</td>\n",
       "    </tr>\n",
       "    <tr>\n",
       "      <th>120</th>\n",
       "      <td>3.2</td>\n",
       "      <td>5.7</td>\n",
       "      <td>2.3</td>\n",
       "      <td>virginica</td>\n",
       "    </tr>\n",
       "    <tr>\n",
       "      <th>121</th>\n",
       "      <td>2.8</td>\n",
       "      <td>4.9</td>\n",
       "      <td>2.0</td>\n",
       "      <td>virginica</td>\n",
       "    </tr>\n",
       "    <tr>\n",
       "      <th>122</th>\n",
       "      <td>2.8</td>\n",
       "      <td>6.7</td>\n",
       "      <td>2.0</td>\n",
       "      <td>virginica</td>\n",
       "    </tr>\n",
       "    <tr>\n",
       "      <th>123</th>\n",
       "      <td>2.7</td>\n",
       "      <td>4.9</td>\n",
       "      <td>1.8</td>\n",
       "      <td>virginica</td>\n",
       "    </tr>\n",
       "    <tr>\n",
       "      <th>124</th>\n",
       "      <td>3.3</td>\n",
       "      <td>5.7</td>\n",
       "      <td>2.1</td>\n",
       "      <td>virginica</td>\n",
       "    </tr>\n",
       "    <tr>\n",
       "      <th>125</th>\n",
       "      <td>3.2</td>\n",
       "      <td>6.0</td>\n",
       "      <td>1.8</td>\n",
       "      <td>virginica</td>\n",
       "    </tr>\n",
       "    <tr>\n",
       "      <th>126</th>\n",
       "      <td>2.8</td>\n",
       "      <td>4.8</td>\n",
       "      <td>1.8</td>\n",
       "      <td>virginica</td>\n",
       "    </tr>\n",
       "    <tr>\n",
       "      <th>127</th>\n",
       "      <td>3.0</td>\n",
       "      <td>4.9</td>\n",
       "      <td>1.8</td>\n",
       "      <td>virginica</td>\n",
       "    </tr>\n",
       "    <tr>\n",
       "      <th>128</th>\n",
       "      <td>2.8</td>\n",
       "      <td>5.6</td>\n",
       "      <td>2.1</td>\n",
       "      <td>virginica</td>\n",
       "    </tr>\n",
       "    <tr>\n",
       "      <th>129</th>\n",
       "      <td>3.0</td>\n",
       "      <td>5.8</td>\n",
       "      <td>1.6</td>\n",
       "      <td>virginica</td>\n",
       "    </tr>\n",
       "    <tr>\n",
       "      <th>130</th>\n",
       "      <td>2.8</td>\n",
       "      <td>6.1</td>\n",
       "      <td>1.9</td>\n",
       "      <td>virginica</td>\n",
       "    </tr>\n",
       "    <tr>\n",
       "      <th>131</th>\n",
       "      <td>3.8</td>\n",
       "      <td>6.4</td>\n",
       "      <td>2.0</td>\n",
       "      <td>virginica</td>\n",
       "    </tr>\n",
       "    <tr>\n",
       "      <th>132</th>\n",
       "      <td>2.8</td>\n",
       "      <td>5.6</td>\n",
       "      <td>2.2</td>\n",
       "      <td>virginica</td>\n",
       "    </tr>\n",
       "    <tr>\n",
       "      <th>133</th>\n",
       "      <td>2.8</td>\n",
       "      <td>5.1</td>\n",
       "      <td>1.5</td>\n",
       "      <td>virginica</td>\n",
       "    </tr>\n",
       "    <tr>\n",
       "      <th>134</th>\n",
       "      <td>2.6</td>\n",
       "      <td>5.6</td>\n",
       "      <td>1.4</td>\n",
       "      <td>virginica</td>\n",
       "    </tr>\n",
       "    <tr>\n",
       "      <th>135</th>\n",
       "      <td>3.0</td>\n",
       "      <td>6.1</td>\n",
       "      <td>2.3</td>\n",
       "      <td>virginica</td>\n",
       "    </tr>\n",
       "    <tr>\n",
       "      <th>136</th>\n",
       "      <td>3.4</td>\n",
       "      <td>5.6</td>\n",
       "      <td>2.4</td>\n",
       "      <td>virginica</td>\n",
       "    </tr>\n",
       "    <tr>\n",
       "      <th>137</th>\n",
       "      <td>3.1</td>\n",
       "      <td>5.5</td>\n",
       "      <td>1.8</td>\n",
       "      <td>virginica</td>\n",
       "    </tr>\n",
       "    <tr>\n",
       "      <th>138</th>\n",
       "      <td>3.0</td>\n",
       "      <td>4.8</td>\n",
       "      <td>1.8</td>\n",
       "      <td>virginica</td>\n",
       "    </tr>\n",
       "    <tr>\n",
       "      <th>139</th>\n",
       "      <td>3.1</td>\n",
       "      <td>5.4</td>\n",
       "      <td>2.1</td>\n",
       "      <td>virginica</td>\n",
       "    </tr>\n",
       "    <tr>\n",
       "      <th>140</th>\n",
       "      <td>3.1</td>\n",
       "      <td>5.6</td>\n",
       "      <td>2.4</td>\n",
       "      <td>virginica</td>\n",
       "    </tr>\n",
       "    <tr>\n",
       "      <th>141</th>\n",
       "      <td>3.1</td>\n",
       "      <td>5.1</td>\n",
       "      <td>2.3</td>\n",
       "      <td>virginica</td>\n",
       "    </tr>\n",
       "    <tr>\n",
       "      <th>142</th>\n",
       "      <td>2.7</td>\n",
       "      <td>5.1</td>\n",
       "      <td>1.9</td>\n",
       "      <td>virginica</td>\n",
       "    </tr>\n",
       "    <tr>\n",
       "      <th>143</th>\n",
       "      <td>3.2</td>\n",
       "      <td>5.9</td>\n",
       "      <td>2.3</td>\n",
       "      <td>virginica</td>\n",
       "    </tr>\n",
       "    <tr>\n",
       "      <th>144</th>\n",
       "      <td>3.3</td>\n",
       "      <td>5.7</td>\n",
       "      <td>2.5</td>\n",
       "      <td>virginica</td>\n",
       "    </tr>\n",
       "    <tr>\n",
       "      <th>145</th>\n",
       "      <td>3.0</td>\n",
       "      <td>5.2</td>\n",
       "      <td>2.3</td>\n",
       "      <td>virginica</td>\n",
       "    </tr>\n",
       "    <tr>\n",
       "      <th>146</th>\n",
       "      <td>2.5</td>\n",
       "      <td>5.0</td>\n",
       "      <td>1.9</td>\n",
       "      <td>virginica</td>\n",
       "    </tr>\n",
       "    <tr>\n",
       "      <th>147</th>\n",
       "      <td>3.0</td>\n",
       "      <td>5.2</td>\n",
       "      <td>2.0</td>\n",
       "      <td>virginica</td>\n",
       "    </tr>\n",
       "    <tr>\n",
       "      <th>148</th>\n",
       "      <td>3.4</td>\n",
       "      <td>5.4</td>\n",
       "      <td>2.3</td>\n",
       "      <td>virginica</td>\n",
       "    </tr>\n",
       "    <tr>\n",
       "      <th>149</th>\n",
       "      <td>3.0</td>\n",
       "      <td>5.1</td>\n",
       "      <td>1.8</td>\n",
       "      <td>virginica</td>\n",
       "    </tr>\n",
       "  </tbody>\n",
       "</table>\n",
       "<p>150 rows × 4 columns</p>\n",
       "</div>"
      ],
      "text/plain": [
       "     sepal_width  petal_length  petal_width    species\n",
       "0            3.5           1.4          0.2     setosa\n",
       "1            3.0           1.4          0.2     setosa\n",
       "2            3.2           1.3          0.2     setosa\n",
       "3            3.1           1.5          0.2     setosa\n",
       "4            3.6           1.4          0.2     setosa\n",
       "5            3.9           1.7          0.4     setosa\n",
       "6            3.4           1.4          0.3     setosa\n",
       "7            3.4           1.5          0.2     setosa\n",
       "8            2.9           1.4          0.2     setosa\n",
       "9            3.1           1.5          0.1     setosa\n",
       "10           3.7           1.5          0.2     setosa\n",
       "11           3.4           1.6          0.2     setosa\n",
       "12           3.0           1.4          0.1     setosa\n",
       "13           3.0           1.1          0.1     setosa\n",
       "14           4.0           1.2          0.2     setosa\n",
       "15           4.4           1.5          0.4     setosa\n",
       "16           3.9           1.3          0.4     setosa\n",
       "17           3.5           1.4          0.3     setosa\n",
       "18           3.8           1.7          0.3     setosa\n",
       "19           3.8           1.5          0.3     setosa\n",
       "20           3.4           1.7          0.2     setosa\n",
       "21           3.7           1.5          0.4     setosa\n",
       "22           3.6           1.0          0.2     setosa\n",
       "23           3.3           1.7          0.5     setosa\n",
       "24           3.4           1.9          0.2     setosa\n",
       "25           3.0           1.6          0.2     setosa\n",
       "26           3.4           1.6          0.4     setosa\n",
       "27           3.5           1.5          0.2     setosa\n",
       "28           3.4           1.4          0.2     setosa\n",
       "29           3.2           1.6          0.2     setosa\n",
       "..           ...           ...          ...        ...\n",
       "120          3.2           5.7          2.3  virginica\n",
       "121          2.8           4.9          2.0  virginica\n",
       "122          2.8           6.7          2.0  virginica\n",
       "123          2.7           4.9          1.8  virginica\n",
       "124          3.3           5.7          2.1  virginica\n",
       "125          3.2           6.0          1.8  virginica\n",
       "126          2.8           4.8          1.8  virginica\n",
       "127          3.0           4.9          1.8  virginica\n",
       "128          2.8           5.6          2.1  virginica\n",
       "129          3.0           5.8          1.6  virginica\n",
       "130          2.8           6.1          1.9  virginica\n",
       "131          3.8           6.4          2.0  virginica\n",
       "132          2.8           5.6          2.2  virginica\n",
       "133          2.8           5.1          1.5  virginica\n",
       "134          2.6           5.6          1.4  virginica\n",
       "135          3.0           6.1          2.3  virginica\n",
       "136          3.4           5.6          2.4  virginica\n",
       "137          3.1           5.5          1.8  virginica\n",
       "138          3.0           4.8          1.8  virginica\n",
       "139          3.1           5.4          2.1  virginica\n",
       "140          3.1           5.6          2.4  virginica\n",
       "141          3.1           5.1          2.3  virginica\n",
       "142          2.7           5.1          1.9  virginica\n",
       "143          3.2           5.9          2.3  virginica\n",
       "144          3.3           5.7          2.5  virginica\n",
       "145          3.0           5.2          2.3  virginica\n",
       "146          2.5           5.0          1.9  virginica\n",
       "147          3.0           5.2          2.0  virginica\n",
       "148          3.4           5.4          2.3  virginica\n",
       "149          3.0           5.1          1.8  virginica\n",
       "\n",
       "[150 rows x 4 columns]"
      ]
     },
     "execution_count": 22,
     "metadata": {},
     "output_type": "execute_result"
    }
   ],
   "source": [
    "df"
   ]
  },
  {
   "cell_type": "code",
   "execution_count": 25,
   "metadata": {},
   "outputs": [
    {
     "data": {
      "text/plain": [
       "True"
      ]
     },
     "execution_count": 25,
     "metadata": {},
     "output_type": "execute_result"
    }
   ],
   "source": [
    "# compare Data Frames\n",
    "\n",
    "df2=df\n",
    "df.equals(df2)"
   ]
  },
  {
   "cell_type": "code",
   "execution_count": null,
   "metadata": {},
   "outputs": [],
   "source": []
  },
  {
   "cell_type": "markdown",
   "metadata": {},
   "source": [
    "# Data Visualisation in Python"
   ]
  },
  {
   "cell_type": "code",
   "execution_count": null,
   "metadata": {},
   "outputs": [],
   "source": []
  },
  {
   "cell_type": "code",
   "execution_count": null,
   "metadata": {},
   "outputs": [],
   "source": [
    "# why Data visualisation is important?\n",
    "\n",
    "# As data is growing day by day we need to understand the patterns in the dataset.\n",
    "\n",
    "# From Data Science point of view it is extremely important as we have to do exploratory data analysis.\n",
    "\n",
    "# we cannot compare python visuals with high end softwares like tableau power bi etc as those are expensive.\n",
    "# and solely created with the aim of data visualisation.\n"
   ]
  },
  {
   "cell_type": "markdown",
   "metadata": {},
   "source": [
    "# Matplotlib"
   ]
  },
  {
   "cell_type": "code",
   "execution_count": 1,
   "metadata": {},
   "outputs": [],
   "source": [
    "import matplotlib.pyplot as plt"
   ]
  },
  {
   "cell_type": "code",
   "execution_count": 2,
   "metadata": {},
   "outputs": [],
   "source": [
    "year = [2015,2016,2017,2018,2019]\n",
    "sales = [4356,4432,3333,2322,4323]\n",
    "profit = [453,223,344,433,233]"
   ]
  },
  {
   "cell_type": "code",
   "execution_count": null,
   "metadata": {},
   "outputs": [],
   "source": [
    "# matplotlib does not support data frame directly it support list , tuple, and pandas series"
   ]
  },
  {
   "cell_type": "code",
   "execution_count": 3,
   "metadata": {},
   "outputs": [
    {
     "data": {
      "text/plain": [
       "[<matplotlib.lines.Line2D at 0x277fdc65358>]"
      ]
     },
     "execution_count": 3,
     "metadata": {},
     "output_type": "execute_result"
    },
    {
     "data": {
      "image/png": "[encoded data removed]",
      "text/plain": [
       "<Figure size 432x288 with 1 Axes>"
      ]
     },
     "metadata": {
      "needs_background": "light"
     },
     "output_type": "display_data"
    }
   ],
   "source": [
    "plt.plot(year,sales, 'red') # left side year x -axis right - sales y axis"
   ]
  },
  {
   "cell_type": "code",
   "execution_count": 6,
   "metadata": {},
   "outputs": [
    {
     "data": {
      "text/plain": [
       "[<matplotlib.lines.Line2D at 0x277fdfb1b70>]"
      ]
     },
     "execution_count": 6,
     "metadata": {},
     "output_type": "execute_result"
    },
    {
     "data": {
      "image/png": "[encoded data removed]",
      "text/plain": [
       "<Figure size 432x288 with 1 Axes>"
      ]
     },
     "metadata": {
      "needs_background": "light"
     },
     "output_type": "display_data"
    }
   ],
   "source": [
    "plt.plot(year, profit, 'blue')"
   ]
  },
  {
   "cell_type": "code",
   "execution_count": 8,
   "metadata": {},
   "outputs": [
    {
     "data": {
      "image/png": "[encoded data removed]",
      "text/plain": [
       "<Figure size 432x288 with 1 Axes>"
      ]
     },
     "metadata": {
      "needs_background": "light"
     },
     "output_type": "display_data"
    }
   ],
   "source": [
    "plt.plot(year,sales, 'red')\n",
    "plt.plot(year, profit, 'blue')\n",
    "plt.title('Year vs Profit and Sales analysis')\n",
    "plt.xlabel('Years')\n",
    "plt.ylabel('Profit and Sales')\n",
    "plt.show()"
   ]
  },
  {
   "cell_type": "code",
   "execution_count": 12,
   "metadata": {},
   "outputs": [
    {
     "data": {
      "image/png": "[encoded data removed]",
      "text/plain": [
       "<Figure size 432x288 with 2 Axes>"
      ]
     },
     "metadata": {
      "needs_background": "light"
     },
     "output_type": "display_data"
    }
   ],
   "source": [
    "plt.subplot(2,1,1) # 2 is num of rows - next 1 is num of columns - next 1 is the first chart \n",
    "plt.plot(year, sales, 'red')\n",
    "plt.xlabel('Years')\n",
    "plt.ylabel('Sales')\n",
    "plt.title('Sales by Year')\n",
    "\n",
    "plt.subplot(2,1,2) \n",
    "plt.plot(year, profit, 'blue')\n",
    "plt.xlabel('Years')\n",
    "plt.ylabel('Profit')\n",
    "plt.title('Profit by Year')\n",
    "plt.tight_layout()\n"
   ]
  },
  {
   "cell_type": "code",
   "execution_count": 14,
   "metadata": {},
   "outputs": [],
   "source": [
    "#import pandas as pd\n",
    "car = pd.read_csv('Car_sales.csv')"
   ]
  },
  {
   "cell_type": "code",
   "execution_count": 16,
   "metadata": {},
   "outputs": [
    {
     "data": {
      "text/html": [
       "<div>\n",
       "<style scoped>\n",
       "    .dataframe tbody tr th:only-of-type {\n",
       "        vertical-align: middle;\n",
       "    }\n",
       "\n",
       "    .dataframe tbody tr th {\n",
       "        vertical-align: top;\n",
       "    }\n",
       "\n",
       "    .dataframe thead th {\n",
       "        text-align: right;\n",
       "    }\n",
       "</style>\n",
       "<table border=\"1\" class=\"dataframe\">\n",
       "  <thead>\n",
       "    <tr style=\"text-align: right;\">\n",
       "      <th></th>\n",
       "      <th>Manufacturer</th>\n",
       "      <th>Model</th>\n",
       "      <th>Sales_in_thousands</th>\n",
       "      <th>__year_resale_value</th>\n",
       "      <th>Vehicle_type</th>\n",
       "      <th>Price_in_thousands</th>\n",
       "      <th>Engine_size</th>\n",
       "      <th>Horsepower</th>\n",
       "      <th>Wheelbase</th>\n",
       "      <th>Width</th>\n",
       "      <th>Length</th>\n",
       "      <th>Curb_weight</th>\n",
       "      <th>Fuel_capacity</th>\n",
       "      <th>Fuel_efficiency</th>\n",
       "      <th>Latest_Launch</th>\n",
       "      <th>Power_perf_factor</th>\n",
       "    </tr>\n",
       "  </thead>\n",
       "  <tbody>\n",
       "    <tr>\n",
       "      <th>0</th>\n",
       "      <td>Acura</td>\n",
       "      <td>Integra</td>\n",
       "      <td>16.919</td>\n",
       "      <td>16.360</td>\n",
       "      <td>Passenger</td>\n",
       "      <td>21.500</td>\n",
       "      <td>1.8</td>\n",
       "      <td>140.0</td>\n",
       "      <td>101.2</td>\n",
       "      <td>67.3</td>\n",
       "      <td>172.4</td>\n",
       "      <td>2.639</td>\n",
       "      <td>13.2</td>\n",
       "      <td>28.0</td>\n",
       "      <td>2/2/2012</td>\n",
       "      <td>58.280150</td>\n",
       "    </tr>\n",
       "    <tr>\n",
       "      <th>1</th>\n",
       "      <td>Acura</td>\n",
       "      <td>TL</td>\n",
       "      <td>39.384</td>\n",
       "      <td>19.875</td>\n",
       "      <td>Passenger</td>\n",
       "      <td>28.400</td>\n",
       "      <td>3.2</td>\n",
       "      <td>225.0</td>\n",
       "      <td>108.1</td>\n",
       "      <td>70.3</td>\n",
       "      <td>192.9</td>\n",
       "      <td>3.517</td>\n",
       "      <td>17.2</td>\n",
       "      <td>25.0</td>\n",
       "      <td>6/3/2011</td>\n",
       "      <td>91.370778</td>\n",
       "    </tr>\n",
       "    <tr>\n",
       "      <th>2</th>\n",
       "      <td>Acura</td>\n",
       "      <td>CL</td>\n",
       "      <td>14.114</td>\n",
       "      <td>18.225</td>\n",
       "      <td>Passenger</td>\n",
       "      <td>NaN</td>\n",
       "      <td>3.2</td>\n",
       "      <td>225.0</td>\n",
       "      <td>106.9</td>\n",
       "      <td>70.6</td>\n",
       "      <td>192.0</td>\n",
       "      <td>3.470</td>\n",
       "      <td>17.2</td>\n",
       "      <td>26.0</td>\n",
       "      <td>1/4/2012</td>\n",
       "      <td>NaN</td>\n",
       "    </tr>\n",
       "    <tr>\n",
       "      <th>3</th>\n",
       "      <td>Acura</td>\n",
       "      <td>RL</td>\n",
       "      <td>8.588</td>\n",
       "      <td>29.725</td>\n",
       "      <td>Passenger</td>\n",
       "      <td>42.000</td>\n",
       "      <td>3.5</td>\n",
       "      <td>210.0</td>\n",
       "      <td>114.6</td>\n",
       "      <td>71.4</td>\n",
       "      <td>196.6</td>\n",
       "      <td>3.850</td>\n",
       "      <td>18.0</td>\n",
       "      <td>22.0</td>\n",
       "      <td>3/10/2011</td>\n",
       "      <td>91.389779</td>\n",
       "    </tr>\n",
       "    <tr>\n",
       "      <th>4</th>\n",
       "      <td>Audi</td>\n",
       "      <td>A4</td>\n",
       "      <td>20.397</td>\n",
       "      <td>22.255</td>\n",
       "      <td>Passenger</td>\n",
       "      <td>23.990</td>\n",
       "      <td>1.8</td>\n",
       "      <td>150.0</td>\n",
       "      <td>102.6</td>\n",
       "      <td>68.2</td>\n",
       "      <td>178.0</td>\n",
       "      <td>2.998</td>\n",
       "      <td>16.4</td>\n",
       "      <td>27.0</td>\n",
       "      <td>10/8/2011</td>\n",
       "      <td>62.777639</td>\n",
       "    </tr>\n",
       "    <tr>\n",
       "      <th>5</th>\n",
       "      <td>Audi</td>\n",
       "      <td>A6</td>\n",
       "      <td>18.780</td>\n",
       "      <td>23.555</td>\n",
       "      <td>Passenger</td>\n",
       "      <td>33.950</td>\n",
       "      <td>2.8</td>\n",
       "      <td>200.0</td>\n",
       "      <td>108.7</td>\n",
       "      <td>76.1</td>\n",
       "      <td>192.0</td>\n",
       "      <td>3.561</td>\n",
       "      <td>18.5</td>\n",
       "      <td>22.0</td>\n",
       "      <td>8/9/2011</td>\n",
       "      <td>84.565105</td>\n",
       "    </tr>\n",
       "    <tr>\n",
       "      <th>6</th>\n",
       "      <td>Audi</td>\n",
       "      <td>A8</td>\n",
       "      <td>1.380</td>\n",
       "      <td>39.000</td>\n",
       "      <td>Passenger</td>\n",
       "      <td>62.000</td>\n",
       "      <td>4.2</td>\n",
       "      <td>310.0</td>\n",
       "      <td>113.0</td>\n",
       "      <td>74.0</td>\n",
       "      <td>198.2</td>\n",
       "      <td>3.902</td>\n",
       "      <td>23.7</td>\n",
       "      <td>21.0</td>\n",
       "      <td>2/27/2012</td>\n",
       "      <td>134.656858</td>\n",
       "    </tr>\n",
       "    <tr>\n",
       "      <th>7</th>\n",
       "      <td>BMW</td>\n",
       "      <td>323i</td>\n",
       "      <td>19.747</td>\n",
       "      <td>NaN</td>\n",
       "      <td>Passenger</td>\n",
       "      <td>26.990</td>\n",
       "      <td>2.5</td>\n",
       "      <td>170.0</td>\n",
       "      <td>107.3</td>\n",
       "      <td>68.4</td>\n",
       "      <td>176.0</td>\n",
       "      <td>3.179</td>\n",
       "      <td>16.6</td>\n",
       "      <td>26.0</td>\n",
       "      <td>6/28/2011</td>\n",
       "      <td>71.191207</td>\n",
       "    </tr>\n",
       "    <tr>\n",
       "      <th>8</th>\n",
       "      <td>BMW</td>\n",
       "      <td>328i</td>\n",
       "      <td>9.231</td>\n",
       "      <td>28.675</td>\n",
       "      <td>Passenger</td>\n",
       "      <td>33.400</td>\n",
       "      <td>2.8</td>\n",
       "      <td>193.0</td>\n",
       "      <td>107.3</td>\n",
       "      <td>68.5</td>\n",
       "      <td>176.0</td>\n",
       "      <td>3.197</td>\n",
       "      <td>16.6</td>\n",
       "      <td>24.0</td>\n",
       "      <td>1/29/2012</td>\n",
       "      <td>81.877069</td>\n",
       "    </tr>\n",
       "    <tr>\n",
       "      <th>9</th>\n",
       "      <td>BMW</td>\n",
       "      <td>528i</td>\n",
       "      <td>17.527</td>\n",
       "      <td>36.125</td>\n",
       "      <td>Passenger</td>\n",
       "      <td>38.900</td>\n",
       "      <td>2.8</td>\n",
       "      <td>193.0</td>\n",
       "      <td>111.4</td>\n",
       "      <td>70.9</td>\n",
       "      <td>188.0</td>\n",
       "      <td>3.472</td>\n",
       "      <td>18.5</td>\n",
       "      <td>25.0</td>\n",
       "      <td>4/4/2011</td>\n",
       "      <td>83.998724</td>\n",
       "    </tr>\n",
       "    <tr>\n",
       "      <th>10</th>\n",
       "      <td>Buick</td>\n",
       "      <td>Century</td>\n",
       "      <td>91.561</td>\n",
       "      <td>12.475</td>\n",
       "      <td>Passenger</td>\n",
       "      <td>21.975</td>\n",
       "      <td>3.1</td>\n",
       "      <td>175.0</td>\n",
       "      <td>109.0</td>\n",
       "      <td>72.7</td>\n",
       "      <td>194.6</td>\n",
       "      <td>3.368</td>\n",
       "      <td>17.5</td>\n",
       "      <td>25.0</td>\n",
       "      <td>11/2/2011</td>\n",
       "      <td>71.181451</td>\n",
       "    </tr>\n",
       "    <tr>\n",
       "      <th>11</th>\n",
       "      <td>Buick</td>\n",
       "      <td>Regal</td>\n",
       "      <td>39.350</td>\n",
       "      <td>13.740</td>\n",
       "      <td>Passenger</td>\n",
       "      <td>25.300</td>\n",
       "      <td>3.8</td>\n",
       "      <td>240.0</td>\n",
       "      <td>109.0</td>\n",
       "      <td>72.7</td>\n",
       "      <td>196.2</td>\n",
       "      <td>3.543</td>\n",
       "      <td>17.5</td>\n",
       "      <td>23.0</td>\n",
       "      <td>9/3/2011</td>\n",
       "      <td>95.636703</td>\n",
       "    </tr>\n",
       "    <tr>\n",
       "      <th>12</th>\n",
       "      <td>Buick</td>\n",
       "      <td>Park Avenue</td>\n",
       "      <td>27.851</td>\n",
       "      <td>20.190</td>\n",
       "      <td>Passenger</td>\n",
       "      <td>31.965</td>\n",
       "      <td>3.8</td>\n",
       "      <td>205.0</td>\n",
       "      <td>113.8</td>\n",
       "      <td>74.7</td>\n",
       "      <td>206.8</td>\n",
       "      <td>3.778</td>\n",
       "      <td>18.5</td>\n",
       "      <td>24.0</td>\n",
       "      <td>3/23/2012</td>\n",
       "      <td>85.828408</td>\n",
       "    </tr>\n",
       "    <tr>\n",
       "      <th>13</th>\n",
       "      <td>Buick</td>\n",
       "      <td>LeSabre</td>\n",
       "      <td>83.257</td>\n",
       "      <td>13.360</td>\n",
       "      <td>Passenger</td>\n",
       "      <td>27.885</td>\n",
       "      <td>3.8</td>\n",
       "      <td>205.0</td>\n",
       "      <td>112.2</td>\n",
       "      <td>73.5</td>\n",
       "      <td>200.0</td>\n",
       "      <td>3.591</td>\n",
       "      <td>17.5</td>\n",
       "      <td>25.0</td>\n",
       "      <td>7/23/2011</td>\n",
       "      <td>84.254526</td>\n",
       "    </tr>\n",
       "    <tr>\n",
       "      <th>14</th>\n",
       "      <td>Cadillac</td>\n",
       "      <td>DeVille</td>\n",
       "      <td>63.729</td>\n",
       "      <td>22.525</td>\n",
       "      <td>Passenger</td>\n",
       "      <td>39.895</td>\n",
       "      <td>4.6</td>\n",
       "      <td>275.0</td>\n",
       "      <td>115.3</td>\n",
       "      <td>74.5</td>\n",
       "      <td>207.2</td>\n",
       "      <td>3.978</td>\n",
       "      <td>18.5</td>\n",
       "      <td>22.0</td>\n",
       "      <td>2/23/2012</td>\n",
       "      <td>113.854598</td>\n",
       "    </tr>\n",
       "    <tr>\n",
       "      <th>15</th>\n",
       "      <td>Cadillac</td>\n",
       "      <td>Seville</td>\n",
       "      <td>15.943</td>\n",
       "      <td>27.100</td>\n",
       "      <td>Passenger</td>\n",
       "      <td>44.475</td>\n",
       "      <td>4.6</td>\n",
       "      <td>275.0</td>\n",
       "      <td>112.2</td>\n",
       "      <td>75.0</td>\n",
       "      <td>201.0</td>\n",
       "      <td>NaN</td>\n",
       "      <td>18.5</td>\n",
       "      <td>22.0</td>\n",
       "      <td>4/29/2011</td>\n",
       "      <td>115.621358</td>\n",
       "    </tr>\n",
       "    <tr>\n",
       "      <th>16</th>\n",
       "      <td>Cadillac</td>\n",
       "      <td>Eldorado</td>\n",
       "      <td>6.536</td>\n",
       "      <td>25.725</td>\n",
       "      <td>Passenger</td>\n",
       "      <td>39.665</td>\n",
       "      <td>4.6</td>\n",
       "      <td>275.0</td>\n",
       "      <td>108.0</td>\n",
       "      <td>75.5</td>\n",
       "      <td>200.6</td>\n",
       "      <td>3.843</td>\n",
       "      <td>19.0</td>\n",
       "      <td>22.0</td>\n",
       "      <td>11/27/2011</td>\n",
       "      <td>113.765874</td>\n",
       "    </tr>\n",
       "    <tr>\n",
       "      <th>17</th>\n",
       "      <td>Cadillac</td>\n",
       "      <td>Catera</td>\n",
       "      <td>11.185</td>\n",
       "      <td>18.225</td>\n",
       "      <td>Passenger</td>\n",
       "      <td>31.010</td>\n",
       "      <td>3.0</td>\n",
       "      <td>200.0</td>\n",
       "      <td>107.4</td>\n",
       "      <td>70.3</td>\n",
       "      <td>194.8</td>\n",
       "      <td>3.770</td>\n",
       "      <td>18.0</td>\n",
       "      <td>22.0</td>\n",
       "      <td>9/28/2011</td>\n",
       "      <td>83.483094</td>\n",
       "    </tr>\n",
       "    <tr>\n",
       "      <th>18</th>\n",
       "      <td>Cadillac</td>\n",
       "      <td>Escalade</td>\n",
       "      <td>14.785</td>\n",
       "      <td>NaN</td>\n",
       "      <td>Car</td>\n",
       "      <td>46.225</td>\n",
       "      <td>5.7</td>\n",
       "      <td>255.0</td>\n",
       "      <td>117.5</td>\n",
       "      <td>77.0</td>\n",
       "      <td>201.2</td>\n",
       "      <td>5.572</td>\n",
       "      <td>30.0</td>\n",
       "      <td>15.0</td>\n",
       "      <td>4/17/2012</td>\n",
       "      <td>109.509117</td>\n",
       "    </tr>\n",
       "    <tr>\n",
       "      <th>19</th>\n",
       "      <td>Chevrolet</td>\n",
       "      <td>Cavalier</td>\n",
       "      <td>145.519</td>\n",
       "      <td>9.250</td>\n",
       "      <td>Passenger</td>\n",
       "      <td>13.260</td>\n",
       "      <td>2.2</td>\n",
       "      <td>115.0</td>\n",
       "      <td>104.1</td>\n",
       "      <td>67.9</td>\n",
       "      <td>180.9</td>\n",
       "      <td>2.676</td>\n",
       "      <td>14.3</td>\n",
       "      <td>27.0</td>\n",
       "      <td>8/17/2011</td>\n",
       "      <td>46.363347</td>\n",
       "    </tr>\n",
       "    <tr>\n",
       "      <th>20</th>\n",
       "      <td>Chevrolet</td>\n",
       "      <td>Malibu</td>\n",
       "      <td>135.126</td>\n",
       "      <td>11.225</td>\n",
       "      <td>Passenger</td>\n",
       "      <td>16.535</td>\n",
       "      <td>3.1</td>\n",
       "      <td>170.0</td>\n",
       "      <td>107.0</td>\n",
       "      <td>69.4</td>\n",
       "      <td>190.4</td>\n",
       "      <td>3.051</td>\n",
       "      <td>15.0</td>\n",
       "      <td>25.0</td>\n",
       "      <td>3/19/2012</td>\n",
       "      <td>67.314462</td>\n",
       "    </tr>\n",
       "    <tr>\n",
       "      <th>21</th>\n",
       "      <td>Chevrolet</td>\n",
       "      <td>Lumina</td>\n",
       "      <td>24.629</td>\n",
       "      <td>10.310</td>\n",
       "      <td>Passenger</td>\n",
       "      <td>18.890</td>\n",
       "      <td>3.1</td>\n",
       "      <td>175.0</td>\n",
       "      <td>107.5</td>\n",
       "      <td>72.5</td>\n",
       "      <td>200.9</td>\n",
       "      <td>3.330</td>\n",
       "      <td>16.6</td>\n",
       "      <td>25.0</td>\n",
       "      <td>5/24/2011</td>\n",
       "      <td>69.991396</td>\n",
       "    </tr>\n",
       "    <tr>\n",
       "      <th>22</th>\n",
       "      <td>Chevrolet</td>\n",
       "      <td>Monte Carlo</td>\n",
       "      <td>42.593</td>\n",
       "      <td>11.525</td>\n",
       "      <td>Passenger</td>\n",
       "      <td>19.390</td>\n",
       "      <td>3.4</td>\n",
       "      <td>180.0</td>\n",
       "      <td>110.5</td>\n",
       "      <td>72.7</td>\n",
       "      <td>197.9</td>\n",
       "      <td>3.340</td>\n",
       "      <td>17.0</td>\n",
       "      <td>27.0</td>\n",
       "      <td>12/22/2011</td>\n",
       "      <td>72.030917</td>\n",
       "    </tr>\n",
       "    <tr>\n",
       "      <th>23</th>\n",
       "      <td>Chevrolet</td>\n",
       "      <td>Camaro</td>\n",
       "      <td>26.402</td>\n",
       "      <td>13.025</td>\n",
       "      <td>Passenger</td>\n",
       "      <td>24.340</td>\n",
       "      <td>3.8</td>\n",
       "      <td>200.0</td>\n",
       "      <td>101.1</td>\n",
       "      <td>74.1</td>\n",
       "      <td>193.2</td>\n",
       "      <td>3.500</td>\n",
       "      <td>16.8</td>\n",
       "      <td>25.0</td>\n",
       "      <td>10/23/2011</td>\n",
       "      <td>81.118543</td>\n",
       "    </tr>\n",
       "    <tr>\n",
       "      <th>24</th>\n",
       "      <td>Chevrolet</td>\n",
       "      <td>Corvette</td>\n",
       "      <td>17.947</td>\n",
       "      <td>36.225</td>\n",
       "      <td>Passenger</td>\n",
       "      <td>45.705</td>\n",
       "      <td>5.7</td>\n",
       "      <td>345.0</td>\n",
       "      <td>104.5</td>\n",
       "      <td>73.6</td>\n",
       "      <td>179.7</td>\n",
       "      <td>3.210</td>\n",
       "      <td>19.1</td>\n",
       "      <td>22.0</td>\n",
       "      <td>5/12/2012</td>\n",
       "      <td>141.141150</td>\n",
       "    </tr>\n",
       "    <tr>\n",
       "      <th>25</th>\n",
       "      <td>Chevrolet</td>\n",
       "      <td>Prizm</td>\n",
       "      <td>32.299</td>\n",
       "      <td>9.125</td>\n",
       "      <td>Passenger</td>\n",
       "      <td>13.960</td>\n",
       "      <td>1.8</td>\n",
       "      <td>120.0</td>\n",
       "      <td>97.1</td>\n",
       "      <td>66.7</td>\n",
       "      <td>174.3</td>\n",
       "      <td>2.398</td>\n",
       "      <td>13.2</td>\n",
       "      <td>33.0</td>\n",
       "      <td>9/11/2011</td>\n",
       "      <td>48.297636</td>\n",
       "    </tr>\n",
       "    <tr>\n",
       "      <th>26</th>\n",
       "      <td>Chevrolet</td>\n",
       "      <td>Metro</td>\n",
       "      <td>21.855</td>\n",
       "      <td>5.160</td>\n",
       "      <td>Passenger</td>\n",
       "      <td>9.235</td>\n",
       "      <td>1.0</td>\n",
       "      <td>55.0</td>\n",
       "      <td>93.1</td>\n",
       "      <td>62.6</td>\n",
       "      <td>149.4</td>\n",
       "      <td>1.895</td>\n",
       "      <td>10.3</td>\n",
       "      <td>45.0</td>\n",
       "      <td>4/13/2012</td>\n",
       "      <td>23.276272</td>\n",
       "    </tr>\n",
       "    <tr>\n",
       "      <th>27</th>\n",
       "      <td>Chevrolet</td>\n",
       "      <td>Impala</td>\n",
       "      <td>107.995</td>\n",
       "      <td>NaN</td>\n",
       "      <td>Passenger</td>\n",
       "      <td>18.890</td>\n",
       "      <td>3.4</td>\n",
       "      <td>180.0</td>\n",
       "      <td>110.5</td>\n",
       "      <td>73.0</td>\n",
       "      <td>200.0</td>\n",
       "      <td>3.389</td>\n",
       "      <td>17.0</td>\n",
       "      <td>27.0</td>\n",
       "      <td>6/18/2011</td>\n",
       "      <td>71.838039</td>\n",
       "    </tr>\n",
       "    <tr>\n",
       "      <th>28</th>\n",
       "      <td>Chrysler</td>\n",
       "      <td>Sebring Coupe</td>\n",
       "      <td>7.854</td>\n",
       "      <td>12.360</td>\n",
       "      <td>Passenger</td>\n",
       "      <td>19.840</td>\n",
       "      <td>2.5</td>\n",
       "      <td>163.0</td>\n",
       "      <td>103.7</td>\n",
       "      <td>69.7</td>\n",
       "      <td>190.9</td>\n",
       "      <td>2.967</td>\n",
       "      <td>15.9</td>\n",
       "      <td>24.0</td>\n",
       "      <td>1/16/2012</td>\n",
       "      <td>65.957184</td>\n",
       "    </tr>\n",
       "    <tr>\n",
       "      <th>29</th>\n",
       "      <td>Chrysler</td>\n",
       "      <td>Sebring Conv.</td>\n",
       "      <td>32.775</td>\n",
       "      <td>14.180</td>\n",
       "      <td>Passenger</td>\n",
       "      <td>24.495</td>\n",
       "      <td>2.5</td>\n",
       "      <td>168.0</td>\n",
       "      <td>106.0</td>\n",
       "      <td>69.2</td>\n",
       "      <td>193.0</td>\n",
       "      <td>3.332</td>\n",
       "      <td>16.0</td>\n",
       "      <td>24.0</td>\n",
       "      <td>11/17/2011</td>\n",
       "      <td>69.521355</td>\n",
       "    </tr>\n",
       "    <tr>\n",
       "      <th>...</th>\n",
       "      <td>...</td>\n",
       "      <td>...</td>\n",
       "      <td>...</td>\n",
       "      <td>...</td>\n",
       "      <td>...</td>\n",
       "      <td>...</td>\n",
       "      <td>...</td>\n",
       "      <td>...</td>\n",
       "      <td>...</td>\n",
       "      <td>...</td>\n",
       "      <td>...</td>\n",
       "      <td>...</td>\n",
       "      <td>...</td>\n",
       "      <td>...</td>\n",
       "      <td>...</td>\n",
       "      <td>...</td>\n",
       "    </tr>\n",
       "    <tr>\n",
       "      <th>127</th>\n",
       "      <td>Saab</td>\n",
       "      <td>5-Sep</td>\n",
       "      <td>9.191</td>\n",
       "      <td>NaN</td>\n",
       "      <td>Passenger</td>\n",
       "      <td>33.120</td>\n",
       "      <td>2.3</td>\n",
       "      <td>170.0</td>\n",
       "      <td>106.4</td>\n",
       "      <td>70.6</td>\n",
       "      <td>189.2</td>\n",
       "      <td>3.280</td>\n",
       "      <td>18.5</td>\n",
       "      <td>23.0</td>\n",
       "      <td>11/9/2012</td>\n",
       "      <td>73.503778</td>\n",
       "    </tr>\n",
       "    <tr>\n",
       "      <th>128</th>\n",
       "      <td>Saab</td>\n",
       "      <td>3-Sep</td>\n",
       "      <td>12.115</td>\n",
       "      <td>NaN</td>\n",
       "      <td>Passenger</td>\n",
       "      <td>26.100</td>\n",
       "      <td>2.0</td>\n",
       "      <td>185.0</td>\n",
       "      <td>102.6</td>\n",
       "      <td>67.4</td>\n",
       "      <td>182.2</td>\n",
       "      <td>2.990</td>\n",
       "      <td>16.9</td>\n",
       "      <td>23.0</td>\n",
       "      <td>6/12/2011</td>\n",
       "      <td>76.023048</td>\n",
       "    </tr>\n",
       "    <tr>\n",
       "      <th>129</th>\n",
       "      <td>Saturn</td>\n",
       "      <td>SL</td>\n",
       "      <td>80.620</td>\n",
       "      <td>9.200</td>\n",
       "      <td>Passenger</td>\n",
       "      <td>10.685</td>\n",
       "      <td>1.9</td>\n",
       "      <td>100.0</td>\n",
       "      <td>102.4</td>\n",
       "      <td>66.4</td>\n",
       "      <td>176.9</td>\n",
       "      <td>2.332</td>\n",
       "      <td>12.1</td>\n",
       "      <td>33.0</td>\n",
       "      <td>8/16/2012</td>\n",
       "      <td>39.986425</td>\n",
       "    </tr>\n",
       "    <tr>\n",
       "      <th>130</th>\n",
       "      <td>Saturn</td>\n",
       "      <td>SC</td>\n",
       "      <td>24.546</td>\n",
       "      <td>10.590</td>\n",
       "      <td>Passenger</td>\n",
       "      <td>12.535</td>\n",
       "      <td>1.9</td>\n",
       "      <td>100.0</td>\n",
       "      <td>102.4</td>\n",
       "      <td>66.4</td>\n",
       "      <td>180.0</td>\n",
       "      <td>2.367</td>\n",
       "      <td>12.1</td>\n",
       "      <td>33.0</td>\n",
       "      <td>3/16/2011</td>\n",
       "      <td>40.700072</td>\n",
       "    </tr>\n",
       "    <tr>\n",
       "      <th>131</th>\n",
       "      <td>Saturn</td>\n",
       "      <td>SW</td>\n",
       "      <td>5.223</td>\n",
       "      <td>10.790</td>\n",
       "      <td>Passenger</td>\n",
       "      <td>14.290</td>\n",
       "      <td>1.9</td>\n",
       "      <td>124.0</td>\n",
       "      <td>102.4</td>\n",
       "      <td>66.4</td>\n",
       "      <td>176.9</td>\n",
       "      <td>2.452</td>\n",
       "      <td>12.1</td>\n",
       "      <td>31.0</td>\n",
       "      <td>1/15/2011</td>\n",
       "      <td>49.865774</td>\n",
       "    </tr>\n",
       "    <tr>\n",
       "      <th>132</th>\n",
       "      <td>Saturn</td>\n",
       "      <td>LW</td>\n",
       "      <td>8.472</td>\n",
       "      <td>NaN</td>\n",
       "      <td>Passenger</td>\n",
       "      <td>18.835</td>\n",
       "      <td>2.2</td>\n",
       "      <td>137.0</td>\n",
       "      <td>106.5</td>\n",
       "      <td>69.0</td>\n",
       "      <td>190.4</td>\n",
       "      <td>3.075</td>\n",
       "      <td>13.1</td>\n",
       "      <td>27.0</td>\n",
       "      <td>8/5/2011</td>\n",
       "      <td>56.295243</td>\n",
       "    </tr>\n",
       "    <tr>\n",
       "      <th>133</th>\n",
       "      <td>Saturn</td>\n",
       "      <td>LS</td>\n",
       "      <td>49.989</td>\n",
       "      <td>NaN</td>\n",
       "      <td>Passenger</td>\n",
       "      <td>15.010</td>\n",
       "      <td>2.2</td>\n",
       "      <td>137.0</td>\n",
       "      <td>106.5</td>\n",
       "      <td>69.0</td>\n",
       "      <td>190.4</td>\n",
       "      <td>2.910</td>\n",
       "      <td>13.1</td>\n",
       "      <td>28.0</td>\n",
       "      <td>12/4/2012</td>\n",
       "      <td>54.819728</td>\n",
       "    </tr>\n",
       "    <tr>\n",
       "      <th>134</th>\n",
       "      <td>Subaru</td>\n",
       "      <td>Outback</td>\n",
       "      <td>47.107</td>\n",
       "      <td>NaN</td>\n",
       "      <td>Passenger</td>\n",
       "      <td>22.695</td>\n",
       "      <td>2.5</td>\n",
       "      <td>165.0</td>\n",
       "      <td>103.5</td>\n",
       "      <td>67.5</td>\n",
       "      <td>185.8</td>\n",
       "      <td>3.415</td>\n",
       "      <td>16.9</td>\n",
       "      <td>25.0</td>\n",
       "      <td>7/7/2011</td>\n",
       "      <td>67.765908</td>\n",
       "    </tr>\n",
       "    <tr>\n",
       "      <th>135</th>\n",
       "      <td>Subaru</td>\n",
       "      <td>Forester</td>\n",
       "      <td>33.028</td>\n",
       "      <td>NaN</td>\n",
       "      <td>Car</td>\n",
       "      <td>20.095</td>\n",
       "      <td>2.5</td>\n",
       "      <td>165.0</td>\n",
       "      <td>99.4</td>\n",
       "      <td>68.3</td>\n",
       "      <td>175.2</td>\n",
       "      <td>3.125</td>\n",
       "      <td>15.9</td>\n",
       "      <td>24.0</td>\n",
       "      <td>9/10/2012</td>\n",
       "      <td>66.762943</td>\n",
       "    </tr>\n",
       "    <tr>\n",
       "      <th>136</th>\n",
       "      <td>Toyota</td>\n",
       "      <td>Corolla</td>\n",
       "      <td>142.535</td>\n",
       "      <td>10.025</td>\n",
       "      <td>Passenger</td>\n",
       "      <td>13.108</td>\n",
       "      <td>1.8</td>\n",
       "      <td>120.0</td>\n",
       "      <td>97.0</td>\n",
       "      <td>66.7</td>\n",
       "      <td>174.0</td>\n",
       "      <td>2.420</td>\n",
       "      <td>13.2</td>\n",
       "      <td>33.0</td>\n",
       "      <td>4/11/2011</td>\n",
       "      <td>47.968972</td>\n",
       "    </tr>\n",
       "    <tr>\n",
       "      <th>137</th>\n",
       "      <td>Toyota</td>\n",
       "      <td>Camry</td>\n",
       "      <td>247.994</td>\n",
       "      <td>13.245</td>\n",
       "      <td>Passenger</td>\n",
       "      <td>17.518</td>\n",
       "      <td>2.2</td>\n",
       "      <td>133.0</td>\n",
       "      <td>105.2</td>\n",
       "      <td>70.1</td>\n",
       "      <td>188.5</td>\n",
       "      <td>2.998</td>\n",
       "      <td>18.5</td>\n",
       "      <td>27.0</td>\n",
       "      <td>2/10/2011</td>\n",
       "      <td>54.372420</td>\n",
       "    </tr>\n",
       "    <tr>\n",
       "      <th>138</th>\n",
       "      <td>Toyota</td>\n",
       "      <td>Avalon</td>\n",
       "      <td>63.849</td>\n",
       "      <td>18.140</td>\n",
       "      <td>Passenger</td>\n",
       "      <td>25.545</td>\n",
       "      <td>3.0</td>\n",
       "      <td>210.0</td>\n",
       "      <td>107.1</td>\n",
       "      <td>71.7</td>\n",
       "      <td>191.9</td>\n",
       "      <td>3.417</td>\n",
       "      <td>18.5</td>\n",
       "      <td>26.0</td>\n",
       "      <td>8/31/2011</td>\n",
       "      <td>84.911898</td>\n",
       "    </tr>\n",
       "    <tr>\n",
       "      <th>139</th>\n",
       "      <td>Toyota</td>\n",
       "      <td>Celica</td>\n",
       "      <td>33.269</td>\n",
       "      <td>15.445</td>\n",
       "      <td>Passenger</td>\n",
       "      <td>16.875</td>\n",
       "      <td>1.8</td>\n",
       "      <td>140.0</td>\n",
       "      <td>102.4</td>\n",
       "      <td>68.3</td>\n",
       "      <td>170.5</td>\n",
       "      <td>2.425</td>\n",
       "      <td>14.5</td>\n",
       "      <td>31.0</td>\n",
       "      <td>12/29/2012</td>\n",
       "      <td>56.496030</td>\n",
       "    </tr>\n",
       "    <tr>\n",
       "      <th>140</th>\n",
       "      <td>Toyota</td>\n",
       "      <td>Tacoma</td>\n",
       "      <td>84.087</td>\n",
       "      <td>9.575</td>\n",
       "      <td>Car</td>\n",
       "      <td>11.528</td>\n",
       "      <td>2.4</td>\n",
       "      <td>142.0</td>\n",
       "      <td>103.3</td>\n",
       "      <td>66.5</td>\n",
       "      <td>178.7</td>\n",
       "      <td>2.580</td>\n",
       "      <td>15.1</td>\n",
       "      <td>23.0</td>\n",
       "      <td>8/1/2011</td>\n",
       "      <td>55.297117</td>\n",
       "    </tr>\n",
       "    <tr>\n",
       "      <th>141</th>\n",
       "      <td>Toyota</td>\n",
       "      <td>Sienna</td>\n",
       "      <td>65.119</td>\n",
       "      <td>NaN</td>\n",
       "      <td>Car</td>\n",
       "      <td>22.368</td>\n",
       "      <td>3.0</td>\n",
       "      <td>194.0</td>\n",
       "      <td>114.2</td>\n",
       "      <td>73.4</td>\n",
       "      <td>193.5</td>\n",
       "      <td>3.759</td>\n",
       "      <td>20.9</td>\n",
       "      <td>22.0</td>\n",
       "      <td>10/5/2012</td>\n",
       "      <td>78.027219</td>\n",
       "    </tr>\n",
       "    <tr>\n",
       "      <th>142</th>\n",
       "      <td>Toyota</td>\n",
       "      <td>RAV4</td>\n",
       "      <td>25.106</td>\n",
       "      <td>13.325</td>\n",
       "      <td>Car</td>\n",
       "      <td>16.888</td>\n",
       "      <td>2.0</td>\n",
       "      <td>127.0</td>\n",
       "      <td>94.9</td>\n",
       "      <td>66.7</td>\n",
       "      <td>163.8</td>\n",
       "      <td>2.668</td>\n",
       "      <td>15.3</td>\n",
       "      <td>27.0</td>\n",
       "      <td>5/6/2011</td>\n",
       "      <td>51.955109</td>\n",
       "    </tr>\n",
       "    <tr>\n",
       "      <th>143</th>\n",
       "      <td>Toyota</td>\n",
       "      <td>4Runner</td>\n",
       "      <td>68.411</td>\n",
       "      <td>19.425</td>\n",
       "      <td>Car</td>\n",
       "      <td>22.288</td>\n",
       "      <td>2.7</td>\n",
       "      <td>150.0</td>\n",
       "      <td>105.3</td>\n",
       "      <td>66.5</td>\n",
       "      <td>183.3</td>\n",
       "      <td>3.440</td>\n",
       "      <td>18.5</td>\n",
       "      <td>23.0</td>\n",
       "      <td>3/7/2011</td>\n",
       "      <td>62.355577</td>\n",
       "    </tr>\n",
       "    <tr>\n",
       "      <th>144</th>\n",
       "      <td>Toyota</td>\n",
       "      <td>Land Cruiser</td>\n",
       "      <td>9.835</td>\n",
       "      <td>34.080</td>\n",
       "      <td>Car</td>\n",
       "      <td>51.728</td>\n",
       "      <td>4.7</td>\n",
       "      <td>230.0</td>\n",
       "      <td>112.2</td>\n",
       "      <td>76.4</td>\n",
       "      <td>192.5</td>\n",
       "      <td>5.115</td>\n",
       "      <td>25.4</td>\n",
       "      <td>15.0</td>\n",
       "      <td>9/25/2011</td>\n",
       "      <td>102.528984</td>\n",
       "    </tr>\n",
       "    <tr>\n",
       "      <th>145</th>\n",
       "      <td>Volkswagen</td>\n",
       "      <td>Golf</td>\n",
       "      <td>9.761</td>\n",
       "      <td>11.425</td>\n",
       "      <td>Passenger</td>\n",
       "      <td>14.900</td>\n",
       "      <td>2.0</td>\n",
       "      <td>115.0</td>\n",
       "      <td>98.9</td>\n",
       "      <td>68.3</td>\n",
       "      <td>163.3</td>\n",
       "      <td>2.767</td>\n",
       "      <td>14.5</td>\n",
       "      <td>26.0</td>\n",
       "      <td>1/24/2011</td>\n",
       "      <td>46.943877</td>\n",
       "    </tr>\n",
       "    <tr>\n",
       "      <th>146</th>\n",
       "      <td>Volkswagen</td>\n",
       "      <td>Jetta</td>\n",
       "      <td>83.721</td>\n",
       "      <td>13.240</td>\n",
       "      <td>Passenger</td>\n",
       "      <td>16.700</td>\n",
       "      <td>2.0</td>\n",
       "      <td>115.0</td>\n",
       "      <td>98.9</td>\n",
       "      <td>68.3</td>\n",
       "      <td>172.3</td>\n",
       "      <td>2.853</td>\n",
       "      <td>14.5</td>\n",
       "      <td>26.0</td>\n",
       "      <td>8/27/2011</td>\n",
       "      <td>47.638237</td>\n",
       "    </tr>\n",
       "    <tr>\n",
       "      <th>147</th>\n",
       "      <td>Volkswagen</td>\n",
       "      <td>Passat</td>\n",
       "      <td>51.102</td>\n",
       "      <td>16.725</td>\n",
       "      <td>Passenger</td>\n",
       "      <td>21.200</td>\n",
       "      <td>1.8</td>\n",
       "      <td>150.0</td>\n",
       "      <td>106.4</td>\n",
       "      <td>68.5</td>\n",
       "      <td>184.1</td>\n",
       "      <td>3.043</td>\n",
       "      <td>16.4</td>\n",
       "      <td>27.0</td>\n",
       "      <td>10/30/2012</td>\n",
       "      <td>61.701381</td>\n",
       "    </tr>\n",
       "    <tr>\n",
       "      <th>148</th>\n",
       "      <td>Volkswagen</td>\n",
       "      <td>Cabrio</td>\n",
       "      <td>9.569</td>\n",
       "      <td>16.575</td>\n",
       "      <td>Passenger</td>\n",
       "      <td>19.990</td>\n",
       "      <td>2.0</td>\n",
       "      <td>115.0</td>\n",
       "      <td>97.4</td>\n",
       "      <td>66.7</td>\n",
       "      <td>160.4</td>\n",
       "      <td>3.079</td>\n",
       "      <td>13.7</td>\n",
       "      <td>26.0</td>\n",
       "      <td>5/31/2011</td>\n",
       "      <td>48.907372</td>\n",
       "    </tr>\n",
       "    <tr>\n",
       "      <th>149</th>\n",
       "      <td>Volkswagen</td>\n",
       "      <td>GTI</td>\n",
       "      <td>5.596</td>\n",
       "      <td>13.760</td>\n",
       "      <td>Passenger</td>\n",
       "      <td>17.500</td>\n",
       "      <td>2.0</td>\n",
       "      <td>115.0</td>\n",
       "      <td>98.9</td>\n",
       "      <td>68.3</td>\n",
       "      <td>163.3</td>\n",
       "      <td>2.762</td>\n",
       "      <td>14.6</td>\n",
       "      <td>26.0</td>\n",
       "      <td>4/1/2011</td>\n",
       "      <td>47.946841</td>\n",
       "    </tr>\n",
       "    <tr>\n",
       "      <th>150</th>\n",
       "      <td>Volkswagen</td>\n",
       "      <td>Beetle</td>\n",
       "      <td>49.463</td>\n",
       "      <td>NaN</td>\n",
       "      <td>Passenger</td>\n",
       "      <td>15.900</td>\n",
       "      <td>2.0</td>\n",
       "      <td>115.0</td>\n",
       "      <td>98.9</td>\n",
       "      <td>67.9</td>\n",
       "      <td>161.1</td>\n",
       "      <td>2.769</td>\n",
       "      <td>14.5</td>\n",
       "      <td>26.0</td>\n",
       "      <td>10/20/2011</td>\n",
       "      <td>47.329632</td>\n",
       "    </tr>\n",
       "    <tr>\n",
       "      <th>151</th>\n",
       "      <td>Volvo</td>\n",
       "      <td>S40</td>\n",
       "      <td>16.957</td>\n",
       "      <td>NaN</td>\n",
       "      <td>Passenger</td>\n",
       "      <td>23.400</td>\n",
       "      <td>1.9</td>\n",
       "      <td>160.0</td>\n",
       "      <td>100.5</td>\n",
       "      <td>67.6</td>\n",
       "      <td>176.6</td>\n",
       "      <td>2.998</td>\n",
       "      <td>15.8</td>\n",
       "      <td>25.0</td>\n",
       "      <td>2/18/2011</td>\n",
       "      <td>66.113057</td>\n",
       "    </tr>\n",
       "    <tr>\n",
       "      <th>152</th>\n",
       "      <td>Volvo</td>\n",
       "      <td>V40</td>\n",
       "      <td>3.545</td>\n",
       "      <td>NaN</td>\n",
       "      <td>Passenger</td>\n",
       "      <td>24.400</td>\n",
       "      <td>1.9</td>\n",
       "      <td>160.0</td>\n",
       "      <td>100.5</td>\n",
       "      <td>67.6</td>\n",
       "      <td>176.6</td>\n",
       "      <td>3.042</td>\n",
       "      <td>15.8</td>\n",
       "      <td>25.0</td>\n",
       "      <td>9/21/2011</td>\n",
       "      <td>66.498812</td>\n",
       "    </tr>\n",
       "    <tr>\n",
       "      <th>153</th>\n",
       "      <td>Volvo</td>\n",
       "      <td>S70</td>\n",
       "      <td>15.245</td>\n",
       "      <td>NaN</td>\n",
       "      <td>Passenger</td>\n",
       "      <td>27.500</td>\n",
       "      <td>2.4</td>\n",
       "      <td>168.0</td>\n",
       "      <td>104.9</td>\n",
       "      <td>69.3</td>\n",
       "      <td>185.9</td>\n",
       "      <td>3.208</td>\n",
       "      <td>17.9</td>\n",
       "      <td>25.0</td>\n",
       "      <td>11/24/2012</td>\n",
       "      <td>70.654495</td>\n",
       "    </tr>\n",
       "    <tr>\n",
       "      <th>154</th>\n",
       "      <td>Volvo</td>\n",
       "      <td>V70</td>\n",
       "      <td>17.531</td>\n",
       "      <td>NaN</td>\n",
       "      <td>Passenger</td>\n",
       "      <td>28.800</td>\n",
       "      <td>2.4</td>\n",
       "      <td>168.0</td>\n",
       "      <td>104.9</td>\n",
       "      <td>69.3</td>\n",
       "      <td>186.2</td>\n",
       "      <td>3.259</td>\n",
       "      <td>17.9</td>\n",
       "      <td>25.0</td>\n",
       "      <td>6/25/2011</td>\n",
       "      <td>71.155978</td>\n",
       "    </tr>\n",
       "    <tr>\n",
       "      <th>155</th>\n",
       "      <td>Volvo</td>\n",
       "      <td>C70</td>\n",
       "      <td>3.493</td>\n",
       "      <td>NaN</td>\n",
       "      <td>Passenger</td>\n",
       "      <td>45.500</td>\n",
       "      <td>2.3</td>\n",
       "      <td>236.0</td>\n",
       "      <td>104.9</td>\n",
       "      <td>71.5</td>\n",
       "      <td>185.7</td>\n",
       "      <td>3.601</td>\n",
       "      <td>18.5</td>\n",
       "      <td>23.0</td>\n",
       "      <td>4/26/2011</td>\n",
       "      <td>101.623357</td>\n",
       "    </tr>\n",
       "    <tr>\n",
       "      <th>156</th>\n",
       "      <td>Volvo</td>\n",
       "      <td>S80</td>\n",
       "      <td>18.969</td>\n",
       "      <td>NaN</td>\n",
       "      <td>Passenger</td>\n",
       "      <td>36.000</td>\n",
       "      <td>2.9</td>\n",
       "      <td>201.0</td>\n",
       "      <td>109.9</td>\n",
       "      <td>72.1</td>\n",
       "      <td>189.8</td>\n",
       "      <td>3.600</td>\n",
       "      <td>21.1</td>\n",
       "      <td>24.0</td>\n",
       "      <td>11/14/2011</td>\n",
       "      <td>85.735655</td>\n",
       "    </tr>\n",
       "  </tbody>\n",
       "</table>\n",
       "<p>157 rows × 16 columns</p>\n",
       "</div>"
      ],
      "text/plain": [
       "    Manufacturer          Model  Sales_in_thousands  __year_resale_value  \\\n",
       "0          Acura        Integra              16.919               16.360   \n",
       "1          Acura             TL              39.384               19.875   \n",
       "2          Acura             CL              14.114               18.225   \n",
       "3          Acura             RL               8.588               29.725   \n",
       "4           Audi             A4              20.397               22.255   \n",
       "5           Audi             A6              18.780               23.555   \n",
       "6           Audi             A8               1.380               39.000   \n",
       "7            BMW           323i              19.747                  NaN   \n",
       "8            BMW           328i               9.231               28.675   \n",
       "9            BMW           528i              17.527               36.125   \n",
       "10         Buick        Century              91.561               12.475   \n",
       "11         Buick          Regal              39.350               13.740   \n",
       "12         Buick    Park Avenue              27.851               20.190   \n",
       "13         Buick        LeSabre              83.257               13.360   \n",
       "14      Cadillac        DeVille              63.729               22.525   \n",
       "15      Cadillac        Seville              15.943               27.100   \n",
       "16      Cadillac       Eldorado               6.536               25.725   \n",
       "17      Cadillac         Catera              11.185               18.225   \n",
       "18      Cadillac       Escalade              14.785                  NaN   \n",
       "19     Chevrolet       Cavalier             145.519                9.250   \n",
       "20     Chevrolet         Malibu             135.126               11.225   \n",
       "21     Chevrolet         Lumina              24.629               10.310   \n",
       "22     Chevrolet    Monte Carlo              42.593               11.525   \n",
       "23     Chevrolet         Camaro              26.402               13.025   \n",
       "24     Chevrolet       Corvette              17.947               36.225   \n",
       "25     Chevrolet          Prizm              32.299                9.125   \n",
       "26     Chevrolet          Metro              21.855                5.160   \n",
       "27     Chevrolet         Impala             107.995                  NaN   \n",
       "28      Chrysler  Sebring Coupe               7.854               12.360   \n",
       "29      Chrysler  Sebring Conv.              32.775               14.180   \n",
       "..           ...            ...                 ...                  ...   \n",
       "127         Saab          5-Sep               9.191                  NaN   \n",
       "128         Saab          3-Sep              12.115                  NaN   \n",
       "129       Saturn             SL              80.620                9.200   \n",
       "130       Saturn             SC              24.546               10.590   \n",
       "131       Saturn             SW               5.223               10.790   \n",
       "132       Saturn             LW               8.472                  NaN   \n",
       "133       Saturn             LS              49.989                  NaN   \n",
       "134       Subaru        Outback              47.107                  NaN   \n",
       "135       Subaru       Forester              33.028                  NaN   \n",
       "136       Toyota        Corolla             142.535               10.025   \n",
       "137       Toyota          Camry             247.994               13.245   \n",
       "138       Toyota         Avalon              63.849               18.140   \n",
       "139       Toyota         Celica              33.269               15.445   \n",
       "140       Toyota         Tacoma              84.087                9.575   \n",
       "141       Toyota         Sienna              65.119                  NaN   \n",
       "142       Toyota           RAV4              25.106               13.325   \n",
       "143       Toyota        4Runner              68.411               19.425   \n",
       "144       Toyota   Land Cruiser               9.835               34.080   \n",
       "145   Volkswagen           Golf               9.761               11.425   \n",
       "146   Volkswagen          Jetta              83.721               13.240   \n",
       "147   Volkswagen         Passat              51.102               16.725   \n",
       "148   Volkswagen         Cabrio               9.569               16.575   \n",
       "149   Volkswagen            GTI               5.596               13.760   \n",
       "150   Volkswagen         Beetle              49.463                  NaN   \n",
       "151        Volvo            S40              16.957                  NaN   \n",
       "152        Volvo            V40               3.545                  NaN   \n",
       "153        Volvo            S70              15.245                  NaN   \n",
       "154        Volvo            V70              17.531                  NaN   \n",
       "155        Volvo            C70               3.493                  NaN   \n",
       "156        Volvo            S80              18.969                  NaN   \n",
       "\n",
       "    Vehicle_type  Price_in_thousands  Engine_size  Horsepower  Wheelbase  \\\n",
       "0      Passenger              21.500          1.8       140.0      101.2   \n",
       "1      Passenger              28.400          3.2       225.0      108.1   \n",
       "2      Passenger                 NaN          3.2       225.0      106.9   \n",
       "3      Passenger              42.000          3.5       210.0      114.6   \n",
       "4      Passenger              23.990          1.8       150.0      102.6   \n",
       "5      Passenger              33.950          2.8       200.0      108.7   \n",
       "6      Passenger              62.000          4.2       310.0      113.0   \n",
       "7      Passenger              26.990          2.5       170.0      107.3   \n",
       "8      Passenger              33.400          2.8       193.0      107.3   \n",
       "9      Passenger              38.900          2.8       193.0      111.4   \n",
       "10     Passenger              21.975          3.1       175.0      109.0   \n",
       "11     Passenger              25.300          3.8       240.0      109.0   \n",
       "12     Passenger              31.965          3.8       205.0      113.8   \n",
       "13     Passenger              27.885          3.8       205.0      112.2   \n",
       "14     Passenger              39.895          4.6       275.0      115.3   \n",
       "15     Passenger              44.475          4.6       275.0      112.2   \n",
       "16     Passenger              39.665          4.6       275.0      108.0   \n",
       "17     Passenger              31.010          3.0       200.0      107.4   \n",
       "18           Car              46.225          5.7       255.0      117.5   \n",
       "19     Passenger              13.260          2.2       115.0      104.1   \n",
       "20     Passenger              16.535          3.1       170.0      107.0   \n",
       "21     Passenger              18.890          3.1       175.0      107.5   \n",
       "22     Passenger              19.390          3.4       180.0      110.5   \n",
       "23     Passenger              24.340          3.8       200.0      101.1   \n",
       "24     Passenger              45.705          5.7       345.0      104.5   \n",
       "25     Passenger              13.960          1.8       120.0       97.1   \n",
       "26     Passenger               9.235          1.0        55.0       93.1   \n",
       "27     Passenger              18.890          3.4       180.0      110.5   \n",
       "28     Passenger              19.840          2.5       163.0      103.7   \n",
       "29     Passenger              24.495          2.5       168.0      106.0   \n",
       "..           ...                 ...          ...         ...        ...   \n",
       "127    Passenger              33.120          2.3       170.0      106.4   \n",
       "128    Passenger              26.100          2.0       185.0      102.6   \n",
       "129    Passenger              10.685          1.9       100.0      102.4   \n",
       "130    Passenger              12.535          1.9       100.0      102.4   \n",
       "131    Passenger              14.290          1.9       124.0      102.4   \n",
       "132    Passenger              18.835          2.2       137.0      106.5   \n",
       "133    Passenger              15.010          2.2       137.0      106.5   \n",
       "134    Passenger              22.695          2.5       165.0      103.5   \n",
       "135          Car              20.095          2.5       165.0       99.4   \n",
       "136    Passenger              13.108          1.8       120.0       97.0   \n",
       "137    Passenger              17.518          2.2       133.0      105.2   \n",
       "138    Passenger              25.545          3.0       210.0      107.1   \n",
       "139    Passenger              16.875          1.8       140.0      102.4   \n",
       "140          Car              11.528          2.4       142.0      103.3   \n",
       "141          Car              22.368          3.0       194.0      114.2   \n",
       "142          Car              16.888          2.0       127.0       94.9   \n",
       "143          Car              22.288          2.7       150.0      105.3   \n",
       "144          Car              51.728          4.7       230.0      112.2   \n",
       "145    Passenger              14.900          2.0       115.0       98.9   \n",
       "146    Passenger              16.700          2.0       115.0       98.9   \n",
       "147    Passenger              21.200          1.8       150.0      106.4   \n",
       "148    Passenger              19.990          2.0       115.0       97.4   \n",
       "149    Passenger              17.500          2.0       115.0       98.9   \n",
       "150    Passenger              15.900          2.0       115.0       98.9   \n",
       "151    Passenger              23.400          1.9       160.0      100.5   \n",
       "152    Passenger              24.400          1.9       160.0      100.5   \n",
       "153    Passenger              27.500          2.4       168.0      104.9   \n",
       "154    Passenger              28.800          2.4       168.0      104.9   \n",
       "155    Passenger              45.500          2.3       236.0      104.9   \n",
       "156    Passenger              36.000          2.9       201.0      109.9   \n",
       "\n",
       "     Width  Length  Curb_weight  Fuel_capacity  Fuel_efficiency Latest_Launch  \\\n",
       "0     67.3   172.4        2.639           13.2             28.0      2/2/2012   \n",
       "1     70.3   192.9        3.517           17.2             25.0      6/3/2011   \n",
       "2     70.6   192.0        3.470           17.2             26.0      1/4/2012   \n",
       "3     71.4   196.6        3.850           18.0             22.0     3/10/2011   \n",
       "4     68.2   178.0        2.998           16.4             27.0     10/8/2011   \n",
       "5     76.1   192.0        3.561           18.5             22.0      8/9/2011   \n",
       "6     74.0   198.2        3.902           23.7             21.0     2/27/2012   \n",
       "7     68.4   176.0        3.179           16.6             26.0     6/28/2011   \n",
       "8     68.5   176.0        3.197           16.6             24.0     1/29/2012   \n",
       "9     70.9   188.0        3.472           18.5             25.0      4/4/2011   \n",
       "10    72.7   194.6        3.368           17.5             25.0     11/2/2011   \n",
       "11    72.7   196.2        3.543           17.5             23.0      9/3/2011   \n",
       "12    74.7   206.8        3.778           18.5             24.0     3/23/2012   \n",
       "13    73.5   200.0        3.591           17.5             25.0     7/23/2011   \n",
       "14    74.5   207.2        3.978           18.5             22.0     2/23/2012   \n",
       "15    75.0   201.0          NaN           18.5             22.0     4/29/2011   \n",
       "16    75.5   200.6        3.843           19.0             22.0    11/27/2011   \n",
       "17    70.3   194.8        3.770           18.0             22.0     9/28/2011   \n",
       "18    77.0   201.2        5.572           30.0             15.0     4/17/2012   \n",
       "19    67.9   180.9        2.676           14.3             27.0     8/17/2011   \n",
       "20    69.4   190.4        3.051           15.0             25.0     3/19/2012   \n",
       "21    72.5   200.9        3.330           16.6             25.0     5/24/2011   \n",
       "22    72.7   197.9        3.340           17.0             27.0    12/22/2011   \n",
       "23    74.1   193.2        3.500           16.8             25.0    10/23/2011   \n",
       "24    73.6   179.7        3.210           19.1             22.0     5/12/2012   \n",
       "25    66.7   174.3        2.398           13.2             33.0     9/11/2011   \n",
       "26    62.6   149.4        1.895           10.3             45.0     4/13/2012   \n",
       "27    73.0   200.0        3.389           17.0             27.0     6/18/2011   \n",
       "28    69.7   190.9        2.967           15.9             24.0     1/16/2012   \n",
       "29    69.2   193.0        3.332           16.0             24.0    11/17/2011   \n",
       "..     ...     ...          ...            ...              ...           ...   \n",
       "127   70.6   189.2        3.280           18.5             23.0     11/9/2012   \n",
       "128   67.4   182.2        2.990           16.9             23.0     6/12/2011   \n",
       "129   66.4   176.9        2.332           12.1             33.0     8/16/2012   \n",
       "130   66.4   180.0        2.367           12.1             33.0     3/16/2011   \n",
       "131   66.4   176.9        2.452           12.1             31.0     1/15/2011   \n",
       "132   69.0   190.4        3.075           13.1             27.0      8/5/2011   \n",
       "133   69.0   190.4        2.910           13.1             28.0     12/4/2012   \n",
       "134   67.5   185.8        3.415           16.9             25.0      7/7/2011   \n",
       "135   68.3   175.2        3.125           15.9             24.0     9/10/2012   \n",
       "136   66.7   174.0        2.420           13.2             33.0     4/11/2011   \n",
       "137   70.1   188.5        2.998           18.5             27.0     2/10/2011   \n",
       "138   71.7   191.9        3.417           18.5             26.0     8/31/2011   \n",
       "139   68.3   170.5        2.425           14.5             31.0    12/29/2012   \n",
       "140   66.5   178.7        2.580           15.1             23.0      8/1/2011   \n",
       "141   73.4   193.5        3.759           20.9             22.0     10/5/2012   \n",
       "142   66.7   163.8        2.668           15.3             27.0      5/6/2011   \n",
       "143   66.5   183.3        3.440           18.5             23.0      3/7/2011   \n",
       "144   76.4   192.5        5.115           25.4             15.0     9/25/2011   \n",
       "145   68.3   163.3        2.767           14.5             26.0     1/24/2011   \n",
       "146   68.3   172.3        2.853           14.5             26.0     8/27/2011   \n",
       "147   68.5   184.1        3.043           16.4             27.0    10/30/2012   \n",
       "148   66.7   160.4        3.079           13.7             26.0     5/31/2011   \n",
       "149   68.3   163.3        2.762           14.6             26.0      4/1/2011   \n",
       "150   67.9   161.1        2.769           14.5             26.0    10/20/2011   \n",
       "151   67.6   176.6        2.998           15.8             25.0     2/18/2011   \n",
       "152   67.6   176.6        3.042           15.8             25.0     9/21/2011   \n",
       "153   69.3   185.9        3.208           17.9             25.0    11/24/2012   \n",
       "154   69.3   186.2        3.259           17.9             25.0     6/25/2011   \n",
       "155   71.5   185.7        3.601           18.5             23.0     4/26/2011   \n",
       "156   72.1   189.8        3.600           21.1             24.0    11/14/2011   \n",
       "\n",
       "     Power_perf_factor  \n",
       "0            58.280150  \n",
       "1            91.370778  \n",
       "2                  NaN  \n",
       "3            91.389779  \n",
       "4            62.777639  \n",
       "5            84.565105  \n",
       "6           134.656858  \n",
       "7            71.191207  \n",
       "8            81.877069  \n",
       "9            83.998724  \n",
       "10           71.181451  \n",
       "11           95.636703  \n",
       "12           85.828408  \n",
       "13           84.254526  \n",
       "14          113.854598  \n",
       "15          115.621358  \n",
       "16          113.765874  \n",
       "17           83.483094  \n",
       "18          109.509117  \n",
       "19           46.363347  \n",
       "20           67.314462  \n",
       "21           69.991396  \n",
       "22           72.030917  \n",
       "23           81.118543  \n",
       "24          141.141150  \n",
       "25           48.297636  \n",
       "26           23.276272  \n",
       "27           71.838039  \n",
       "28           65.957184  \n",
       "29           69.521355  \n",
       "..                 ...  \n",
       "127          73.503778  \n",
       "128          76.023048  \n",
       "129          39.986425  \n",
       "130          40.700072  \n",
       "131          49.865774  \n",
       "132          56.295243  \n",
       "133          54.819728  \n",
       "134          67.765908  \n",
       "135          66.762943  \n",
       "136          47.968972  \n",
       "137          54.372420  \n",
       "138          84.911898  \n",
       "139          56.496030  \n",
       "140          55.297117  \n",
       "141          78.027219  \n",
       "142          51.955109  \n",
       "143          62.355577  \n",
       "144         102.528984  \n",
       "145          46.943877  \n",
       "146          47.638237  \n",
       "147          61.701381  \n",
       "148          48.907372  \n",
       "149          47.946841  \n",
       "150          47.329632  \n",
       "151          66.113057  \n",
       "152          66.498812  \n",
       "153          70.654495  \n",
       "154          71.155978  \n",
       "155         101.623357  \n",
       "156          85.735655  \n",
       "\n",
       "[157 rows x 16 columns]"
      ]
     },
     "execution_count": 16,
     "metadata": {},
     "output_type": "execute_result"
    }
   ],
   "source": [
    "car"
   ]
  },
  {
   "cell_type": "code",
   "execution_count": null,
   "metadata": {},
   "outputs": [],
   "source": [
    "# chart which will have manufacturer name and mean of 4 years resale value\n",
    "\n",
    "# Grouby using manufacturer and then take avg of the resale value"
   ]
  },
  {
   "cell_type": "code",
   "execution_count": 23,
   "metadata": {},
   "outputs": [
    {
     "name": "stdout",
     "output_type": "stream",
     "text": [
      "Acura 21.04625\n",
      "Audi 28.27\n",
      "BMW 32.4\n",
      "Buick 14.94125\n",
      "Cadillac 23.393749999999997\n",
      "Chevrolet 13.230625\n",
      "Chrysler 14.961666666666668\n",
      "Dodge 16.8505\n",
      "Ford 12.959999999999999\n",
      "Honda 15.556999999999999\n",
      "Hyundai 7.531666666666666\n",
      "Infiniti 19.69\n",
      "Jaguar nan\n",
      "Jeep 15.353333333333333\n",
      "Lexus 33.14166666666667\n",
      "Lincoln 21.125\n",
      "Mercedes-B 44.11875\n",
      "Mercury 13.97\n",
      "Mitsubishi 14.262142857142857\n",
      "Nissan 13.612\n",
      "Oldsmobile 16.57375\n",
      "Plymouth 9.858333333333334\n",
      "Pontiac 13.823999999999998\n",
      "Porsche 56.475\n",
      "Saab nan\n",
      "Saturn 10.193333333333333\n",
      "Subaru nan\n",
      "Toyota 16.6575\n",
      "Volkswagen 14.345000000000002\n",
      "Volvo nan\n"
     ]
    }
   ],
   "source": [
    "for group, data in car.groupby('Manufacturer'):\n",
    "    print(group,data['__year_resale_value'].mean()) \n",
    "    \n",
    "# selecting the manufacturer as group and data as resale value and then taking mean "
   ]
  },
  {
   "cell_type": "code",
   "execution_count": 108,
   "metadata": {},
   "outputs": [
    {
     "ename": "NameError",
     "evalue": "name 'plt' is not defined",
     "output_type": "error",
     "traceback": [
      "\u001b[1;31m---------------------------------------------------------------------------\u001b[0m",
      "\u001b[1;31mNameError\u001b[0m                                 Traceback (most recent call last)",
      "\u001b[1;32m<ipython-input-108-6d3ea81fa9ab>\u001b[0m in \u001b[0;36m<module>\u001b[1;34m()\u001b[0m\n\u001b[1;32m----> 1\u001b[1;33m \u001b[0mplt\u001b[0m\u001b[1;33m.\u001b[0m\u001b[0mfigure\u001b[0m\u001b[1;33m(\u001b[0m\u001b[0mfigsize\u001b[0m\u001b[1;33m=\u001b[0m\u001b[1;33m(\u001b[0m\u001b[1;33m)\u001b[0m\u001b[1;33m)\u001b[0m\u001b[1;33m\u001b[0m\u001b[1;33m\u001b[0m\u001b[0m\n\u001b[0m\u001b[0;32m      2\u001b[0m \u001b[1;32mfor\u001b[0m \u001b[0mgroup\u001b[0m\u001b[1;33m,\u001b[0m \u001b[0mdata\u001b[0m \u001b[1;32min\u001b[0m \u001b[0mcar\u001b[0m\u001b[1;33m.\u001b[0m\u001b[0mgroupby\u001b[0m\u001b[1;33m(\u001b[0m\u001b[1;34m'Manufacturer'\u001b[0m\u001b[1;33m)\u001b[0m\u001b[1;33m:\u001b[0m\u001b[1;33m\u001b[0m\u001b[1;33m\u001b[0m\u001b[0m\n\u001b[0;32m      3\u001b[0m     \u001b[0mplt\u001b[0m\u001b[1;33m.\u001b[0m\u001b[0mbarh\u001b[0m\u001b[1;33m(\u001b[0m\u001b[0mgroup\u001b[0m\u001b[1;33m,\u001b[0m\u001b[0mdata\u001b[0m\u001b[1;33m[\u001b[0m\u001b[1;34m'__year_resale_value'\u001b[0m\u001b[1;33m]\u001b[0m\u001b[1;33m.\u001b[0m\u001b[0mmean\u001b[0m\u001b[1;33m(\u001b[0m\u001b[1;33m)\u001b[0m\u001b[1;33m)\u001b[0m\u001b[1;33m\u001b[0m\u001b[1;33m\u001b[0m\u001b[0m\n\u001b[0;32m      4\u001b[0m \u001b[1;33m\u001b[0m\u001b[0m\n\u001b[0;32m      5\u001b[0m \u001b[1;33m\u001b[0m\u001b[0m\n",
      "\u001b[1;31mNameError\u001b[0m: name 'plt' is not defined"
     ]
    }
   ],
   "source": [
    "plt.figure(figsize=(10,7))\n",
    "for group, data in car.groupby('Manufacturer'):\n",
    "    plt.barh(group,data['__year_resale_value'].mean())\n",
    "    \n",
    "    \n",
    "# simple take the data and plot using horizontal bars"
   ]
  },
  {
   "cell_type": "code",
   "execution_count": null,
   "metadata": {},
   "outputs": [],
   "source": []
  },
  {
   "cell_type": "code",
   "execution_count": null,
   "metadata": {},
   "outputs": [],
   "source": [
    "# Scatter plot\n",
    "\n",
    "# purpose of scatter plot is to find the patterns \n",
    "# very imp by data science point of view"
   ]
  },
  {
   "cell_type": "code",
   "execution_count": 27,
   "metadata": {},
   "outputs": [
    {
     "data": {
      "text/plain": [
       "<matplotlib.collections.PathCollection at 0x277ff836ba8>"
      ]
     },
     "execution_count": 27,
     "metadata": {},
     "output_type": "execute_result"
    },
    {
     "data": {
      "image/png": "[encoded data removed]",
      "text/plain": [
       "<Figure size 432x288 with 1 Axes>"
      ]
     },
     "metadata": {
      "needs_background": "light"
     },
     "output_type": "display_data"
    }
   ],
   "source": [
    "plt.scatter(car['Fuel_capacity'], car['Fuel_efficiency'])\n",
    "\n",
    "# as x axis increasing y axis decreasing"
   ]
  },
  {
   "cell_type": "code",
   "execution_count": null,
   "metadata": {},
   "outputs": [],
   "source": []
  },
  {
   "cell_type": "markdown",
   "metadata": {},
   "source": [
    "# Seaborn"
   ]
  },
  {
   "cell_type": "code",
   "execution_count": 28,
   "metadata": {},
   "outputs": [],
   "source": [
    "# adv of seaborn is that it has ability to take DataFrame as inputs"
   ]
  },
  {
   "cell_type": "code",
   "execution_count": 29,
   "metadata": {},
   "outputs": [],
   "source": [
    "import seaborn as sns"
   ]
  },
  {
   "cell_type": "code",
   "execution_count": 30,
   "metadata": {},
   "outputs": [],
   "source": [
    "# if there is null value in the dataset plot will not be created"
   ]
  },
  {
   "cell_type": "code",
   "execution_count": 33,
   "metadata": {},
   "outputs": [
    {
     "data": {
      "text/plain": [
       "<AxesSubplot:xlabel='Sales_in_thousands'>"
      ]
     },
     "execution_count": 33,
     "metadata": {},
     "output_type": "execute_result"
    },
    {
     "data": {
      "image/png": "[encoded data removed]",
      "text/plain": [
       "<Figure size 432x288 with 1 Axes>"
      ]
     },
     "metadata": {
      "needs_background": "light"
     },
     "output_type": "display_data"
    }
   ],
   "source": [
    "sns.distplot(car['Sales_in_thousands'])"
   ]
  },
  {
   "cell_type": "code",
   "execution_count": null,
   "metadata": {},
   "outputs": [],
   "source": [
    "# from this dist plot we can see how the distribution is\n",
    "# majority of the cars are at the left side"
   ]
  },
  {
   "cell_type": "code",
   "execution_count": 34,
   "metadata": {},
   "outputs": [],
   "source": [
    "# Scatter plot in seaborn"
   ]
  },
  {
   "cell_type": "code",
   "execution_count": 36,
   "metadata": {},
   "outputs": [
    {
     "data": {
      "text/plain": [
       "<seaborn.axisgrid.FacetGrid at 0x2779f647668>"
      ]
     },
     "execution_count": 36,
     "metadata": {},
     "output_type": "execute_result"
    },
    {
     "data": {
      "image/png": "[encoded data removed]",
      "text/plain": [
       "<Figure size 360x360 with 1 Axes>"
      ]
     },
     "metadata": {
      "needs_background": "light"
     },
     "output_type": "display_data"
    }
   ],
   "source": [
    "sns.lmplot(data = car , y = 'Fuel_efficiency', x = 'Fuel_capacity')\n"
   ]
  },
  {
   "cell_type": "code",
   "execution_count": 38,
   "metadata": {},
   "outputs": [
    {
     "data": {
      "text/plain": [
       "<seaborn.axisgrid.FacetGrid at 0x2779f773f60>"
      ]
     },
     "execution_count": 38,
     "metadata": {},
     "output_type": "execute_result"
    },
    {
     "data": {
      "image/png": "[encoded data removed]",
      "text/plain": [
       "<Figure size 360x360 with 1 Axes>"
      ]
     },
     "metadata": {
      "needs_background": "light"
     },
     "output_type": "display_data"
    }
   ],
   "source": [
    "sns.lmplot(data = car , y = 'Fuel_efficiency', x = 'Fuel_capacity', fit_reg=False)\n",
    "\n",
    "# we dont want regression line"
   ]
  },
  {
   "cell_type": "code",
   "execution_count": 40,
   "metadata": {},
   "outputs": [
    {
     "data": {
      "text/plain": [
       "<seaborn.axisgrid.FacetGrid at 0x2779f75d8d0>"
      ]
     },
     "execution_count": 40,
     "metadata": {},
     "output_type": "execute_result"
    },
    {
     "data": {
      "image/png": "[encoded data removed]",
      "text/plain": [
       "<Figure size 447.25x360 with 1 Axes>"
      ]
     },
     "metadata": {
      "needs_background": "light"
     },
     "output_type": "display_data"
    }
   ],
   "source": [
    "sns.lmplot(data = car , y = 'Fuel_efficiency', x = 'Fuel_capacity', fit_reg=False, hue='Vehicle_type')\n",
    "\n",
    "# hue is used when we want to segregate the point according to some type\n",
    "# for ex we have to type of vehicle \n",
    "# so i want seperate point for seperate types "
   ]
  },
  {
   "cell_type": "code",
   "execution_count": 42,
   "metadata": {},
   "outputs": [
    {
     "data": {
      "text/plain": [
       "<seaborn.axisgrid.JointGrid at 0x2779f95ab70>"
      ]
     },
     "execution_count": 42,
     "metadata": {},
     "output_type": "execute_result"
    },
    {
     "data": {
      "image/png": "[encoded data removed]",
      "text/plain": [
       "<Figure size 432x432 with 3 Axes>"
      ]
     },
     "metadata": {
      "needs_background": "light"
     },
     "output_type": "display_data"
    }
   ],
   "source": [
    "sns.jointplot(data = car, x = 'Fuel_capacity', y = 'Fuel_efficiency' )"
   ]
  },
  {
   "cell_type": "code",
   "execution_count": 43,
   "metadata": {},
   "outputs": [],
   "source": [
    "# joint plot is like joining the plots together where it shows how the data is distributed"
   ]
  },
  {
   "cell_type": "code",
   "execution_count": 45,
   "metadata": {},
   "outputs": [
    {
     "data": {
      "text/plain": [
       "<seaborn.axisgrid.JointGrid at 0x277a0b68438>"
      ]
     },
     "execution_count": 45,
     "metadata": {},
     "output_type": "execute_result"
    },
    {
     "data": {
      "image/png": "[encoded data removed]",
      "text/plain": [
       "<Figure size 432x432 with 3 Axes>"
      ]
     },
     "metadata": {
      "needs_background": "light"
     },
     "output_type": "display_data"
    }
   ],
   "source": [
    "sns.jointplot(data = car, x = 'Fuel_capacity', y = 'Fuel_efficiency', kind='kde' )\n",
    "\n",
    "# kde is kerner density estimate to estimate the density\n",
    "\n",
    "# when this is provided the plot is displayed in a contour plot"
   ]
  },
  {
   "cell_type": "code",
   "execution_count": null,
   "metadata": {},
   "outputs": [],
   "source": [
    "# the darker the blue the more the density"
   ]
  },
  {
   "cell_type": "code",
   "execution_count": 46,
   "metadata": {},
   "outputs": [
    {
     "data": {
      "text/plain": [
       "<AxesSubplot:xlabel='Vehicle_type', ylabel='Fuel_capacity'>"
      ]
     },
     "execution_count": 46,
     "metadata": {},
     "output_type": "execute_result"
    },
    {
     "data": {
      "image/png": "[encoded data removed]",
      "text/plain": [
       "<Figure size 432x288 with 1 Axes>"
      ]
     },
     "metadata": {
      "needs_background": "light"
     },
     "output_type": "display_data"
    }
   ],
   "source": [
    "#Box and Whiskers plot \n",
    "\n",
    "sns.boxplot(data = car, x = 'Vehicle_type', y = 'Fuel_capacity')"
   ]
  },
  {
   "cell_type": "code",
   "execution_count": null,
   "metadata": {},
   "outputs": [],
   "source": [
    "# box plot uses IQR\n",
    "# so if any value less than 25th percentile and greater than 75th percentile are my outliers\n",
    "# line is specifying where the mean is"
   ]
  },
  {
   "cell_type": "code",
   "execution_count": 47,
   "metadata": {},
   "outputs": [],
   "source": [
    "# violin plot"
   ]
  },
  {
   "cell_type": "code",
   "execution_count": null,
   "metadata": {},
   "outputs": [],
   "source": [
    "# diff is that violin plot gives me a bell curve"
   ]
  },
  {
   "cell_type": "code",
   "execution_count": 48,
   "metadata": {},
   "outputs": [
    {
     "data": {
      "text/plain": [
       "<AxesSubplot:xlabel='Vehicle_type', ylabel='Fuel_capacity'>"
      ]
     },
     "execution_count": 48,
     "metadata": {},
     "output_type": "execute_result"
    },
    {
     "data": {
      "image/png": "[encoded data removed]",
      "text/plain": [
       "<Figure size 432x288 with 1 Axes>"
      ]
     },
     "metadata": {
      "needs_background": "light"
     },
     "output_type": "display_data"
    }
   ],
   "source": [
    "sns.violinplot(data = car, x = 'Vehicle_type', y = 'Fuel_capacity')"
   ]
  },
  {
   "cell_type": "code",
   "execution_count": null,
   "metadata": {},
   "outputs": [],
   "source": []
  },
  {
   "cell_type": "code",
   "execution_count": null,
   "metadata": {},
   "outputs": [],
   "source": []
  },
  {
   "cell_type": "code",
   "execution_count": null,
   "metadata": {},
   "outputs": [],
   "source": []
  },
  {
   "cell_type": "code",
   "execution_count": null,
   "metadata": {},
   "outputs": [],
   "source": []
  },
  {
   "cell_type": "code",
   "execution_count": null,
   "metadata": {},
   "outputs": [],
   "source": []
  },
  {
   "cell_type": "code",
   "execution_count": null,
   "metadata": {},
   "outputs": [],
   "source": []
  }
 ],
 "metadata": {
  "kernelspec": {
   "display_name": "Python 3",
   "language": "python",
   "name": "python3"
  },
  "language_info": {
   "codemirror_mode": {
    "name": "ipython",
    "version": 3
   },
   "file_extension": ".py",
   "mimetype": "text/x-python",
   "name": "python",
   "nbconvert_exporter": "python",
   "pygments_lexer": "ipython3",
   "version": "3.6.9"
  }
 },
 "nbformat": 4,
 "nbformat_minor": 2
}
